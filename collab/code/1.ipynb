{
 "cells": [
  {
   "cell_type": "code",
   "execution_count": null,
   "id": "3d295053",
   "metadata": {},
   "outputs": [
    {
     "name": "stdout",
     "output_type": "stream",
     "text": [
      "Augmentation complete. Images saved to combined_dataset\\malignant_augmented\n"
     ]
    }
   ],
   "source": [
    "import os\n",
    "from tensorflow.keras.preprocessing.image import ImageDataGenerator, img_to_array, load_img\n",
    "\n",
    "source_dir = os.path.join(\"combined_dataset\", \"MALIGNANT\")\n",
    "augmented_dir = os.path.join(\"combined_dataset\", \"malignant_augmented\")\n",
    "os.makedirs(augmented_dir, exist_ok=True)\n",
    "\n",
    "# Image augmentation settings\n",
    "augmentor = ImageDataGenerator(\n",
    "    rotation_range=20,\n",
    "    zoom_range=0.15,\n",
    "    width_shift_range=0.1,\n",
    "    height_shift_range=0.1,\n",
    "    shear_range=0.15,\n",
    "    horizontal_flip=True,\n",
    "    fill_mode=\"nearest\"\n",
    ")\n",
    "\n",
    "# Number of augmentations per image\n",
    "augment_count = 4\n",
    "\n",
    "for fname in os.listdir(source_dir):\n",
    "    if fname.lower().endswith(('.jpg', '.jpeg', '.png')):\n",
    "        img_path = os.path.join(source_dir, fname)\n",
    "        image = load_img(img_path, target_size=(224, 224))  # Resize as needed\n",
    "        image_array = img_to_array(image)\n",
    "        image_array = image_array.reshape((1,) + image_array.shape)\n",
    "\n",
    "        i = 0\n",
    "        for batch in augmentor.flow(\n",
    "            image_array,\n",
    "            batch_size=1,\n",
    "            save_to_dir=augmented_dir,\n",
    "            save_prefix=\"IMG\",\n",
    "            save_format=\"jpg\"\n",
    "        ):\n",
    "            i += 1\n",
    "            if i >= augment_count:\n",
    "                break\n",
    "\n",
    "print(f\"Augmentation complete. Images saved to {augmented_dir}\")\n"
   ]
  },
  {
   "cell_type": "code",
   "execution_count": 15,
   "id": "799744a6",
   "metadata": {},
   "outputs": [
    {
     "name": "stdout",
     "output_type": "stream",
     "text": [
      " benign  9528\n",
      " malignant_augmented  8692\n",
      " MALIGNANT_OG  2455\n"
     ]
    },
    {
     "ename": "NotADirectoryError",
     "evalue": "[WinError 267] The directory name is invalid: 'combined_dataset\\\\metadata.csv'",
     "output_type": "error",
     "traceback": [
      "\u001b[1;31m---------------------------------------------------------------------------\u001b[0m",
      "\u001b[1;31mNotADirectoryError\u001b[0m                        Traceback (most recent call last)",
      "Cell \u001b[1;32mIn[15], line 4\u001b[0m\n\u001b[0;32m      1\u001b[0m number_of_images \u001b[38;5;241m=\u001b[39m {}\n\u001b[0;32m      3\u001b[0m \u001b[38;5;28;01mfor\u001b[39;00m \u001b[38;5;28mdir\u001b[39m \u001b[38;5;129;01min\u001b[39;00m os\u001b[38;5;241m.\u001b[39mlistdir(\u001b[38;5;124m\"\u001b[39m\u001b[38;5;124mcombined_dataset\u001b[39m\u001b[38;5;124m\"\u001b[39m):\n\u001b[1;32m----> 4\u001b[0m    number_of_images[\u001b[38;5;28mdir\u001b[39m] \u001b[38;5;241m=\u001b[39m \u001b[38;5;28mlen\u001b[39m(\u001b[43mos\u001b[49m\u001b[38;5;241;43m.\u001b[39;49m\u001b[43mlistdir\u001b[49m\u001b[43m(\u001b[49m\u001b[43mos\u001b[49m\u001b[38;5;241;43m.\u001b[39;49m\u001b[43mpath\u001b[49m\u001b[38;5;241;43m.\u001b[39;49m\u001b[43mjoin\u001b[49m\u001b[43m(\u001b[49m\u001b[38;5;124;43m\"\u001b[39;49m\u001b[38;5;124;43mcombined_dataset\u001b[39;49m\u001b[38;5;124;43m\"\u001b[39;49m\u001b[43m,\u001b[49m\u001b[38;5;28;43mdir\u001b[39;49m\u001b[43m)\u001b[49m\u001b[43m)\u001b[49m)\n\u001b[0;32m      5\u001b[0m    \u001b[38;5;28mprint\u001b[39m(\u001b[38;5;124m\"\u001b[39m\u001b[38;5;124m\"\u001b[39m,\u001b[38;5;28mdir\u001b[39m,\u001b[38;5;124m\"\u001b[39m\u001b[38;5;124m\"\u001b[39m ,number_of_images[\u001b[38;5;28mdir\u001b[39m])\n",
      "\u001b[1;31mNotADirectoryError\u001b[0m: [WinError 267] The directory name is invalid: 'combined_dataset\\\\metadata.csv'"
     ]
    }
   ],
   "source": [
    "number_of_images = {}\n",
    "\n",
    "for dir in os.listdir(\"combined_dataset\"):\n",
    "   number_of_images[dir] = len(os.listdir(os.path.join(\"combined_dataset\",dir)))\n",
    "   print(\"\",dir,\"\" ,number_of_images[dir])"
   ]
  },
  {
   "cell_type": "code",
   "execution_count": null,
   "id": "bf0c6bbb",
   "metadata": {},
   "outputs": [
    {
     "name": "stdout",
     "output_type": "stream",
     "text": [
      "Dataset successfully split into train, test, and val folders.\n"
     ]
    }
   ],
   "source": [
    "import os\n",
    "import shutil\n",
    "import random\n",
    "\n",
    "combined_dir = \"combined_dataset\"\n",
    "malignant_dirs = [\"malignant_augmented\"]\n",
    "benign_dir = \"benign\"\n",
    "\n",
    "output_base = \"final_dataset\"\n",
    "splits = ['train', 'test', 'val']\n",
    "split_ratios = {'train': 0.7, 'test': 0.15, 'val': 0.15}\n",
    "os.makedirs(output_base, exist_ok=True)\n",
    "\n",
    "for split in splits:\n",
    "    for label in ['benign', 'malignant']:\n",
    "        os.makedirs(os.path.join(output_base, split, label), exist_ok=True)\n",
    "\n",
    "def collect_images(folder):\n",
    "    return [os.path.join(folder, fname) for fname in os.listdir(folder) if fname.lower().endswith(('.jpg', '.jpeg', '.png'))]\n",
    "\n",
    "benign_images = collect_images(os.path.join(combined_dir, benign_dir))\n",
    "malignant_images = []\n",
    "for m_dir in malignant_dirs:\n",
    "    malignant_images.extend(collect_images(os.path.join(combined_dir, m_dir)))\n",
    "\n",
    "random.shuffle(benign_images)\n",
    "random.shuffle(malignant_images)\n",
    "\n",
    "def split_and_copy(images, label):\n",
    "    total = len(images)\n",
    "    train_end = int(split_ratios['train'] * total)\n",
    "    test_end = train_end + int(split_ratios['test'] * total)\n",
    "\n",
    "    split_paths = {\n",
    "        'train': images[:train_end],\n",
    "        'test': images[train_end:test_end],\n",
    "        'val': images[test_end:]\n",
    "    }\n",
    "\n",
    "    for split, paths in split_paths.items():\n",
    "        for src_path in paths:\n",
    "            fname = os.path.basename(src_path)\n",
    "            dest_path = os.path.join(output_base, split, label, fname)\n",
    "            shutil.copy(src_path, dest_path)\n",
    "\n",
    "split_and_copy(benign_images, 'benign')\n",
    "split_and_copy(malignant_images, 'malignant')\n",
    "\n",
    "print(\"Dataset successfully split into train, test, and val folders.\")\n"
   ]
  },
  {
   "cell_type": "code",
   "execution_count": 23,
   "id": "3890a5d4",
   "metadata": {},
   "outputs": [
    {
     "name": "stdout",
     "output_type": "stream",
     "text": [
      "Found 12753 images belonging to 2 classes.\n",
      "Found 2735 images belonging to 2 classes.\n",
      "Found 2732 images belonging to 2 classes.\n",
      "Epoch 1/20\n",
      "399/399 [==============================] - 378s 943ms/step - loss: 0.5110 - accuracy: 0.7524 - val_loss: 0.4065 - val_accuracy: 0.8307\n",
      "Epoch 2/20\n",
      "399/399 [==============================] - 170s 426ms/step - loss: 0.4150 - accuracy: 0.8131 - val_loss: 0.3732 - val_accuracy: 0.8537\n",
      "Epoch 3/20\n",
      "399/399 [==============================] - 305s 765ms/step - loss: 0.3873 - accuracy: 0.8281 - val_loss: 0.3616 - val_accuracy: 0.8574\n",
      "Epoch 4/20\n",
      "399/399 [==============================] - 204s 510ms/step - loss: 0.3687 - accuracy: 0.8382 - val_loss: 0.3465 - val_accuracy: 0.8618\n",
      "Epoch 5/20\n",
      "399/399 [==============================] - 163s 408ms/step - loss: 0.3584 - accuracy: 0.8407 - val_loss: 0.3577 - val_accuracy: 0.8596\n",
      "Epoch 6/20\n",
      "399/399 [==============================] - 167s 420ms/step - loss: 0.3466 - accuracy: 0.8466 - val_loss: 0.3534 - val_accuracy: 0.8611\n",
      "Epoch 7/20\n",
      "399/399 [==============================] - 162s 406ms/step - loss: 0.3433 - accuracy: 0.8496 - val_loss: 0.3539 - val_accuracy: 0.8611\n",
      "Epoch 8/20\n",
      "399/399 [==============================] - 170s 427ms/step - loss: 0.3349 - accuracy: 0.8491 - val_loss: 0.3398 - val_accuracy: 0.8640\n",
      "Epoch 9/20\n",
      "399/399 [==============================] - 171s 429ms/step - loss: 0.3390 - accuracy: 0.8505 - val_loss: 0.3418 - val_accuracy: 0.8640\n",
      "Epoch 10/20\n",
      "399/399 [==============================] - 166s 416ms/step - loss: 0.3332 - accuracy: 0.8551 - val_loss: 0.3552 - val_accuracy: 0.8622\n",
      "Epoch 11/20\n",
      "399/399 [==============================] - 164s 410ms/step - loss: 0.3292 - accuracy: 0.8567 - val_loss: 0.3240 - val_accuracy: 0.8684\n",
      "Epoch 12/20\n",
      "399/399 [==============================] - 161s 404ms/step - loss: 0.3220 - accuracy: 0.8593 - val_loss: 0.3389 - val_accuracy: 0.8647\n",
      "Epoch 13/20\n",
      "399/399 [==============================] - 160s 400ms/step - loss: 0.3267 - accuracy: 0.8563 - val_loss: 0.3394 - val_accuracy: 0.8644\n",
      "Epoch 14/20\n",
      "399/399 [==============================] - 163s 409ms/step - loss: 0.3219 - accuracy: 0.8575 - val_loss: 0.3397 - val_accuracy: 0.8665\n",
      "Epoch 15/20\n",
      "399/399 [==============================] - 161s 402ms/step - loss: 0.3272 - accuracy: 0.8534 - val_loss: 0.3311 - val_accuracy: 0.8680\n",
      "Epoch 16/20\n",
      "399/399 [==============================] - 162s 405ms/step - loss: 0.3195 - accuracy: 0.8568 - val_loss: 0.3330 - val_accuracy: 0.8669\n",
      "86/86 [==============================] - 41s 476ms/step - loss: 0.3265 - accuracy: 0.8664\n",
      "Test Accuracy: 86.64%\n",
      "86/86 [==============================] - 22s 249ms/step\n",
      "              precision    recall  f1-score   support\n",
      "\n",
      "      benign       0.81      0.97      0.88      1429\n",
      "   malignant       0.96      0.75      0.84      1303\n",
      "\n",
      "    accuracy                           0.87      2732\n",
      "   macro avg       0.88      0.86      0.86      2732\n",
      "weighted avg       0.88      0.87      0.86      2732\n",
      "\n"
     ]
    }
   ],
   "source": [
    "import os\n",
    "import tensorflow as tf\n",
    "from tensorflow.keras.preprocessing.image import ImageDataGenerator\n",
    "from tensorflow.keras.applications import MobileNetV2\n",
    "from tensorflow.keras.models import Model\n",
    "from tensorflow.keras.layers import Dense, GlobalAveragePooling2D, Dropout\n",
    "from tensorflow.keras.optimizers import Adam\n",
    "from tensorflow.keras.callbacks import EarlyStopping, ModelCheckpoint\n",
    "from sklearn.metrics import classification_report, confusion_matrix\n",
    "\n",
    "output_base = \"final_dataset\"\n",
    "base_dir = output_base\n",
    "train_dir = os.path.join(base_dir, \"train\")\n",
    "val_dir = os.path.join(base_dir, \"val\")\n",
    "test_dir = os.path.join(base_dir, \"test\")\n",
    "\n",
    "# Parameters\n",
    "IMG_SIZE = (224, 224)\n",
    "BATCH_SIZE = 32\n",
    "EPOCHS = 20\n",
    "LEARNING_RATE = 1e-4\n",
    "\n",
    "# Image Data Generators\n",
    "train_aug = ImageDataGenerator(\n",
    "    rescale=1./255,\n",
    "    rotation_range=20,\n",
    "    zoom_range=0.2,\n",
    "    horizontal_flip=True,\n",
    "    width_shift_range=0.1,\n",
    "    height_shift_range=0.1\n",
    ")\n",
    "\n",
    "val_test_aug = ImageDataGenerator(rescale=1./255)\n",
    "\n",
    "train_gen = train_aug.flow_from_directory(\n",
    "    train_dir, target_size=IMG_SIZE, batch_size=BATCH_SIZE, class_mode=\"binary\"\n",
    ")\n",
    "\n",
    "val_gen = val_test_aug.flow_from_directory(\n",
    "    val_dir, target_size=IMG_SIZE, batch_size=BATCH_SIZE, class_mode=\"binary\"\n",
    ")\n",
    "\n",
    "test_gen = val_test_aug.flow_from_directory(\n",
    "    test_dir, target_size=IMG_SIZE, batch_size=BATCH_SIZE, class_mode=\"binary\", shuffle=False\n",
    ")\n",
    "\n",
    "# Build Model\n",
    "base_model = MobileNetV2(input_shape=IMG_SIZE + (3,), include_top=False, weights=\"imagenet\")\n",
    "base_model.trainable = False  # Freeze base\n",
    "\n",
    "x = base_model.output\n",
    "x = GlobalAveragePooling2D()(x)\n",
    "x = Dropout(0.3)(x)\n",
    "output = Dense(1, activation=\"sigmoid\")(x)\n",
    "\n",
    "model = Model(inputs=base_model.input, outputs=output)\n",
    "model.compile(optimizer=Adam(learning_rate=LEARNING_RATE), loss=\"binary_crossentropy\", metrics=[\"accuracy\"])\n",
    "\n",
    "# Callbacks\n",
    "checkpoint_path = \"best_mobilenet_model.h5\"\n",
    "callbacks = [\n",
    "    EarlyStopping(monitor='val_loss', patience=5, restore_best_weights=True),\n",
    "    ModelCheckpoint(checkpoint_path, monitor='val_loss', save_best_only=True)\n",
    "]\n",
    "\n",
    "# Train\n",
    "history = model.fit(\n",
    "    train_gen,\n",
    "    epochs=EPOCHS,\n",
    "    validation_data=val_gen,\n",
    "    callbacks=callbacks\n",
    ")\n",
    "\n",
    "# Evaluate\n",
    "loss, acc = model.evaluate(test_gen)\n",
    "print(f\"Test Accuracy: {acc*100:.2f}%\")\n",
    "\n",
    "# Classification Report\n",
    "preds = model.predict(test_gen)\n",
    "y_pred = (preds > 0.5).astype(\"int32\")\n",
    "y_true = test_gen.classes\n",
    "print(classification_report(y_true, y_pred, target_names=test_gen.class_indices.keys()))\n"
   ]
  },
  {
   "cell_type": "code",
   "execution_count": null,
   "id": "38fd9001",
   "metadata": {},
   "outputs": [
    {
     "name": "stdout",
     "output_type": "stream",
     "text": [
      "86/86 [==============================] - 21s 241ms/step\n",
      "AUC Score: 0.9391\n"
     ]
    },
    {
     "data": {
      "image/png": "[encoded data removed]",
      "text/plain": [
       "<Figure size 800x600 with 1 Axes>"
      ]
     },
     "metadata": {},
     "output_type": "display_data"
    }
   ],
   "source": [
    "import matplotlib.pyplot as plt\n",
    "from sklearn.metrics import roc_auc_score, roc_curve\n",
    "\n",
    "y_probs = model.predict(test_gen)\n",
    "y_true = test_gen.classes\n",
    "\n",
    "\n",
    "auc_score = roc_auc_score(y_true, y_probs)\n",
    "print(f\"AUC Score: {auc_score:.4f}\")\n",
    "\n",
    "fpr, tpr, thresholds = roc_curve(y_true, y_probs)\n",
    "\n",
    "# Plot ROC curve\n",
    "plt.figure(figsize=(8,6))\n",
    "plt.plot(fpr, tpr, label=f'AUC = {auc_score:.4f}', color='blue')\n",
    "plt.plot([0, 1], [0, 1], 'k--', label='Random Guess')\n",
    "plt.xlabel('False Positive Rate')\n",
    "plt.ylabel('True Positive Rate')\n",
    "plt.title('Receiver Operating Characteristic (ROC) Curve')\n",
    "plt.legend(loc='lower right')\n",
    "plt.grid(True)\n",
    "plt.show()\n"
   ]
  },
  {
   "cell_type": "code",
   "execution_count": null,
   "id": "a2ec1fce",
   "metadata": {},
   "outputs": [
    {
     "name": "stderr",
     "output_type": "stream",
     "text": [
      "WARNING:absl:Found untraced functions such as _jit_compiled_convolution_op, _jit_compiled_convolution_op, _jit_compiled_convolution_op, _jit_compiled_convolution_op, _jit_compiled_convolution_op while saving (showing 5 of 53). These functions will not be directly callable after loading.\n"
     ]
    },
    {
     "name": "stdout",
     "output_type": "stream",
     "text": [
      "INFO:tensorflow:Assets written to: C:\\Users\\lenovo\\AppData\\Local\\Temp\\tmpeh_cjzdq\\assets\n"
     ]
    },
    {
     "name": "stderr",
     "output_type": "stream",
     "text": [
      "INFO:tensorflow:Assets written to: C:\\Users\\lenovo\\AppData\\Local\\Temp\\tmpeh_cjzdq\\assets\n"
     ]
    },
    {
     "name": "stdout",
     "output_type": "stream",
     "text": [
      "Model converted and saved as mobilenet_skin_classifier.tflite\n"
     ]
    }
   ],
   "source": [
    "import tensorflow as tf\n",
    "\n",
    "model = tf.keras.models.load_model(\"best_mobilenet_model.h5\")\n",
    "\n",
    "converter = tf.lite.TFLiteConverter.from_keras_model(model)\n",
    "tflite_model = converter.convert()\n",
    "\n",
    "# Save the TFLite model\n",
    "with open(\"mobilenet_skin_classifier.tflite\", \"wb\") as f:\n",
    "    f.write(tflite_model)\n",
    "\n",
    "print(\"Model converted and saved as mobilenet_skin_classifier.tflite\")\n"
   ]
  },
  {
   "cell_type": "code",
   "execution_count": 26,
   "id": "b1da2fc4",
   "metadata": {},
   "outputs": [
    {
     "name": "stdout",
     "output_type": "stream",
     "text": [
      "{'benign': 0, 'malignant': 1}\n"
     ]
    }
   ],
   "source": [
    "print(train_gen.class_indices)\n"
   ]
  },
  {
   "cell_type": "code",
   "execution_count": null,
   "id": "3aab79d8",
   "metadata": {},
   "outputs": [
    {
     "name": "stdout",
     "output_type": "stream",
     "text": [
      "WARNING:tensorflow:5 out of the last 176 calls to <function Model.make_predict_function.<locals>.predict_function at 0x00000160276F7490> triggered tf.function retracing. Tracing is expensive and the excessive number of tracings could be due to (1) creating @tf.function repeatedly in a loop, (2) passing tensors with different shapes, (3) passing Python objects instead of tensors. For (1), please define your @tf.function outside of the loop. For (2), @tf.function has reduce_retracing=True option that can avoid unnecessary retracing. For (3), please refer to https://www.tensorflow.org/guide/function#controlling_retracing and https://www.tensorflow.org/api_docs/python/tf/function for  more details.\n"
     ]
    },
    {
     "name": "stderr",
     "output_type": "stream",
     "text": [
      "WARNING:tensorflow:5 out of the last 176 calls to <function Model.make_predict_function.<locals>.predict_function at 0x00000160276F7490> triggered tf.function retracing. Tracing is expensive and the excessive number of tracings could be due to (1) creating @tf.function repeatedly in a loop, (2) passing tensors with different shapes, (3) passing Python objects instead of tensors. For (1), please define your @tf.function outside of the loop. For (2), @tf.function has reduce_retracing=True option that can avoid unnecessary retracing. For (3), please refer to https://www.tensorflow.org/guide/function#controlling_retracing and https://www.tensorflow.org/api_docs/python/tf/function for  more details.\n"
     ]
    },
    {
     "name": "stdout",
     "output_type": "stream",
     "text": [
      "86/86 [==============================] - 22s 243ms/step\n",
      "Optimal threshold: 0.3943\n"
     ]
    }
   ],
   "source": [
    "from sklearn.metrics import roc_curve\n",
    "\n",
    "y_probs = model.predict(test_gen)  \n",
    "y_true = test_gen.classes           \n",
    "\n",
    "fpr, tpr, thresholds = roc_curve(y_true, y_probs)\n",
    "\n",
    "# Find the threshold that gives best TPR-FPR (Youden's index)\n",
    "optimal_idx = (tpr - fpr).argmax()\n",
    "optimal_threshold = thresholds[optimal_idx]\n",
    "\n",
    "print(f\"Optimal threshold: {optimal_threshold:.4f}\")\n"
   ]
  },
  {
   "cell_type": "code",
   "execution_count": 35,
   "id": "1bdceb76",
   "metadata": {},
   "outputs": [
    {
     "name": "stdout",
     "output_type": "stream",
     "text": [
      "1/1 [==============================] - 0s 412ms/step\n",
      "Predicted: benign (97.93% confidence)\n"
     ]
    }
   ],
   "source": [
    "import numpy as np\n",
    "from tensorflow.keras.preprocessing import image\n",
    "\n",
    "# Load the best model (just in case not already loaded)\n",
    "model = tf.keras.models.load_model(\"best_mobilenet_model.h5\")\n",
    "\n",
    "# Class labels (based on class_indices)\n",
    "class_labels = {0: 'benign', 1: 'malignant'}\n",
    "\n",
    "# Path to your test image\n",
    "img_path = 'combined_dataset/benign/IMG_15.jpg'\n",
    "\n",
    "# Load and preprocess the image\n",
    "img = image.load_img(img_path, target_size=(224, 224))\n",
    "img_array = image.img_to_array(img) / 255.0\n",
    "img_array = np.expand_dims(img_array, axis=0)\n",
    "\n",
    "# Predict\n",
    "prediction = model.predict(img_array)[0][0]\n",
    "\n",
    "# Show result\n",
    "label = class_labels[int(prediction > 0.3943)]\n",
    "confidence = prediction if prediction > 0.3943 else 1 - prediction\n",
    "print(f\"Predicted: {label} ({confidence*100:.2f}% confidence)\")\n"
   ]
  },
  {
   "cell_type": "code",
   "execution_count": null,
   "id": "f864ddb3",
   "metadata": {},
   "outputs": [
    {
     "name": "stdout",
     "output_type": "stream",
     "text": [
      "Found 12753 images belonging to 2 classes.\n",
      "Found 2735 images belonging to 2 classes.\n",
      "Found 2732 images belonging to 2 classes.\n",
      "Epoch 1/20\n",
      "399/399 [==============================] - 209s 516ms/step - loss: 0.5207 - accuracy: 0.7495 - val_loss: 0.3768 - val_accuracy: 0.8457\n",
      "Epoch 2/20\n",
      "399/399 [==============================] - 170s 425ms/step - loss: 0.3994 - accuracy: 0.8229 - val_loss: 0.3766 - val_accuracy: 0.8527\n",
      "Epoch 3/20\n",
      "399/399 [==============================] - 167s 419ms/step - loss: 0.3734 - accuracy: 0.8396 - val_loss: 0.3504 - val_accuracy: 0.8600\n",
      "Epoch 4/20\n",
      "399/399 [==============================] - 170s 425ms/step - loss: 0.3571 - accuracy: 0.8421 - val_loss: 0.3552 - val_accuracy: 0.8622\n",
      "Epoch 5/20\n",
      "399/399 [==============================] - 165s 413ms/step - loss: 0.3466 - accuracy: 0.8481 - val_loss: 0.3520 - val_accuracy: 0.8629\n",
      "Epoch 6/20\n",
      "399/399 [==============================] - 166s 416ms/step - loss: 0.3471 - accuracy: 0.8442 - val_loss: 0.3366 - val_accuracy: 0.8676\n",
      "Epoch 7/20\n",
      "399/399 [==============================] - 168s 420ms/step - loss: 0.3419 - accuracy: 0.8492 - val_loss: 0.3293 - val_accuracy: 0.8680\n",
      "Epoch 8/20\n",
      "399/399 [==============================] - 166s 415ms/step - loss: 0.3329 - accuracy: 0.8486 - val_loss: 0.3177 - val_accuracy: 0.8691\n",
      "Epoch 9/20\n",
      "399/399 [==============================] - 169s 424ms/step - loss: 0.3258 - accuracy: 0.8533 - val_loss: 0.3312 - val_accuracy: 0.8676\n",
      "Epoch 10/20\n",
      "399/399 [==============================] - 173s 433ms/step - loss: 0.3234 - accuracy: 0.8599 - val_loss: 0.3274 - val_accuracy: 0.8684\n",
      "Epoch 11/20\n",
      "399/399 [==============================] - 170s 427ms/step - loss: 0.3244 - accuracy: 0.8567 - val_loss: 0.3296 - val_accuracy: 0.8673\n",
      "Epoch 12/20\n",
      "399/399 [==============================] - 175s 440ms/step - loss: 0.3191 - accuracy: 0.8597 - val_loss: 0.3257 - val_accuracy: 0.8687\n",
      "Epoch 13/20\n",
      "399/399 [==============================] - 181s 452ms/step - loss: 0.3234 - accuracy: 0.8584 - val_loss: 0.3236 - val_accuracy: 0.8698\n",
      "86/86 [==============================] - 25s 289ms/step - loss: 0.3168 - accuracy: 0.8682\n",
      "Test Accuracy: 86.82%\n",
      "86/86 [==============================] - 25s 285ms/step\n",
      "              precision    recall  f1-score   support\n",
      "\n",
      "      benign       0.82      0.97      0.88      1429\n",
      "   malignant       0.95      0.76      0.85      1303\n",
      "\n",
      "    accuracy                           0.87      2732\n",
      "   macro avg       0.88      0.86      0.87      2732\n",
      "weighted avg       0.88      0.87      0.87      2732\n",
      "\n"
     ]
    }
   ],
   "source": [
    "import os\n",
    "import numpy as np\n",
    "import tensorflow as tf\n",
    "from tensorflow.keras.preprocessing.image import ImageDataGenerator\n",
    "from tensorflow.keras.applications import MobileNetV2\n",
    "from tensorflow.keras.models import Model\n",
    "from tensorflow.keras.layers import Dense, GlobalAveragePooling2D, Dropout\n",
    "from tensorflow.keras.optimizers import Adam\n",
    "from tensorflow.keras.callbacks import EarlyStopping, ModelCheckpoint\n",
    "from sklearn.metrics import classification_report, confusion_matrix\n",
    "\n",
    "# Paths\n",
    "output_base = \"final_dataset\"\n",
    "base_dir = output_base\n",
    "train_dir = os.path.join(base_dir, \"train\")\n",
    "val_dir = os.path.join(base_dir, \"val\")\n",
    "test_dir = os.path.join(base_dir, \"test\")\n",
    "\n",
    "# Parameters\n",
    "IMG_SIZE = (224, 224)\n",
    "BATCH_SIZE = 32\n",
    "EPOCHS = 20\n",
    "LEARNING_RATE = 1e-4\n",
    "NUM_CLASSES = 2  \n",
    "\n",
    "# Image Data Generators\n",
    "train_aug = ImageDataGenerator(\n",
    "    rescale=1./255,\n",
    "    rotation_range=20,\n",
    "    zoom_range=0.2,\n",
    "    horizontal_flip=True,\n",
    "    width_shift_range=0.1,\n",
    "    height_shift_range=0.1\n",
    ")\n",
    "\n",
    "val_test_aug = ImageDataGenerator(rescale=1./255)\n",
    "\n",
    "train_gen = train_aug.flow_from_directory(\n",
    "    train_dir,\n",
    "    target_size=IMG_SIZE,\n",
    "    batch_size=BATCH_SIZE,\n",
    "    class_mode=\"categorical\"\n",
    ")\n",
    "\n",
    "val_gen = val_test_aug.flow_from_directory(\n",
    "    val_dir,\n",
    "    target_size=IMG_SIZE,\n",
    "    batch_size=BATCH_SIZE,\n",
    "    class_mode=\"categorical\"\n",
    ")\n",
    "\n",
    "test_gen = val_test_aug.flow_from_directory(\n",
    "    test_dir,\n",
    "    target_size=IMG_SIZE,\n",
    "    batch_size=BATCH_SIZE,\n",
    "    class_mode=\"categorical\",\n",
    "    shuffle=False\n",
    ")\n",
    "\n",
    "# Build Model\n",
    "base_model = MobileNetV2(input_shape=IMG_SIZE + (3,), include_top=False, weights=\"imagenet\")\n",
    "base_model.trainable = False\n",
    "\n",
    "x = base_model.output\n",
    "x = GlobalAveragePooling2D()(x)\n",
    "x = Dropout(0.3)(x)\n",
    "output = Dense(NUM_CLASSES, activation=\"softmax\")(x)\n",
    "\n",
    "model = Model(inputs=base_model.input, outputs=output)\n",
    "model.compile(optimizer=Adam(learning_rate=LEARNING_RATE), loss=\"categorical_crossentropy\", metrics=[\"accuracy\"])\n",
    "\n",
    "# Callbacks\n",
    "checkpoint_path = \"best_mobilenet_model_softmax.h5\"\n",
    "callbacks = [\n",
    "    EarlyStopping(monitor='val_loss', patience=5, restore_best_weights=True),\n",
    "    ModelCheckpoint(checkpoint_path, monitor='val_loss', save_best_only=True)\n",
    "]\n",
    "\n",
    "# Train\n",
    "history = model.fit(\n",
    "    train_gen,\n",
    "    epochs=EPOCHS,\n",
    "    validation_data=val_gen,\n",
    "    callbacks=callbacks\n",
    ")\n",
    "\n",
    "# Evaluate\n",
    "loss, acc = model.evaluate(test_gen)\n",
    "print(f\"Test Accuracy: {acc*100:.2f}%\")\n",
    "\n",
    "# Predict\n",
    "preds = model.predict(test_gen)\n",
    "y_pred = np.argmax(preds, axis=1)\n",
    "y_true = test_gen.classes\n",
    "\n",
    "# Report\n",
    "print(classification_report(y_true, y_pred, target_names=list(test_gen.class_indices.keys())))\n"
   ]
  },
  {
   "cell_type": "code",
   "execution_count": 37,
   "id": "147c5e17",
   "metadata": {},
   "outputs": [
    {
     "name": "stderr",
     "output_type": "stream",
     "text": [
      "WARNING:absl:Found untraced functions such as _jit_compiled_convolution_op, _jit_compiled_convolution_op, _jit_compiled_convolution_op, _jit_compiled_convolution_op, _jit_compiled_convolution_op while saving (showing 5 of 53). These functions will not be directly callable after loading.\n"
     ]
    },
    {
     "name": "stdout",
     "output_type": "stream",
     "text": [
      "INFO:tensorflow:Assets written to: C:\\Users\\lenovo\\AppData\\Local\\Temp\\tmpo8hsjrze\\assets\n"
     ]
    },
    {
     "name": "stderr",
     "output_type": "stream",
     "text": [
      "INFO:tensorflow:Assets written to: C:\\Users\\lenovo\\AppData\\Local\\Temp\\tmpo8hsjrze\\assets\n"
     ]
    },
    {
     "name": "stdout",
     "output_type": "stream",
     "text": [
      "Model converted and saved as mobilenet_softmax_model.tflite\n"
     ]
    }
   ],
   "source": [
    "model = tf.keras.models.load_model(\"best_mobilenet_model_softmax.h5\")\n",
    "\n",
    "\n",
    "converter = tf.lite.TFLiteConverter.from_keras_model(model)\n",
    "tflite_model = converter.convert()\n",
    "\n",
    "with open(\"mobilenet_softmax_model.tflite\", \"wb\") as f:\n",
    "    f.write(tflite_model)\n",
    "\n",
    "print(\"Model converted and saved as mobilenet_softmax_model.tflite\")\n"
   ]
  },
  {
   "cell_type": "code",
   "execution_count": 39,
   "id": "2b75ae44",
   "metadata": {},
   "outputs": [
    {
     "name": "stdout",
     "output_type": "stream",
     "text": [
      "AUC Score: 0.9408\n"
     ]
    },
    {
     "data": {
      "image/png": "[encoded data removed]",
      "text/plain": [
       "<Figure size 800x600 with 1 Axes>"
      ]
     },
     "metadata": {},
     "output_type": "display_data"
    }
   ],
   "source": [
    "from sklearn.metrics import roc_curve, auc\n",
    "import matplotlib.pyplot as plt\n",
    "\n",
    "# Use predicted probabilities for class 1\n",
    "# preds already computed in previous code\n",
    "y_score = preds[:, 1]  # probability of class 1\n",
    "y_true = test_gen.classes\n",
    "\n",
    "# Compute ROC curve and AUC\n",
    "fpr, tpr, _ = roc_curve(y_true, y_score)\n",
    "roc_auc = auc(fpr, tpr)\n",
    "\n",
    "# Print AUC Score\n",
    "print(f\"AUC Score: {roc_auc:.4f}\")\n",
    "\n",
    "# Plot ROC Curve\n",
    "plt.figure(figsize=(8,6))\n",
    "plt.plot(fpr, tpr, color='darkorange', lw=2, label=f'ROC curve (AUC = {roc_auc:.4f})')\n",
    "plt.plot([0, 1], [0, 1], color='navy', lw=2, linestyle='--')\n",
    "plt.xlabel('False Positive Rate')\n",
    "plt.ylabel('True Positive Rate')\n",
    "plt.title('Receiver Operating Characteristic (ROC) Curve')\n",
    "plt.legend(loc='lower right')\n",
    "plt.grid(True)\n",
    "plt.show()\n"
   ]
  },
  {
   "cell_type": "code",
   "execution_count": null,
   "id": "e4be387c",
   "metadata": {},
   "outputs": [
    {
     "name": "stdout",
     "output_type": "stream",
     "text": [
      "WARNING:tensorflow:5 out of the last 92 calls to <function Model.make_predict_function.<locals>.predict_function at 0x000001603605AF80> triggered tf.function retracing. Tracing is expensive and the excessive number of tracings could be due to (1) creating @tf.function repeatedly in a loop, (2) passing tensors with different shapes, (3) passing Python objects instead of tensors. For (1), please define your @tf.function outside of the loop. For (2), @tf.function has reduce_retracing=True option that can avoid unnecessary retracing. For (3), please refer to https://www.tensorflow.org/guide/function#controlling_retracing and https://www.tensorflow.org/api_docs/python/tf/function for  more details.\n"
     ]
    },
    {
     "name": "stderr",
     "output_type": "stream",
     "text": [
      "WARNING:tensorflow:5 out of the last 92 calls to <function Model.make_predict_function.<locals>.predict_function at 0x000001603605AF80> triggered tf.function retracing. Tracing is expensive and the excessive number of tracings could be due to (1) creating @tf.function repeatedly in a loop, (2) passing tensors with different shapes, (3) passing Python objects instead of tensors. For (1), please define your @tf.function outside of the loop. For (2), @tf.function has reduce_retracing=True option that can avoid unnecessary retracing. For (3), please refer to https://www.tensorflow.org/guide/function#controlling_retracing and https://www.tensorflow.org/api_docs/python/tf/function for  more details.\n"
     ]
    },
    {
     "name": "stdout",
     "output_type": "stream",
     "text": [
      "86/86 [==============================] - 23s 258ms/step\n",
      "Optimal threshold: 0.3210\n",
      "AUC Score: 0.9408\n"
     ]
    },
    {
     "data": {
      "image/png": "[encoded data removed]",
      "text/plain": [
       "<Figure size 800x600 with 1 Axes>"
      ]
     },
     "metadata": {},
     "output_type": "display_data"
    }
   ],
   "source": [
    "import numpy as np\n",
    "from sklearn.metrics import roc_curve, auc\n",
    "import matplotlib.pyplot as plt\n",
    "\n",
    "y_pred_probs = model.predict(test_gen)  \n",
    "y_true = test_gen.classes  \n",
    "\n",
    "y_scores = y_pred_probs[:, 1]\n",
    "\n",
    "# === Compute ROC and AUC ===\n",
    "fpr, tpr, thresholds = roc_curve(y_true, y_scores)\n",
    "roc_auc = auc(fpr, tpr)\n",
    "\n",
    "J = tpr - fpr\n",
    "ix = np.argmax(J)\n",
    "best_thresh = thresholds[ix]\n",
    "\n",
    "# === Print and Plot ===\n",
    "print(f\"Optimal threshold: {best_thresh:.4f}\")\n",
    "print(f\"AUC Score: {roc_auc:.4f}\")\n",
    "\n",
    "plt.figure(figsize=(8, 6))\n",
    "plt.plot(fpr, tpr, label=f'ROC Curve (AUC = {roc_auc:.4f})')\n",
    "plt.plot([0, 1], [0, 1], 'k--')  \n",
    "plt.scatter(fpr[ix], tpr[ix], color='red', label=f'Best Threshold = {best_thresh:.4f}')\n",
    "plt.xlabel('False Positive Rate')\n",
    "plt.ylabel('True Positive Rate')\n",
    "plt.title('Receiver Operating Characteristic')\n",
    "plt.legend(loc=\"lower right\")\n",
    "plt.grid(True)\n",
    "plt.show()\n"
   ]
  },
  {
   "cell_type": "code",
   "execution_count": null,
   "id": "7f04654e",
   "metadata": {},
   "outputs": [
    {
     "name": "stdout",
     "output_type": "stream",
     "text": [
      "Optimal threshold: 0.3210\n"
     ]
    }
   ],
   "source": [
    "from sklearn.metrics import roc_curve\n",
    "\n",
    "fpr, tpr, thresholds = roc_curve(y_true, y_score)\n",
    "\n",
    "# Youden's J statistic\n",
    "j_scores = tpr - fpr\n",
    "optimal_idx = j_scores.argmax()\n",
    "optimal_threshold = thresholds[optimal_idx]\n",
    "\n",
    "print(f\"Optimal threshold: {optimal_threshold:.4f}\")\n"
   ]
  },
  {
   "cell_type": "code",
   "execution_count": 43,
   "id": "e5f358d5",
   "metadata": {},
   "outputs": [
    {
     "name": "stdout",
     "output_type": "stream",
     "text": [
      "{'benign': 0, 'malignant': 1}\n"
     ]
    }
   ],
   "source": [
    "print(test_gen.class_indices)\n"
   ]
  },
  {
   "cell_type": "code",
   "execution_count": 60,
   "id": "db991902",
   "metadata": {},
   "outputs": [
    {
     "name": "stdout",
     "output_type": "stream",
     "text": [
      "1/1 [==============================] - 0s 389ms/step\n",
      "Predicted class: malignant\n",
      "Malignant probability: 0.4638\n"
     ]
    }
   ],
   "source": [
    "import numpy as np\n",
    "from tensorflow.keras.preprocessing import image\n",
    "from tensorflow.keras.models import load_model\n",
    "\n",
    "# Load model\n",
    "model = load_model('best_mobilenet_model_softmax.h5')\n",
    "\n",
    "# img_path = 'combined_dataset/benign/IMG_15.jpg'\n",
    "img_path = 'combined_dataset/MALIGNANT_OG/IMG_8079.jpg'\n",
    "img = image.load_img(img_path, target_size=(224, 224))  # change size as per your model\n",
    "img_array = image.img_to_array(img)\n",
    "img_array = np.expand_dims(img_array, axis=0)  # shape: (1, H, W, 3)\n",
    "img_array = img_array / 255.0  # normalize if required by your training pipeline\n",
    "\n",
    "# Predict\n",
    "pred_probs = model.predict(img_array)[0]  # shape: (2,) because softmax\n",
    "malignant_prob = pred_probs[1]  # index 1 is usually for malignant\n",
    "\n",
    "# Use threshold\n",
    "threshold = 0.3210\n",
    "predicted_class = 1 if malignant_prob >= threshold else 0\n",
    "\n",
    "# Map class index to label\n",
    "class_indices = {0: 'benign', 1: 'malignant'}\n",
    "print(f\"Predicted class: {class_indices[predicted_class]}\")\n",
    "print(f\"Malignant probability: {malignant_prob:.4f}\")\n"
   ]
  }
 ],
 "metadata": {
  "kernelspec": {
   "display_name": "tenv",
   "language": "python",
   "name": "python3"
  },
  "language_info": {
   "codemirror_mode": {
    "name": "ipython",
    "version": 3
   },
   "file_extension": ".py",
   "mimetype": "text/x-python",
   "name": "python",
   "nbconvert_exporter": "python",
   "pygments_lexer": "ipython3",
   "version": "3.10.11"
  }
 },
 "nbformat": 4,
 "nbformat_minor": 5
}
