{
 "cells": [
  {
   "cell_type": "code",
   "execution_count": null,
   "id": "6aa4d089",
   "metadata": {
    "id": "6aa4d089"
   },
   "outputs": [],
   "source": [
    "!pip install torch torchvision pandas scikit-learn tqdm"
   ]
  },
  {
   "cell_type": "code",
   "execution_count": 1,
   "id": "898d6aee",
   "metadata": {
    "id": "898d6aee"
   },
   "outputs": [
    {
     "ename": "ModuleNotFoundError",
     "evalue": "No module named 'pandas'",
     "output_type": "error",
     "traceback": [
      "\u001b[1;31m---------------------------------------------------------------------------\u001b[0m",
      "\u001b[1;31mModuleNotFoundError\u001b[0m                       Traceback (most recent call last)",
      "Cell \u001b[1;32mIn[1], line 2\u001b[0m\n\u001b[0;32m      1\u001b[0m \u001b[38;5;28;01mimport\u001b[39;00m\u001b[38;5;250m \u001b[39m\u001b[38;5;21;01mos\u001b[39;00m\n\u001b[1;32m----> 2\u001b[0m \u001b[38;5;28;01mimport\u001b[39;00m\u001b[38;5;250m \u001b[39m\u001b[38;5;21;01mpandas\u001b[39;00m\u001b[38;5;250m \u001b[39m\u001b[38;5;28;01mas\u001b[39;00m\u001b[38;5;250m \u001b[39m\u001b[38;5;21;01mpd\u001b[39;00m\n\u001b[0;32m      3\u001b[0m \u001b[38;5;28;01mimport\u001b[39;00m\u001b[38;5;250m \u001b[39m\u001b[38;5;21;01mtorch\u001b[39;00m\n\u001b[0;32m      4\u001b[0m \u001b[38;5;28;01mfrom\u001b[39;00m\u001b[38;5;250m \u001b[39m\u001b[38;5;21;01mtorch\u001b[39;00m\u001b[38;5;21;01m.\u001b[39;00m\u001b[38;5;21;01mutils\u001b[39;00m\u001b[38;5;21;01m.\u001b[39;00m\u001b[38;5;21;01mdata\u001b[39;00m\u001b[38;5;250m \u001b[39m\u001b[38;5;28;01mimport\u001b[39;00m Dataset, DataLoader\n",
      "\u001b[1;31mModuleNotFoundError\u001b[0m: No module named 'pandas'"
     ]
    }
   ],
   "source": [
    "\n",
    "import os\n",
    "import pandas as pd\n",
    "import torch\n",
    "from torch.utils.data import Dataset, DataLoader\n",
    "from torchvision import transforms, models\n",
    "from PIL import Image\n",
    "from sklearn.model_selection import train_test_split\n",
    "from sklearn.metrics import classification_report\n",
    "import torch.nn as nn\n",
    "import torch.optim as optim\n",
    "from tqdm import tqdm\n"
   ]
  },
  {
   "cell_type": "code",
   "execution_count": null,
   "id": "t7NBgMYvQPxA",
   "metadata": {
    "id": "t7NBgMYvQPxA"
   },
   "outputs": [],
   "source": [
    "# from google.colab import drive\n",
    "# drive.mount('/content/drive')\n",
    "import zipfile\n",
    "\n",
    "zip_path = \"/content/drive/MyDrive/images2.zip\"\n",
    "extract_path = \"/content\"\n",
    "\n",
    "with zipfile.ZipFile(zip_path, 'r') as zip_ref:\n",
    "    zip_ref.extractall(extract_path)"
   ]
  },
  {
   "cell_type": "code",
   "execution_count": null,
   "id": "7a5390c5",
   "metadata": {
    "id": "7a5390c5"
   },
   "outputs": [],
   "source": [
    "\n",
    "class FitzpatrickDataset(Dataset):\n",
    "    def __init__(self, dataframe, image_dir, transform=None):\n",
    "        self.df = dataframe\n",
    "        self.image_dir = image_dir\n",
    "        self.transform = transform\n",
    "\n",
    "    def __len__(self):\n",
    "        return len(self.df)\n",
    "\n",
    "    def __getitem__(self, idx):\n",
    "        row = self.df.iloc[idx]\n",
    "        image_path = os.path.join(self.image_dir, f\"{row['md5hash']}.jpg\")\n",
    "        label = int(row['fitzpatrick_scale']) - 1  # 0-indexed classes\n",
    "        image = Image.open(image_path).convert(\"RGB\")\n",
    "        if self.transform:\n",
    "            image = self.transform(image)\n",
    "        return image, label\n"
   ]
  },
  {
   "cell_type": "code",
   "execution_count": null,
   "id": "213cf46a",
   "metadata": {
    "colab": {
     "base_uri": "https://localhost:8080/"
    },
    "executionInfo": {
     "elapsed": 1383315,
     "status": "ok",
     "timestamp": 1754283961052,
     "user": {
      "displayName": "ADVI Technical Head",
      "userId": "08542020955051584472"
     },
     "user_tz": -330
    },
    "id": "213cf46a",
    "outputId": "f2748c72-21ed-4ef8-c8a8-362277d20621"
   },
   "outputs": [
    {
     "name": "stdout",
     "output_type": "stream",
     "text": [
      "=== DEBUG INFORMATION ===\n",
      "Platform: Linux\n",
      "PyTorch version: 2.6.0+cu124\n",
      "Using device: cpu\n",
      "\n",
      "=== LOADING DATA ===\n",
      "Total images found: 16518\n",
      "Original dataset size: 16518\n",
      "Filtered dataset size: 15956\n",
      "Class distribution:\n",
      "fitzpatrick_scale\n",
      "1    2941\n",
      "2    4795\n",
      "3    3294\n",
      "4    2771\n",
      "5    1527\n",
      "6     628\n",
      "Name: count, dtype: int64\n",
      "Train size: 12764, Validation size: 3192\n",
      "Image directory: images\n",
      "\n",
      "=== CREATING DATASETS ===\n",
      "Dataset creation took: 0.000 seconds\n",
      "\n",
      "=== TESTING SINGLE SAMPLE ===\n",
      "Single sample load time: 0.057 seconds\n",
      "Sample image shape: torch.Size([3, 224, 224])\n",
      "Sample label: 2\n",
      "\n",
      "Using num_workers: 2\n",
      "Using batch_size: 16\n",
      "\n",
      "=== TESTING DATALOADER ===\n",
      "First batch load time: 0.327 seconds\n",
      "Batch input shape: torch.Size([16, 3, 224, 224])\n",
      "Batch labels shape: torch.Size([16])\n",
      "\n",
      "=== CREATING MODEL ===\n"
     ]
    },
    {
     "name": "stderr",
     "output_type": "stream",
     "text": [
      "Downloading: \"https://download.pytorch.org/models/efficientnet_b0_rwightman-7f5810bc.pth\" to /root/.cache/torch/hub/checkpoints/efficientnet_b0_rwightman-7f5810bc.pth\n",
      "100%|██████████| 20.5M/20.5M [00:00<00:00, 125MB/s] \n"
     ]
    },
    {
     "name": "stdout",
     "output_type": "stream",
     "text": [
      "Original classifier features: 1280\n",
      "Modified classifier output features: 6\n",
      "Model creation and transfer took: 0.426 seconds\n",
      "Total parameters: 4,015,234\n",
      "Trainable parameters: 4,015,234\n",
      "\n",
      "Total setup time: 1.2 seconds\n",
      "\n",
      "=== STARTING TRAINING ===\n",
      "Starting training with 798 training batches\n",
      "Training dataset size: 12764\n",
      "Validation dataset size: 3192\n",
      "\n",
      "Epoch 1/5\n"
     ]
    },
    {
     "name": "stderr",
     "output_type": "stream",
     "text": [
      "\rTraining:   0%|          | 0/798 [00:00<?, ?it/s]"
     ]
    },
    {
     "name": "stdout",
     "output_type": "stream",
     "text": [
      "\n",
      "Batch 0/798\n",
      "Input shape: torch.Size([16, 3, 224, 224])\n",
      "Labels shape: torch.Size([16])\n"
     ]
    },
    {
     "name": "stderr",
     "output_type": "stream",
     "text": [
      "\rTraining:   0%|          | 1/798 [00:06<1:27:21,  6.58s/it]"
     ]
    },
    {
     "name": "stdout",
     "output_type": "stream",
     "text": [
      "\n",
      "Batch 0 timing:\n",
      "  Data transfer: 0.000s\n",
      "  Forward pass: 3.079s\n",
      "  Backward pass: 3.119s\n",
      "  Total batch: 6.199s\n",
      "  Loss: 1.8143\n"
     ]
    },
    {
     "name": "stderr",
     "output_type": "stream",
     "text": [
      "\rTraining:   0%|          | 2/798 [00:09<1:02:35,  4.72s/it]"
     ]
    },
    {
     "name": "stdout",
     "output_type": "stream",
     "text": [
      "\n",
      "Batch 1 timing:\n",
      "  Data transfer: 0.000s\n",
      "  Forward pass: 1.350s\n",
      "  Backward pass: 2.061s\n",
      "  Total batch: 3.411s\n",
      "  Loss: 1.8443\n"
     ]
    },
    {
     "name": "stderr",
     "output_type": "stream",
     "text": [
      "\rTraining:   0%|          | 3/798 [00:13<52:52,  3.99s/it]  "
     ]
    },
    {
     "name": "stdout",
     "output_type": "stream",
     "text": [
      "\n",
      "Batch 2 timing:\n",
      "  Data transfer: 0.000s\n",
      "  Forward pass: 1.221s\n",
      "  Backward pass: 1.897s\n",
      "  Total batch: 3.118s\n",
      "  Loss: 1.8379\n"
     ]
    },
    {
     "name": "stderr",
     "output_type": "stream",
     "text": [
      "\rTraining:   1%|          | 4/798 [00:16<52:06,  3.94s/it]"
     ]
    },
    {
     "name": "stdout",
     "output_type": "stream",
     "text": [
      "\n",
      "Batch 3 timing:\n",
      "  Data transfer: 0.000s\n",
      "  Forward pass: 1.244s\n",
      "  Backward pass: 2.608s\n",
      "  Total batch: 3.852s\n",
      "  Loss: 1.7625\n"
     ]
    },
    {
     "name": "stderr",
     "output_type": "stream",
     "text": [
      "\rTraining:   1%|          | 5/798 [00:20<51:37,  3.91s/it]"
     ]
    },
    {
     "name": "stdout",
     "output_type": "stream",
     "text": [
      "\n",
      "Batch 4 timing:\n",
      "  Data transfer: 0.000s\n",
      "  Forward pass: 1.537s\n",
      "  Backward pass: 2.295s\n",
      "  Total batch: 3.831s\n",
      "  Loss: 1.7512\n"
     ]
    },
    {
     "name": "stderr",
     "output_type": "stream",
     "text": [
      "Training:   1%|▏         | 10/798 [00:37<46:10,  3.52s/it]"
     ]
    },
    {
     "name": "stdout",
     "output_type": "stream",
     "text": [
      "\n",
      "Batch 10/798\n",
      "Input shape: torch.Size([16, 3, 224, 224])\n",
      "Labels shape: torch.Size([16])\n"
     ]
    },
    {
     "name": "stderr",
     "output_type": "stream",
     "text": [
      "Training:   3%|▎         | 20/798 [01:12<44:45,  3.45s/it]"
     ]
    },
    {
     "name": "stdout",
     "output_type": "stream",
     "text": [
      "\n",
      "Batch 20/798\n",
      "Input shape: torch.Size([16, 3, 224, 224])\n",
      "Labels shape: torch.Size([16])\n"
     ]
    },
    {
     "name": "stderr",
     "output_type": "stream",
     "text": [
      "Training:   4%|▍         | 30/798 [01:48<45:13,  3.53s/it]"
     ]
    },
    {
     "name": "stdout",
     "output_type": "stream",
     "text": [
      "\n",
      "Batch 30/798\n",
      "Input shape: torch.Size([16, 3, 224, 224])\n",
      "Labels shape: torch.Size([16])\n"
     ]
    },
    {
     "name": "stderr",
     "output_type": "stream",
     "text": [
      "Training:   5%|▌         | 40/798 [02:22<42:31,  3.37s/it]"
     ]
    },
    {
     "name": "stdout",
     "output_type": "stream",
     "text": [
      "\n",
      "Batch 40/798\n",
      "Input shape: torch.Size([16, 3, 224, 224])\n",
      "Labels shape: torch.Size([16])\n"
     ]
    },
    {
     "name": "stderr",
     "output_type": "stream",
     "text": [
      "Training:   6%|▋         | 50/798 [02:57<44:58,  3.61s/it]"
     ]
    },
    {
     "name": "stdout",
     "output_type": "stream",
     "text": [
      "\n",
      "Batch 50/798\n",
      "Input shape: torch.Size([16, 3, 224, 224])\n",
      "Labels shape: torch.Size([16])\n"
     ]
    },
    {
     "name": "stderr",
     "output_type": "stream",
     "text": [
      "\rTraining:   6%|▋         | 51/798 [03:00<43:53,  3.53s/it]"
     ]
    },
    {
     "name": "stdout",
     "output_type": "stream",
     "text": [
      "\n",
      "Batch 50 timing:\n",
      "  Data transfer: 0.000s\n",
      "  Forward pass: 1.331s\n",
      "  Backward pass: 1.984s\n",
      "  Total batch: 3.315s\n",
      "  Loss: 1.5964\n"
     ]
    },
    {
     "name": "stderr",
     "output_type": "stream",
     "text": [
      "Training:   8%|▊         | 60/798 [03:32<42:55,  3.49s/it]"
     ]
    },
    {
     "name": "stdout",
     "output_type": "stream",
     "text": [
      "\n",
      "Batch 60/798\n",
      "Input shape: torch.Size([16, 3, 224, 224])\n",
      "Labels shape: torch.Size([16])\n"
     ]
    },
    {
     "name": "stderr",
     "output_type": "stream",
     "text": [
      "Training:   9%|▉         | 70/798 [04:07<42:29,  3.50s/it]"
     ]
    },
    {
     "name": "stdout",
     "output_type": "stream",
     "text": [
      "\n",
      "Batch 70/798\n",
      "Input shape: torch.Size([16, 3, 224, 224])\n",
      "Labels shape: torch.Size([16])\n"
     ]
    },
    {
     "name": "stderr",
     "output_type": "stream",
     "text": [
      "Training:  10%|█         | 80/798 [04:43<42:56,  3.59s/it]"
     ]
    },
    {
     "name": "stdout",
     "output_type": "stream",
     "text": [
      "\n",
      "Batch 80/798\n",
      "Input shape: torch.Size([16, 3, 224, 224])\n",
      "Labels shape: torch.Size([16])\n"
     ]
    },
    {
     "name": "stderr",
     "output_type": "stream",
     "text": [
      "Training:  11%|█▏        | 90/798 [05:17<39:20,  3.33s/it]"
     ]
    },
    {
     "name": "stdout",
     "output_type": "stream",
     "text": [
      "\n",
      "Batch 90/798\n",
      "Input shape: torch.Size([16, 3, 224, 224])\n",
      "Labels shape: torch.Size([16])\n"
     ]
    },
    {
     "name": "stderr",
     "output_type": "stream",
     "text": [
      "Training:  13%|█▎        | 100/798 [05:53<41:11,  3.54s/it]"
     ]
    },
    {
     "name": "stdout",
     "output_type": "stream",
     "text": [
      "\n",
      "Batch 100/798\n",
      "Input shape: torch.Size([16, 3, 224, 224])\n",
      "Labels shape: torch.Size([16])\n"
     ]
    },
    {
     "name": "stderr",
     "output_type": "stream",
     "text": [
      "\rTraining:  13%|█▎        | 101/798 [05:56<39:34,  3.41s/it]"
     ]
    },
    {
     "name": "stdout",
     "output_type": "stream",
     "text": [
      "\n",
      "Batch 100 timing:\n",
      "  Data transfer: 0.000s\n",
      "  Forward pass: 1.094s\n",
      "  Backward pass: 1.995s\n",
      "  Total batch: 3.089s\n",
      "  Loss: 1.3919\n"
     ]
    },
    {
     "name": "stderr",
     "output_type": "stream",
     "text": [
      "Training:  14%|█▍        | 110/798 [06:28<39:44,  3.47s/it]"
     ]
    },
    {
     "name": "stdout",
     "output_type": "stream",
     "text": [
      "\n",
      "Batch 110/798\n",
      "Input shape: torch.Size([16, 3, 224, 224])\n",
      "Labels shape: torch.Size([16])\n"
     ]
    },
    {
     "name": "stderr",
     "output_type": "stream",
     "text": [
      "Training:  15%|█▌        | 120/798 [07:04<42:09,  3.73s/it]"
     ]
    },
    {
     "name": "stdout",
     "output_type": "stream",
     "text": [
      "\n",
      "Batch 120/798\n",
      "Input shape: torch.Size([16, 3, 224, 224])\n",
      "Labels shape: torch.Size([16])\n"
     ]
    },
    {
     "name": "stderr",
     "output_type": "stream",
     "text": [
      "Training:  16%|█▋        | 130/798 [07:38<37:30,  3.37s/it]"
     ]
    },
    {
     "name": "stdout",
     "output_type": "stream",
     "text": [
      "\n",
      "Batch 130/798\n",
      "Input shape: torch.Size([16, 3, 224, 224])\n",
      "Labels shape: torch.Size([16])\n"
     ]
    },
    {
     "name": "stderr",
     "output_type": "stream",
     "text": [
      "Training:  18%|█▊        | 140/798 [08:13<39:13,  3.58s/it]"
     ]
    },
    {
     "name": "stdout",
     "output_type": "stream",
     "text": [
      "\n",
      "Batch 140/798\n",
      "Input shape: torch.Size([16, 3, 224, 224])\n",
      "Labels shape: torch.Size([16])\n"
     ]
    },
    {
     "name": "stderr",
     "output_type": "stream",
     "text": [
      "Training:  19%|█▉        | 150/798 [08:49<37:21,  3.46s/it]"
     ]
    },
    {
     "name": "stdout",
     "output_type": "stream",
     "text": [
      "\n",
      "Batch 150/798\n",
      "Input shape: torch.Size([16, 3, 224, 224])\n",
      "Labels shape: torch.Size([16])\n"
     ]
    },
    {
     "name": "stderr",
     "output_type": "stream",
     "text": [
      "\rTraining:  19%|█▉        | 151/798 [08:52<36:13,  3.36s/it]"
     ]
    },
    {
     "name": "stdout",
     "output_type": "stream",
     "text": [
      "\n",
      "Batch 150 timing:\n",
      "  Data transfer: 0.000s\n",
      "  Forward pass: 1.094s\n",
      "  Backward pass: 2.023s\n",
      "  Total batch: 3.118s\n",
      "  Loss: 1.5846\n"
     ]
    },
    {
     "name": "stderr",
     "output_type": "stream",
     "text": [
      "Training:  20%|██        | 160/798 [09:22<35:06,  3.30s/it]"
     ]
    },
    {
     "name": "stdout",
     "output_type": "stream",
     "text": [
      "\n",
      "Batch 160/798\n",
      "Input shape: torch.Size([16, 3, 224, 224])\n",
      "Labels shape: torch.Size([16])\n"
     ]
    },
    {
     "name": "stderr",
     "output_type": "stream",
     "text": [
      "Training:  21%|██▏       | 170/798 [09:59<37:26,  3.58s/it]"
     ]
    },
    {
     "name": "stdout",
     "output_type": "stream",
     "text": [
      "\n",
      "Batch 170/798\n",
      "Input shape: torch.Size([16, 3, 224, 224])\n",
      "Labels shape: torch.Size([16])\n"
     ]
    },
    {
     "name": "stderr",
     "output_type": "stream",
     "text": [
      "Training:  23%|██▎       | 180/798 [10:32<33:49,  3.28s/it]"
     ]
    },
    {
     "name": "stdout",
     "output_type": "stream",
     "text": [
      "\n",
      "Batch 180/798\n",
      "Input shape: torch.Size([16, 3, 224, 224])\n",
      "Labels shape: torch.Size([16])\n"
     ]
    },
    {
     "name": "stderr",
     "output_type": "stream",
     "text": [
      "Training:  24%|██▍       | 190/798 [11:07<37:14,  3.68s/it]"
     ]
    },
    {
     "name": "stdout",
     "output_type": "stream",
     "text": [
      "\n",
      "Batch 190/798\n",
      "Input shape: torch.Size([16, 3, 224, 224])\n",
      "Labels shape: torch.Size([16])\n"
     ]
    },
    {
     "name": "stderr",
     "output_type": "stream",
     "text": [
      "Training:  25%|██▌       | 200/798 [11:42<34:55,  3.50s/it]"
     ]
    },
    {
     "name": "stdout",
     "output_type": "stream",
     "text": [
      "\n",
      "Batch 200/798\n",
      "Input shape: torch.Size([16, 3, 224, 224])\n",
      "Labels shape: torch.Size([16])\n"
     ]
    },
    {
     "name": "stderr",
     "output_type": "stream",
     "text": [
      "\rTraining:  25%|██▌       | 201/798 [11:46<34:03,  3.42s/it]"
     ]
    },
    {
     "name": "stdout",
     "output_type": "stream",
     "text": [
      "\n",
      "Batch 200 timing:\n",
      "  Data transfer: 0.000s\n",
      "  Forward pass: 1.199s\n",
      "  Backward pass: 2.025s\n",
      "  Total batch: 3.224s\n",
      "  Loss: 1.2968\n"
     ]
    },
    {
     "name": "stderr",
     "output_type": "stream",
     "text": [
      "Training:  26%|██▋       | 210/798 [12:17<33:26,  3.41s/it]"
     ]
    },
    {
     "name": "stdout",
     "output_type": "stream",
     "text": [
      "\n",
      "Batch 210/798\n",
      "Input shape: torch.Size([16, 3, 224, 224])\n",
      "Labels shape: torch.Size([16])\n"
     ]
    },
    {
     "name": "stderr",
     "output_type": "stream",
     "text": [
      "Training:  28%|██▊       | 220/798 [12:52<33:53,  3.52s/it]"
     ]
    },
    {
     "name": "stdout",
     "output_type": "stream",
     "text": [
      "\n",
      "Batch 220/798\n",
      "Input shape: torch.Size([16, 3, 224, 224])\n",
      "Labels shape: torch.Size([16])\n"
     ]
    },
    {
     "name": "stderr",
     "output_type": "stream",
     "text": [
      "Training:  29%|██▉       | 230/798 [13:27<32:42,  3.45s/it]"
     ]
    },
    {
     "name": "stdout",
     "output_type": "stream",
     "text": [
      "\n",
      "Batch 230/798\n",
      "Input shape: torch.Size([16, 3, 224, 224])\n",
      "Labels shape: torch.Size([16])\n"
     ]
    },
    {
     "name": "stderr",
     "output_type": "stream",
     "text": [
      "Training:  30%|███       | 240/798 [14:03<34:21,  3.69s/it]"
     ]
    },
    {
     "name": "stdout",
     "output_type": "stream",
     "text": [
      "\n",
      "Batch 240/798\n",
      "Input shape: torch.Size([16, 3, 224, 224])\n",
      "Labels shape: torch.Size([16])\n"
     ]
    },
    {
     "name": "stderr",
     "output_type": "stream",
     "text": [
      "Training:  31%|███▏      | 250/798 [14:38<31:26,  3.44s/it]"
     ]
    },
    {
     "name": "stdout",
     "output_type": "stream",
     "text": [
      "\n",
      "Batch 250/798\n",
      "Input shape: torch.Size([16, 3, 224, 224])\n",
      "Labels shape: torch.Size([16])\n"
     ]
    },
    {
     "name": "stderr",
     "output_type": "stream",
     "text": [
      "\rTraining:  31%|███▏      | 251/798 [14:41<31:50,  3.49s/it]"
     ]
    },
    {
     "name": "stdout",
     "output_type": "stream",
     "text": [
      "\n",
      "Batch 250 timing:\n",
      "  Data transfer: 0.000s\n",
      "  Forward pass: 1.230s\n",
      "  Backward pass: 2.371s\n",
      "  Total batch: 3.601s\n",
      "  Loss: 1.4887\n"
     ]
    },
    {
     "name": "stderr",
     "output_type": "stream",
     "text": [
      "Training:  33%|███▎      | 260/798 [15:13<32:41,  3.65s/it]"
     ]
    },
    {
     "name": "stdout",
     "output_type": "stream",
     "text": [
      "\n",
      "Batch 260/798\n",
      "Input shape: torch.Size([16, 3, 224, 224])\n",
      "Labels shape: torch.Size([16])\n"
     ]
    },
    {
     "name": "stderr",
     "output_type": "stream",
     "text": [
      "Training:  34%|███▍      | 270/798 [15:48<30:41,  3.49s/it]"
     ]
    },
    {
     "name": "stdout",
     "output_type": "stream",
     "text": [
      "\n",
      "Batch 270/798\n",
      "Input shape: torch.Size([16, 3, 224, 224])\n",
      "Labels shape: torch.Size([16])\n"
     ]
    },
    {
     "name": "stderr",
     "output_type": "stream",
     "text": [
      "Training:  35%|███▌      | 280/798 [16:23<30:55,  3.58s/it]"
     ]
    },
    {
     "name": "stdout",
     "output_type": "stream",
     "text": [
      "\n",
      "Batch 280/798\n",
      "Input shape: torch.Size([16, 3, 224, 224])\n",
      "Labels shape: torch.Size([16])\n"
     ]
    },
    {
     "name": "stderr",
     "output_type": "stream",
     "text": [
      "Training:  36%|███▋      | 290/798 [16:59<30:24,  3.59s/it]"
     ]
    },
    {
     "name": "stdout",
     "output_type": "stream",
     "text": [
      "\n",
      "Batch 290/798\n",
      "Input shape: torch.Size([16, 3, 224, 224])\n",
      "Labels shape: torch.Size([16])\n"
     ]
    },
    {
     "name": "stderr",
     "output_type": "stream",
     "text": [
      "Training:  38%|███▊      | 300/798 [17:34<28:48,  3.47s/it]"
     ]
    },
    {
     "name": "stdout",
     "output_type": "stream",
     "text": [
      "\n",
      "Batch 300/798\n",
      "Input shape: torch.Size([16, 3, 224, 224])\n",
      "Labels shape: torch.Size([16])\n"
     ]
    },
    {
     "name": "stderr",
     "output_type": "stream",
     "text": [
      "\rTraining:  38%|███▊      | 301/798 [17:39<30:49,  3.72s/it]"
     ]
    },
    {
     "name": "stdout",
     "output_type": "stream",
     "text": [
      "\n",
      "Batch 300 timing:\n",
      "  Data transfer: 0.000s\n",
      "  Forward pass: 1.757s\n",
      "  Backward pass: 2.544s\n",
      "  Total batch: 4.301s\n",
      "  Loss: 1.2359\n"
     ]
    },
    {
     "name": "stderr",
     "output_type": "stream",
     "text": [
      "Training:  39%|███▉      | 310/798 [18:09<28:07,  3.46s/it]"
     ]
    },
    {
     "name": "stdout",
     "output_type": "stream",
     "text": [
      "\n",
      "Batch 310/798\n",
      "Input shape: torch.Size([16, 3, 224, 224])\n",
      "Labels shape: torch.Size([16])\n"
     ]
    },
    {
     "name": "stderr",
     "output_type": "stream",
     "text": [
      "Training:  40%|████      | 320/798 [18:44<26:45,  3.36s/it]"
     ]
    },
    {
     "name": "stdout",
     "output_type": "stream",
     "text": [
      "\n",
      "Batch 320/798\n",
      "Input shape: torch.Size([16, 3, 224, 224])\n",
      "Labels shape: torch.Size([16])\n"
     ]
    },
    {
     "name": "stderr",
     "output_type": "stream",
     "text": [
      "Training:  41%|████▏     | 330/798 [19:19<28:30,  3.65s/it]"
     ]
    },
    {
     "name": "stdout",
     "output_type": "stream",
     "text": [
      "\n",
      "Batch 330/798\n",
      "Input shape: torch.Size([16, 3, 224, 224])\n",
      "Labels shape: torch.Size([16])\n"
     ]
    },
    {
     "name": "stderr",
     "output_type": "stream",
     "text": [
      "Training:  43%|████▎     | 340/798 [19:53<26:16,  3.44s/it]"
     ]
    },
    {
     "name": "stdout",
     "output_type": "stream",
     "text": [
      "\n",
      "Batch 340/798\n",
      "Input shape: torch.Size([16, 3, 224, 224])\n",
      "Labels shape: torch.Size([16])\n"
     ]
    },
    {
     "name": "stderr",
     "output_type": "stream",
     "text": [
      "Training:  44%|████▍     | 350/798 [20:30<27:16,  3.65s/it]"
     ]
    },
    {
     "name": "stdout",
     "output_type": "stream",
     "text": [
      "\n",
      "Batch 350/798\n",
      "Input shape: torch.Size([16, 3, 224, 224])\n",
      "Labels shape: torch.Size([16])\n"
     ]
    },
    {
     "name": "stderr",
     "output_type": "stream",
     "text": [
      "\rTraining:  44%|████▍     | 351/798 [20:33<27:09,  3.65s/it]"
     ]
    },
    {
     "name": "stdout",
     "output_type": "stream",
     "text": [
      "\n",
      "Batch 350 timing:\n",
      "  Data transfer: 0.002s\n",
      "  Forward pass: 1.541s\n",
      "  Backward pass: 2.073s\n",
      "  Total batch: 3.617s\n",
      "  Loss: 1.3322\n"
     ]
    },
    {
     "name": "stderr",
     "output_type": "stream",
     "text": [
      "Training:  45%|████▌     | 360/798 [21:05<25:22,  3.48s/it]"
     ]
    },
    {
     "name": "stdout",
     "output_type": "stream",
     "text": [
      "\n",
      "Batch 360/798\n",
      "Input shape: torch.Size([16, 3, 224, 224])\n",
      "Labels shape: torch.Size([16])\n"
     ]
    },
    {
     "name": "stderr",
     "output_type": "stream",
     "text": [
      "Training:  46%|████▋     | 370/798 [21:39<23:39,  3.32s/it]"
     ]
    },
    {
     "name": "stdout",
     "output_type": "stream",
     "text": [
      "\n",
      "Batch 370/798\n",
      "Input shape: torch.Size([16, 3, 224, 224])\n",
      "Labels shape: torch.Size([16])\n"
     ]
    },
    {
     "name": "stderr",
     "output_type": "stream",
     "text": [
      "Training:  48%|████▊     | 380/798 [22:14<25:09,  3.61s/it]"
     ]
    },
    {
     "name": "stdout",
     "output_type": "stream",
     "text": [
      "\n",
      "Batch 380/798\n",
      "Input shape: torch.Size([16, 3, 224, 224])\n",
      "Labels shape: torch.Size([16])\n"
     ]
    },
    {
     "name": "stderr",
     "output_type": "stream",
     "text": [
      "Training:  49%|████▉     | 390/798 [22:50<23:01,  3.39s/it]"
     ]
    },
    {
     "name": "stdout",
     "output_type": "stream",
     "text": [
      "\n",
      "Batch 390/798\n",
      "Input shape: torch.Size([16, 3, 224, 224])\n",
      "Labels shape: torch.Size([16])\n"
     ]
    },
    {
     "name": "stderr",
     "output_type": "stream",
     "text": [
      "Training:  50%|█████     | 400/798 [23:26<24:42,  3.72s/it]"
     ]
    },
    {
     "name": "stdout",
     "output_type": "stream",
     "text": [
      "\n",
      "Batch 400/798\n",
      "Input shape: torch.Size([16, 3, 224, 224])\n",
      "Labels shape: torch.Size([16])\n"
     ]
    },
    {
     "name": "stderr",
     "output_type": "stream",
     "text": [
      "\rTraining:  50%|█████     | 401/798 [23:30<23:46,  3.59s/it]"
     ]
    },
    {
     "name": "stdout",
     "output_type": "stream",
     "text": [
      "\n",
      "Batch 400 timing:\n",
      "  Data transfer: 0.000s\n",
      "  Forward pass: 1.242s\n",
      "  Backward pass: 2.035s\n",
      "  Total batch: 3.277s\n",
      "  Loss: 1.0317\n"
     ]
    },
    {
     "name": "stderr",
     "output_type": "stream",
     "text": [
      "Training:  51%|█████▏    | 410/798 [24:02<22:28,  3.48s/it]"
     ]
    },
    {
     "name": "stdout",
     "output_type": "stream",
     "text": [
      "\n",
      "Batch 410/798\n",
      "Input shape: torch.Size([16, 3, 224, 224])\n",
      "Labels shape: torch.Size([16])\n"
     ]
    },
    {
     "name": "stderr",
     "output_type": "stream",
     "text": [
      "Training:  53%|█████▎    | 420/798 [24:38<22:47,  3.62s/it]"
     ]
    },
    {
     "name": "stdout",
     "output_type": "stream",
     "text": [
      "\n",
      "Batch 420/798\n",
      "Input shape: torch.Size([16, 3, 224, 224])\n",
      "Labels shape: torch.Size([16])\n"
     ]
    },
    {
     "name": "stderr",
     "output_type": "stream",
     "text": [
      "Training:  54%|█████▍    | 430/798 [25:13<20:49,  3.40s/it]"
     ]
    },
    {
     "name": "stdout",
     "output_type": "stream",
     "text": [
      "\n",
      "Batch 430/798\n",
      "Input shape: torch.Size([16, 3, 224, 224])\n",
      "Labels shape: torch.Size([16])\n"
     ]
    },
    {
     "name": "stderr",
     "output_type": "stream",
     "text": [
      "Training:  55%|█████▌    | 440/798 [25:49<22:20,  3.74s/it]"
     ]
    },
    {
     "name": "stdout",
     "output_type": "stream",
     "text": [
      "\n",
      "Batch 440/798\n",
      "Input shape: torch.Size([16, 3, 224, 224])\n",
      "Labels shape: torch.Size([16])\n"
     ]
    },
    {
     "name": "stderr",
     "output_type": "stream",
     "text": [
      "Training:  56%|█████▋    | 450/798 [26:23<20:21,  3.51s/it]"
     ]
    },
    {
     "name": "stdout",
     "output_type": "stream",
     "text": [
      "\n",
      "Batch 450/798\n",
      "Input shape: torch.Size([16, 3, 224, 224])\n",
      "Labels shape: torch.Size([16])\n"
     ]
    },
    {
     "name": "stderr",
     "output_type": "stream",
     "text": [
      "\rTraining:  57%|█████▋    | 451/798 [26:27<19:49,  3.43s/it]"
     ]
    },
    {
     "name": "stdout",
     "output_type": "stream",
     "text": [
      "\n",
      "Batch 450 timing:\n",
      "  Data transfer: 0.000s\n",
      "  Forward pass: 1.244s\n",
      "  Backward pass: 1.988s\n",
      "  Total batch: 3.233s\n",
      "  Loss: 1.1654\n"
     ]
    },
    {
     "name": "stderr",
     "output_type": "stream",
     "text": [
      "Training:  58%|█████▊    | 460/798 [27:00<21:05,  3.75s/it]"
     ]
    },
    {
     "name": "stdout",
     "output_type": "stream",
     "text": [
      "\n",
      "Batch 460/798\n",
      "Input shape: torch.Size([16, 3, 224, 224])\n",
      "Labels shape: torch.Size([16])\n"
     ]
    },
    {
     "name": "stderr",
     "output_type": "stream",
     "text": [
      "Training:  59%|█████▉    | 470/798 [27:36<19:54,  3.64s/it]"
     ]
    },
    {
     "name": "stdout",
     "output_type": "stream",
     "text": [
      "\n",
      "Batch 470/798\n",
      "Input shape: torch.Size([16, 3, 224, 224])\n",
      "Labels shape: torch.Size([16])\n"
     ]
    },
    {
     "name": "stderr",
     "output_type": "stream",
     "text": [
      "Training:  60%|██████    | 480/798 [28:12<19:36,  3.70s/it]"
     ]
    },
    {
     "name": "stdout",
     "output_type": "stream",
     "text": [
      "\n",
      "Batch 480/798\n",
      "Input shape: torch.Size([16, 3, 224, 224])\n",
      "Labels shape: torch.Size([16])\n"
     ]
    },
    {
     "name": "stderr",
     "output_type": "stream",
     "text": [
      "Training:  61%|██████▏   | 490/798 [28:48<18:07,  3.53s/it]"
     ]
    },
    {
     "name": "stdout",
     "output_type": "stream",
     "text": [
      "\n",
      "Batch 490/798\n",
      "Input shape: torch.Size([16, 3, 224, 224])\n",
      "Labels shape: torch.Size([16])\n"
     ]
    },
    {
     "name": "stderr",
     "output_type": "stream",
     "text": [
      "Training:  63%|██████▎   | 500/798 [29:23<17:23,  3.50s/it]"
     ]
    },
    {
     "name": "stdout",
     "output_type": "stream",
     "text": [
      "\n",
      "Batch 500/798\n",
      "Input shape: torch.Size([16, 3, 224, 224])\n",
      "Labels shape: torch.Size([16])\n"
     ]
    },
    {
     "name": "stderr",
     "output_type": "stream",
     "text": [
      "\rTraining:  63%|██████▎   | 501/798 [29:27<17:54,  3.62s/it]"
     ]
    },
    {
     "name": "stdout",
     "output_type": "stream",
     "text": [
      "\n",
      "Batch 500 timing:\n",
      "  Data transfer: 0.000s\n",
      "  Forward pass: 1.687s\n",
      "  Backward pass: 2.183s\n",
      "  Total batch: 3.873s\n",
      "  Loss: 1.2316\n"
     ]
    },
    {
     "name": "stderr",
     "output_type": "stream",
     "text": [
      "Training:  64%|██████▍   | 510/798 [29:57<16:22,  3.41s/it]"
     ]
    },
    {
     "name": "stdout",
     "output_type": "stream",
     "text": [
      "\n",
      "Batch 510/798\n",
      "Input shape: torch.Size([16, 3, 224, 224])\n",
      "Labels shape: torch.Size([16])\n"
     ]
    },
    {
     "name": "stderr",
     "output_type": "stream",
     "text": [
      "Training:  65%|██████▌   | 520/798 [30:31<15:32,  3.36s/it]"
     ]
    },
    {
     "name": "stdout",
     "output_type": "stream",
     "text": [
      "\n",
      "Batch 520/798\n",
      "Input shape: torch.Size([16, 3, 224, 224])\n",
      "Labels shape: torch.Size([16])\n"
     ]
    },
    {
     "name": "stderr",
     "output_type": "stream",
     "text": [
      "Training:  66%|██████▋   | 530/798 [31:07<16:09,  3.62s/it]"
     ]
    },
    {
     "name": "stdout",
     "output_type": "stream",
     "text": [
      "\n",
      "Batch 530/798\n",
      "Input shape: torch.Size([16, 3, 224, 224])\n",
      "Labels shape: torch.Size([16])\n"
     ]
    },
    {
     "name": "stderr",
     "output_type": "stream",
     "text": [
      "Training:  68%|██████▊   | 540/798 [31:42<14:32,  3.38s/it]"
     ]
    },
    {
     "name": "stdout",
     "output_type": "stream",
     "text": [
      "\n",
      "Batch 540/798\n",
      "Input shape: torch.Size([16, 3, 224, 224])\n",
      "Labels shape: torch.Size([16])\n"
     ]
    },
    {
     "name": "stderr",
     "output_type": "stream",
     "text": [
      "Training:  69%|██████▉   | 550/798 [32:17<14:48,  3.58s/it]"
     ]
    },
    {
     "name": "stdout",
     "output_type": "stream",
     "text": [
      "\n",
      "Batch 550/798\n",
      "Input shape: torch.Size([16, 3, 224, 224])\n",
      "Labels shape: torch.Size([16])\n"
     ]
    },
    {
     "name": "stderr",
     "output_type": "stream",
     "text": [
      "\rTraining:  69%|██████▉   | 551/798 [32:20<14:39,  3.56s/it]"
     ]
    },
    {
     "name": "stdout",
     "output_type": "stream",
     "text": [
      "\n",
      "Batch 550 timing:\n",
      "  Data transfer: 0.000s\n",
      "  Forward pass: 1.503s\n",
      "  Backward pass: 1.993s\n",
      "  Total batch: 3.497s\n",
      "  Loss: 1.3174\n"
     ]
    },
    {
     "name": "stderr",
     "output_type": "stream",
     "text": [
      "Training:  70%|███████   | 560/798 [32:52<13:58,  3.52s/it]"
     ]
    },
    {
     "name": "stdout",
     "output_type": "stream",
     "text": [
      "\n",
      "Batch 560/798\n",
      "Input shape: torch.Size([16, 3, 224, 224])\n",
      "Labels shape: torch.Size([16])\n"
     ]
    },
    {
     "name": "stderr",
     "output_type": "stream",
     "text": [
      "Training:  71%|███████▏  | 570/798 [33:26<13:07,  3.46s/it]"
     ]
    },
    {
     "name": "stdout",
     "output_type": "stream",
     "text": [
      "\n",
      "Batch 570/798\n",
      "Input shape: torch.Size([16, 3, 224, 224])\n",
      "Labels shape: torch.Size([16])\n"
     ]
    },
    {
     "name": "stderr",
     "output_type": "stream",
     "text": [
      "Training:  73%|███████▎  | 580/798 [34:02<12:55,  3.56s/it]"
     ]
    },
    {
     "name": "stdout",
     "output_type": "stream",
     "text": [
      "\n",
      "Batch 580/798\n",
      "Input shape: torch.Size([16, 3, 224, 224])\n",
      "Labels shape: torch.Size([16])\n"
     ]
    },
    {
     "name": "stderr",
     "output_type": "stream",
     "text": [
      "Training:  74%|███████▍  | 590/798 [34:37<11:46,  3.40s/it]"
     ]
    },
    {
     "name": "stdout",
     "output_type": "stream",
     "text": [
      "\n",
      "Batch 590/798\n",
      "Input shape: torch.Size([16, 3, 224, 224])\n",
      "Labels shape: torch.Size([16])\n"
     ]
    },
    {
     "name": "stderr",
     "output_type": "stream",
     "text": [
      "Training:  75%|███████▌  | 600/798 [35:12<11:31,  3.49s/it]"
     ]
    },
    {
     "name": "stdout",
     "output_type": "stream",
     "text": [
      "\n",
      "Batch 600/798\n",
      "Input shape: torch.Size([16, 3, 224, 224])\n",
      "Labels shape: torch.Size([16])\n"
     ]
    },
    {
     "name": "stderr",
     "output_type": "stream",
     "text": [
      "\rTraining:  75%|███████▌  | 601/798 [35:15<11:00,  3.35s/it]"
     ]
    },
    {
     "name": "stdout",
     "output_type": "stream",
     "text": [
      "\n",
      "Batch 600 timing:\n",
      "  Data transfer: 0.000s\n",
      "  Forward pass: 1.135s\n",
      "  Backward pass: 1.876s\n",
      "  Total batch: 3.010s\n",
      "  Loss: 1.2020\n"
     ]
    },
    {
     "name": "stderr",
     "output_type": "stream",
     "text": [
      "Training:  76%|███████▋  | 610/798 [35:46<10:32,  3.36s/it]"
     ]
    },
    {
     "name": "stdout",
     "output_type": "stream",
     "text": [
      "\n",
      "Batch 610/798\n",
      "Input shape: torch.Size([16, 3, 224, 224])\n",
      "Labels shape: torch.Size([16])\n"
     ]
    },
    {
     "name": "stderr",
     "output_type": "stream",
     "text": [
      "Training:  78%|███████▊  | 620/798 [36:22<11:05,  3.74s/it]"
     ]
    },
    {
     "name": "stdout",
     "output_type": "stream",
     "text": [
      "\n",
      "Batch 620/798\n",
      "Input shape: torch.Size([16, 3, 224, 224])\n",
      "Labels shape: torch.Size([16])\n"
     ]
    },
    {
     "name": "stderr",
     "output_type": "stream",
     "text": [
      "Training:  79%|███████▉  | 630/798 [36:56<09:41,  3.46s/it]"
     ]
    },
    {
     "name": "stdout",
     "output_type": "stream",
     "text": [
      "\n",
      "Batch 630/798\n",
      "Input shape: torch.Size([16, 3, 224, 224])\n",
      "Labels shape: torch.Size([16])\n"
     ]
    },
    {
     "name": "stderr",
     "output_type": "stream",
     "text": [
      "Training:  80%|████████  | 640/798 [37:30<09:04,  3.45s/it]"
     ]
    },
    {
     "name": "stdout",
     "output_type": "stream",
     "text": [
      "\n",
      "Batch 640/798\n",
      "Input shape: torch.Size([16, 3, 224, 224])\n",
      "Labels shape: torch.Size([16])\n"
     ]
    },
    {
     "name": "stderr",
     "output_type": "stream",
     "text": [
      "Training:  81%|████████▏ | 650/798 [38:06<08:42,  3.53s/it]"
     ]
    },
    {
     "name": "stdout",
     "output_type": "stream",
     "text": [
      "\n",
      "Batch 650/798\n",
      "Input shape: torch.Size([16, 3, 224, 224])\n",
      "Labels shape: torch.Size([16])\n"
     ]
    },
    {
     "name": "stderr",
     "output_type": "stream",
     "text": [
      "\rTraining:  82%|████████▏ | 651/798 [38:09<08:28,  3.46s/it]"
     ]
    },
    {
     "name": "stdout",
     "output_type": "stream",
     "text": [
      "\n",
      "Batch 650 timing:\n",
      "  Data transfer: 0.000s\n",
      "  Forward pass: 1.278s\n",
      "  Backward pass: 2.007s\n",
      "  Total batch: 3.286s\n",
      "  Loss: 0.9760\n"
     ]
    },
    {
     "name": "stderr",
     "output_type": "stream",
     "text": [
      "Training:  83%|████████▎ | 660/798 [38:40<07:43,  3.36s/it]"
     ]
    },
    {
     "name": "stdout",
     "output_type": "stream",
     "text": [
      "\n",
      "Batch 660/798\n",
      "Input shape: torch.Size([16, 3, 224, 224])\n",
      "Labels shape: torch.Size([16])\n"
     ]
    },
    {
     "name": "stderr",
     "output_type": "stream",
     "text": [
      "Training:  84%|████████▍ | 670/798 [39:16<07:35,  3.56s/it]"
     ]
    },
    {
     "name": "stdout",
     "output_type": "stream",
     "text": [
      "\n",
      "Batch 670/798\n",
      "Input shape: torch.Size([16, 3, 224, 224])\n",
      "Labels shape: torch.Size([16])\n"
     ]
    },
    {
     "name": "stderr",
     "output_type": "stream",
     "text": [
      "Training:  85%|████████▌ | 680/798 [39:51<06:44,  3.43s/it]"
     ]
    },
    {
     "name": "stdout",
     "output_type": "stream",
     "text": [
      "\n",
      "Batch 680/798\n",
      "Input shape: torch.Size([16, 3, 224, 224])\n",
      "Labels shape: torch.Size([16])\n"
     ]
    },
    {
     "name": "stderr",
     "output_type": "stream",
     "text": [
      "Training:  86%|████████▋ | 690/798 [40:28<06:28,  3.59s/it]"
     ]
    },
    {
     "name": "stdout",
     "output_type": "stream",
     "text": [
      "\n",
      "Batch 690/798\n",
      "Input shape: torch.Size([16, 3, 224, 224])\n",
      "Labels shape: torch.Size([16])\n"
     ]
    },
    {
     "name": "stderr",
     "output_type": "stream",
     "text": [
      "Training:  88%|████████▊ | 700/798 [41:02<05:33,  3.40s/it]"
     ]
    },
    {
     "name": "stdout",
     "output_type": "stream",
     "text": [
      "\n",
      "Batch 700/798\n",
      "Input shape: torch.Size([16, 3, 224, 224])\n",
      "Labels shape: torch.Size([16])\n"
     ]
    },
    {
     "name": "stderr",
     "output_type": "stream",
     "text": [
      "\rTraining:  88%|████████▊ | 701/798 [41:07<06:01,  3.72s/it]"
     ]
    },
    {
     "name": "stdout",
     "output_type": "stream",
     "text": [
      "\n",
      "Batch 700 timing:\n",
      "  Data transfer: 0.000s\n",
      "  Forward pass: 1.408s\n",
      "  Backward pass: 3.073s\n",
      "  Total batch: 4.481s\n",
      "  Loss: 1.3292\n"
     ]
    },
    {
     "name": "stderr",
     "output_type": "stream",
     "text": [
      "Training:  89%|████████▉ | 710/798 [41:38<05:16,  3.60s/it]"
     ]
    },
    {
     "name": "stdout",
     "output_type": "stream",
     "text": [
      "\n",
      "Batch 710/798\n",
      "Input shape: torch.Size([16, 3, 224, 224])\n",
      "Labels shape: torch.Size([16])\n"
     ]
    },
    {
     "name": "stderr",
     "output_type": "stream",
     "text": [
      "Training:  90%|█████████ | 720/798 [42:13<04:19,  3.33s/it]"
     ]
    },
    {
     "name": "stdout",
     "output_type": "stream",
     "text": [
      "\n",
      "Batch 720/798\n",
      "Input shape: torch.Size([16, 3, 224, 224])\n",
      "Labels shape: torch.Size([16])\n"
     ]
    },
    {
     "name": "stderr",
     "output_type": "stream",
     "text": [
      "Training:  91%|█████████▏| 730/798 [42:48<04:02,  3.57s/it]"
     ]
    },
    {
     "name": "stdout",
     "output_type": "stream",
     "text": [
      "\n",
      "Batch 730/798\n",
      "Input shape: torch.Size([16, 3, 224, 224])\n",
      "Labels shape: torch.Size([16])\n"
     ]
    },
    {
     "name": "stderr",
     "output_type": "stream",
     "text": [
      "Training:  93%|█████████▎| 740/798 [43:22<03:18,  3.41s/it]"
     ]
    },
    {
     "name": "stdout",
     "output_type": "stream",
     "text": [
      "\n",
      "Batch 740/798\n",
      "Input shape: torch.Size([16, 3, 224, 224])\n",
      "Labels shape: torch.Size([16])\n"
     ]
    },
    {
     "name": "stderr",
     "output_type": "stream",
     "text": [
      "Training:  94%|█████████▍| 750/798 [43:58<02:53,  3.60s/it]"
     ]
    },
    {
     "name": "stdout",
     "output_type": "stream",
     "text": [
      "\n",
      "Batch 750/798\n",
      "Input shape: torch.Size([16, 3, 224, 224])\n",
      "Labels shape: torch.Size([16])\n"
     ]
    },
    {
     "name": "stderr",
     "output_type": "stream",
     "text": [
      "\rTraining:  94%|█████████▍| 751/798 [44:01<02:43,  3.48s/it]"
     ]
    },
    {
     "name": "stdout",
     "output_type": "stream",
     "text": [
      "\n",
      "Batch 750 timing:\n",
      "  Data transfer: 0.000s\n",
      "  Forward pass: 1.181s\n",
      "  Backward pass: 2.018s\n",
      "  Total batch: 3.199s\n",
      "  Loss: 0.9882\n"
     ]
    },
    {
     "name": "stderr",
     "output_type": "stream",
     "text": [
      "Training:  95%|█████████▌| 760/798 [44:33<02:09,  3.42s/it]"
     ]
    },
    {
     "name": "stdout",
     "output_type": "stream",
     "text": [
      "\n",
      "Batch 760/798\n",
      "Input shape: torch.Size([16, 3, 224, 224])\n",
      "Labels shape: torch.Size([16])\n"
     ]
    },
    {
     "name": "stderr",
     "output_type": "stream",
     "text": [
      "Training:  96%|█████████▋| 770/798 [45:08<01:40,  3.59s/it]"
     ]
    },
    {
     "name": "stdout",
     "output_type": "stream",
     "text": [
      "\n",
      "Batch 770/798\n",
      "Input shape: torch.Size([16, 3, 224, 224])\n",
      "Labels shape: torch.Size([16])\n"
     ]
    },
    {
     "name": "stderr",
     "output_type": "stream",
     "text": [
      "Training:  98%|█████████▊| 780/798 [45:42<01:01,  3.43s/it]"
     ]
    },
    {
     "name": "stdout",
     "output_type": "stream",
     "text": [
      "\n",
      "Batch 780/798\n",
      "Input shape: torch.Size([16, 3, 224, 224])\n",
      "Labels shape: torch.Size([16])\n"
     ]
    },
    {
     "name": "stderr",
     "output_type": "stream",
     "text": [
      "Training:  99%|█████████▉| 790/798 [46:18<00:29,  3.64s/it]"
     ]
    },
    {
     "name": "stdout",
     "output_type": "stream",
     "text": [
      "\n",
      "Batch 790/798\n",
      "Input shape: torch.Size([16, 3, 224, 224])\n",
      "Labels shape: torch.Size([16])\n"
     ]
    },
    {
     "name": "stderr",
     "output_type": "stream",
     "text": [
      "Training: 100%|██████████| 798/798 [46:44<00:00,  3.51s/it]"
     ]
    },
    {
     "name": "stdout",
     "output_type": "stream",
     "text": [
      "\n",
      "Epoch 1 completed in 2805.0 seconds\n",
      "Training Loss: 1.3070\n",
      "Average time per batch: 3.515s\n",
      "Starting validation...\n"
     ]
    },
    {
     "name": "stderr",
     "output_type": "stream",
     "text": [
      "\n"
     ]
    },
    {
     "name": "stdout",
     "output_type": "stream",
     "text": [
      "Validation batch 0/200\n",
      "Validation batch 20/200\n",
      "Validation batch 40/200\n",
      "Validation batch 60/200\n",
      "Validation batch 80/200\n",
      "Validation batch 100/200\n",
      "Validation batch 120/200\n",
      "Validation batch 140/200\n",
      "Validation batch 160/200\n",
      "Validation batch 180/200\n",
      "Validation completed in 185.2 seconds\n",
      "Validation Metrics:\n",
      "              precision    recall  f1-score   support\n",
      "\n",
      "           0      0.554     0.575     0.564       588\n",
      "           1      0.491     0.564     0.525       959\n",
      "           2      0.430     0.392     0.410       659\n",
      "           3      0.461     0.399     0.428       554\n",
      "           4      0.457     0.386     0.418       306\n",
      "           5      0.483     0.548     0.513       126\n",
      "\n",
      "    accuracy                          0.484      3192\n",
      "   macro avg      0.479     0.477     0.476      3192\n",
      "weighted avg      0.481     0.484     0.481      3192\n",
      "\n",
      "\n",
      "Epoch 2/5\n"
     ]
    },
    {
     "name": "stderr",
     "output_type": "stream",
     "text": [
      "\rTraining:   0%|          | 0/798 [00:00<?, ?it/s]"
     ]
    },
    {
     "name": "stdout",
     "output_type": "stream",
     "text": [
      "\n",
      "Batch 0/798\n",
      "Input shape: torch.Size([16, 3, 224, 224])\n",
      "Labels shape: torch.Size([16])\n"
     ]
    },
    {
     "name": "stderr",
     "output_type": "stream",
     "text": [
      "\rTraining:   0%|          | 1/798 [00:05<1:11:11,  5.36s/it]"
     ]
    },
    {
     "name": "stdout",
     "output_type": "stream",
     "text": [
      "\n",
      "Batch 0 timing:\n",
      "  Data transfer: 0.000s\n",
      "  Forward pass: 2.626s\n",
      "  Backward pass: 2.348s\n",
      "  Total batch: 4.974s\n",
      "  Loss: 1.1020\n"
     ]
    },
    {
     "name": "stderr",
     "output_type": "stream",
     "text": [
      "\rTraining:   0%|          | 2/798 [00:08<55:43,  4.20s/it]  "
     ]
    },
    {
     "name": "stdout",
     "output_type": "stream",
     "text": [
      "\n",
      "Batch 1 timing:\n",
      "  Data transfer: 0.000s\n",
      "  Forward pass: 1.264s\n",
      "  Backward pass: 2.116s\n",
      "  Total batch: 3.380s\n",
      "  Loss: 1.0107\n"
     ]
    },
    {
     "name": "stderr",
     "output_type": "stream",
     "text": [
      "\rTraining:   0%|          | 3/798 [00:13<57:34,  4.35s/it]"
     ]
    },
    {
     "name": "stdout",
     "output_type": "stream",
     "text": [
      "\n",
      "Batch 2 timing:\n",
      "  Data transfer: 0.000s\n",
      "  Forward pass: 1.426s\n",
      "  Backward pass: 3.085s\n",
      "  Total batch: 4.511s\n",
      "  Loss: 0.9515\n"
     ]
    },
    {
     "name": "stderr",
     "output_type": "stream",
     "text": [
      "\rTraining:   1%|          | 4/798 [00:16<51:20,  3.88s/it]"
     ]
    },
    {
     "name": "stdout",
     "output_type": "stream",
     "text": [
      "\n",
      "Batch 3 timing:\n",
      "  Data transfer: 0.000s\n",
      "  Forward pass: 1.177s\n",
      "  Backward pass: 1.983s\n",
      "  Total batch: 3.160s\n",
      "  Loss: 1.0629\n"
     ]
    },
    {
     "name": "stderr",
     "output_type": "stream",
     "text": [
      "\rTraining:   1%|          | 5/798 [00:19<47:04,  3.56s/it]"
     ]
    },
    {
     "name": "stdout",
     "output_type": "stream",
     "text": [
      "\n",
      "Batch 4 timing:\n",
      "  Data transfer: 0.000s\n",
      "  Forward pass: 1.142s\n",
      "  Backward pass: 1.848s\n",
      "  Total batch: 2.990s\n",
      "  Loss: 1.0729\n"
     ]
    },
    {
     "name": "stderr",
     "output_type": "stream",
     "text": [
      "Training:   1%|▏         | 10/798 [00:36<44:01,  3.35s/it]"
     ]
    },
    {
     "name": "stdout",
     "output_type": "stream",
     "text": [
      "\n",
      "Batch 10/798\n",
      "Input shape: torch.Size([16, 3, 224, 224])\n",
      "Labels shape: torch.Size([16])\n"
     ]
    },
    {
     "name": "stderr",
     "output_type": "stream",
     "text": [
      "Training:   3%|▎         | 20/798 [01:10<45:07,  3.48s/it]"
     ]
    },
    {
     "name": "stdout",
     "output_type": "stream",
     "text": [
      "\n",
      "Batch 20/798\n",
      "Input shape: torch.Size([16, 3, 224, 224])\n",
      "Labels shape: torch.Size([16])\n"
     ]
    },
    {
     "name": "stderr",
     "output_type": "stream",
     "text": [
      "Training:   4%|▍         | 30/798 [01:43<42:24,  3.31s/it]"
     ]
    },
    {
     "name": "stdout",
     "output_type": "stream",
     "text": [
      "\n",
      "Batch 30/798\n",
      "Input shape: torch.Size([16, 3, 224, 224])\n",
      "Labels shape: torch.Size([16])\n"
     ]
    },
    {
     "name": "stderr",
     "output_type": "stream",
     "text": [
      "Training:   5%|▌         | 40/798 [02:18<43:55,  3.48s/it]"
     ]
    },
    {
     "name": "stdout",
     "output_type": "stream",
     "text": [
      "\n",
      "Batch 40/798\n",
      "Input shape: torch.Size([16, 3, 224, 224])\n",
      "Labels shape: torch.Size([16])\n"
     ]
    },
    {
     "name": "stderr",
     "output_type": "stream",
     "text": [
      "Training:   6%|▋         | 50/798 [02:53<43:11,  3.46s/it]"
     ]
    },
    {
     "name": "stdout",
     "output_type": "stream",
     "text": [
      "\n",
      "Batch 50/798\n",
      "Input shape: torch.Size([16, 3, 224, 224])\n",
      "Labels shape: torch.Size([16])\n"
     ]
    },
    {
     "name": "stderr",
     "output_type": "stream",
     "text": [
      "\rTraining:   6%|▋         | 51/798 [02:56<42:01,  3.38s/it]"
     ]
    },
    {
     "name": "stdout",
     "output_type": "stream",
     "text": [
      "\n",
      "Batch 50 timing:\n",
      "  Data transfer: 0.000s\n",
      "  Forward pass: 1.156s\n",
      "  Backward pass: 2.007s\n",
      "  Total batch: 3.163s\n",
      "  Loss: 1.0670\n"
     ]
    },
    {
     "name": "stderr",
     "output_type": "stream",
     "text": [
      "Training:   8%|▊         | 60/798 [03:26<39:52,  3.24s/it]"
     ]
    },
    {
     "name": "stdout",
     "output_type": "stream",
     "text": [
      "\n",
      "Batch 60/798\n",
      "Input shape: torch.Size([16, 3, 224, 224])\n",
      "Labels shape: torch.Size([16])\n"
     ]
    },
    {
     "name": "stderr",
     "output_type": "stream",
     "text": [
      "Training:   9%|▉         | 70/798 [04:01<42:06,  3.47s/it]"
     ]
    },
    {
     "name": "stdout",
     "output_type": "stream",
     "text": [
      "\n",
      "Batch 70/798\n",
      "Input shape: torch.Size([16, 3, 224, 224])\n",
      "Labels shape: torch.Size([16])\n"
     ]
    },
    {
     "name": "stderr",
     "output_type": "stream",
     "text": [
      "Training:  10%|█         | 80/798 [04:35<39:53,  3.33s/it]"
     ]
    },
    {
     "name": "stdout",
     "output_type": "stream",
     "text": [
      "\n",
      "Batch 80/798\n",
      "Input shape: torch.Size([16, 3, 224, 224])\n",
      "Labels shape: torch.Size([16])\n"
     ]
    },
    {
     "name": "stderr",
     "output_type": "stream",
     "text": [
      "Training:  11%|█▏        | 90/798 [05:09<41:25,  3.51s/it]"
     ]
    },
    {
     "name": "stdout",
     "output_type": "stream",
     "text": [
      "\n",
      "Batch 90/798\n",
      "Input shape: torch.Size([16, 3, 224, 224])\n",
      "Labels shape: torch.Size([16])\n"
     ]
    },
    {
     "name": "stderr",
     "output_type": "stream",
     "text": [
      "Training:  13%|█▎        | 100/798 [05:43<39:10,  3.37s/it]"
     ]
    },
    {
     "name": "stdout",
     "output_type": "stream",
     "text": [
      "\n",
      "Batch 100/798\n",
      "Input shape: torch.Size([16, 3, 224, 224])\n",
      "Labels shape: torch.Size([16])\n"
     ]
    },
    {
     "name": "stderr",
     "output_type": "stream",
     "text": [
      "\rTraining:  13%|█▎        | 101/798 [05:46<38:33,  3.32s/it]"
     ]
    },
    {
     "name": "stdout",
     "output_type": "stream",
     "text": [
      "\n",
      "Batch 100 timing:\n",
      "  Data transfer: 0.000s\n",
      "  Forward pass: 1.164s\n",
      "  Backward pass: 2.035s\n",
      "  Total batch: 3.200s\n",
      "  Loss: 0.9379\n"
     ]
    },
    {
     "name": "stderr",
     "output_type": "stream",
     "text": [
      "Training:  14%|█▍        | 110/798 [06:16<37:41,  3.29s/it]"
     ]
    },
    {
     "name": "stdout",
     "output_type": "stream",
     "text": [
      "\n",
      "Batch 110/798\n",
      "Input shape: torch.Size([16, 3, 224, 224])\n",
      "Labels shape: torch.Size([16])\n"
     ]
    },
    {
     "name": "stderr",
     "output_type": "stream",
     "text": [
      "Training:  15%|█▌        | 120/798 [06:51<39:03,  3.46s/it]"
     ]
    },
    {
     "name": "stdout",
     "output_type": "stream",
     "text": [
      "\n",
      "Batch 120/798\n",
      "Input shape: torch.Size([16, 3, 224, 224])\n",
      "Labels shape: torch.Size([16])\n"
     ]
    },
    {
     "name": "stderr",
     "output_type": "stream",
     "text": [
      "Training:  16%|█▋        | 130/798 [07:25<37:05,  3.33s/it]"
     ]
    },
    {
     "name": "stdout",
     "output_type": "stream",
     "text": [
      "\n",
      "Batch 130/798\n",
      "Input shape: torch.Size([16, 3, 224, 224])\n",
      "Labels shape: torch.Size([16])\n"
     ]
    },
    {
     "name": "stderr",
     "output_type": "stream",
     "text": [
      "Training:  18%|█▊        | 140/798 [07:59<39:13,  3.58s/it]"
     ]
    },
    {
     "name": "stdout",
     "output_type": "stream",
     "text": [
      "\n",
      "Batch 140/798\n",
      "Input shape: torch.Size([16, 3, 224, 224])\n",
      "Labels shape: torch.Size([16])\n"
     ]
    },
    {
     "name": "stderr",
     "output_type": "stream",
     "text": [
      "Training:  19%|█▉        | 150/798 [08:33<35:49,  3.32s/it]"
     ]
    },
    {
     "name": "stdout",
     "output_type": "stream",
     "text": [
      "\n",
      "Batch 150/798\n",
      "Input shape: torch.Size([16, 3, 224, 224])\n",
      "Labels shape: torch.Size([16])\n"
     ]
    },
    {
     "name": "stderr",
     "output_type": "stream",
     "text": [
      "\rTraining:  19%|█▉        | 151/798 [08:36<34:41,  3.22s/it]"
     ]
    },
    {
     "name": "stdout",
     "output_type": "stream",
     "text": [
      "\n",
      "Batch 150 timing:\n",
      "  Data transfer: 0.000s\n",
      "  Forward pass: 1.100s\n",
      "  Backward pass: 1.877s\n",
      "  Total batch: 2.977s\n",
      "  Loss: 1.0965\n"
     ]
    },
    {
     "name": "stderr",
     "output_type": "stream",
     "text": [
      "Training:  20%|██        | 160/798 [09:08<38:49,  3.65s/it]"
     ]
    },
    {
     "name": "stdout",
     "output_type": "stream",
     "text": [
      "\n",
      "Batch 160/798\n",
      "Input shape: torch.Size([16, 3, 224, 224])\n",
      "Labels shape: torch.Size([16])\n"
     ]
    },
    {
     "name": "stderr",
     "output_type": "stream",
     "text": [
      "Training:  21%|██▏       | 170/798 [09:41<35:06,  3.35s/it]"
     ]
    },
    {
     "name": "stdout",
     "output_type": "stream",
     "text": [
      "\n",
      "Batch 170/798\n",
      "Input shape: torch.Size([16, 3, 224, 224])\n",
      "Labels shape: torch.Size([16])\n"
     ]
    },
    {
     "name": "stderr",
     "output_type": "stream",
     "text": [
      "Training:  23%|██▎       | 180/798 [10:15<34:33,  3.36s/it]"
     ]
    },
    {
     "name": "stdout",
     "output_type": "stream",
     "text": [
      "\n",
      "Batch 180/798\n",
      "Input shape: torch.Size([16, 3, 224, 224])\n",
      "Labels shape: torch.Size([16])\n"
     ]
    },
    {
     "name": "stderr",
     "output_type": "stream",
     "text": [
      "Training:  24%|██▍       | 190/798 [10:51<36:01,  3.56s/it]"
     ]
    },
    {
     "name": "stdout",
     "output_type": "stream",
     "text": [
      "\n",
      "Batch 190/798\n",
      "Input shape: torch.Size([16, 3, 224, 224])\n",
      "Labels shape: torch.Size([16])\n"
     ]
    },
    {
     "name": "stderr",
     "output_type": "stream",
     "text": [
      "Training:  25%|██▌       | 200/798 [11:25<33:04,  3.32s/it]"
     ]
    },
    {
     "name": "stdout",
     "output_type": "stream",
     "text": [
      "\n",
      "Batch 200/798\n",
      "Input shape: torch.Size([16, 3, 224, 224])\n",
      "Labels shape: torch.Size([16])\n"
     ]
    },
    {
     "name": "stderr",
     "output_type": "stream",
     "text": [
      "\rTraining:  25%|██▌       | 201/798 [11:29<35:10,  3.54s/it]"
     ]
    },
    {
     "name": "stdout",
     "output_type": "stream",
     "text": [
      "\n",
      "Batch 200 timing:\n",
      "  Data transfer: 0.000s\n",
      "  Forward pass: 1.342s\n",
      "  Backward pass: 2.693s\n",
      "  Total batch: 4.035s\n",
      "  Loss: 0.8202\n"
     ]
    },
    {
     "name": "stderr",
     "output_type": "stream",
     "text": [
      "Training:  26%|██▋       | 210/798 [12:00<34:34,  3.53s/it]"
     ]
    },
    {
     "name": "stdout",
     "output_type": "stream",
     "text": [
      "\n",
      "Batch 210/798\n",
      "Input shape: torch.Size([16, 3, 224, 224])\n",
      "Labels shape: torch.Size([16])\n"
     ]
    },
    {
     "name": "stderr",
     "output_type": "stream",
     "text": [
      "Training:  28%|██▊       | 220/798 [12:34<31:55,  3.31s/it]"
     ]
    },
    {
     "name": "stdout",
     "output_type": "stream",
     "text": [
      "\n",
      "Batch 220/798\n",
      "Input shape: torch.Size([16, 3, 224, 224])\n",
      "Labels shape: torch.Size([16])\n"
     ]
    },
    {
     "name": "stderr",
     "output_type": "stream",
     "text": [
      "Training:  29%|██▉       | 230/798 [13:09<34:37,  3.66s/it]"
     ]
    },
    {
     "name": "stdout",
     "output_type": "stream",
     "text": [
      "\n",
      "Batch 230/798\n",
      "Input shape: torch.Size([16, 3, 224, 224])\n",
      "Labels shape: torch.Size([16])\n"
     ]
    },
    {
     "name": "stderr",
     "output_type": "stream",
     "text": [
      "Training:  30%|███       | 240/798 [13:44<32:35,  3.50s/it]"
     ]
    },
    {
     "name": "stdout",
     "output_type": "stream",
     "text": [
      "\n",
      "Batch 240/798\n",
      "Input shape: torch.Size([16, 3, 224, 224])\n",
      "Labels shape: torch.Size([16])\n"
     ]
    },
    {
     "name": "stderr",
     "output_type": "stream",
     "text": [
      "Training:  31%|███▏      | 250/798 [14:19<32:48,  3.59s/it]"
     ]
    },
    {
     "name": "stdout",
     "output_type": "stream",
     "text": [
      "\n",
      "Batch 250/798\n",
      "Input shape: torch.Size([16, 3, 224, 224])\n",
      "Labels shape: torch.Size([16])\n"
     ]
    },
    {
     "name": "stderr",
     "output_type": "stream",
     "text": [
      "\rTraining:  31%|███▏      | 251/798 [14:22<32:15,  3.54s/it]"
     ]
    },
    {
     "name": "stdout",
     "output_type": "stream",
     "text": [
      "\n",
      "Batch 250 timing:\n",
      "  Data transfer: 0.000s\n",
      "  Forward pass: 1.457s\n",
      "  Backward pass: 1.937s\n",
      "  Total batch: 3.395s\n",
      "  Loss: 0.8856\n"
     ]
    },
    {
     "name": "stderr",
     "output_type": "stream",
     "text": [
      "Training:  33%|███▎      | 260/798 [14:53<30:09,  3.36s/it]"
     ]
    },
    {
     "name": "stdout",
     "output_type": "stream",
     "text": [
      "\n",
      "Batch 260/798\n",
      "Input shape: torch.Size([16, 3, 224, 224])\n",
      "Labels shape: torch.Size([16])\n"
     ]
    },
    {
     "name": "stderr",
     "output_type": "stream",
     "text": [
      "Training:  34%|███▍      | 270/798 [15:27<29:53,  3.40s/it]"
     ]
    },
    {
     "name": "stdout",
     "output_type": "stream",
     "text": [
      "\n",
      "Batch 270/798\n",
      "Input shape: torch.Size([16, 3, 224, 224])\n",
      "Labels shape: torch.Size([16])\n"
     ]
    },
    {
     "name": "stderr",
     "output_type": "stream",
     "text": [
      "Training:  35%|███▌      | 280/798 [16:03<31:07,  3.61s/it]"
     ]
    },
    {
     "name": "stdout",
     "output_type": "stream",
     "text": [
      "\n",
      "Batch 280/798\n",
      "Input shape: torch.Size([16, 3, 224, 224])\n",
      "Labels shape: torch.Size([16])\n"
     ]
    },
    {
     "name": "stderr",
     "output_type": "stream",
     "text": [
      "Training:  36%|███▋      | 290/798 [16:36<27:15,  3.22s/it]"
     ]
    },
    {
     "name": "stdout",
     "output_type": "stream",
     "text": [
      "\n",
      "Batch 290/798\n",
      "Input shape: torch.Size([16, 3, 224, 224])\n",
      "Labels shape: torch.Size([16])\n"
     ]
    },
    {
     "name": "stderr",
     "output_type": "stream",
     "text": [
      "Training:  38%|███▊      | 300/798 [17:11<28:51,  3.48s/it]"
     ]
    },
    {
     "name": "stdout",
     "output_type": "stream",
     "text": [
      "\n",
      "Batch 300/798\n",
      "Input shape: torch.Size([16, 3, 224, 224])\n",
      "Labels shape: torch.Size([16])\n"
     ]
    },
    {
     "name": "stderr",
     "output_type": "stream",
     "text": [
      "\rTraining:  38%|███▊      | 301/798 [17:14<27:45,  3.35s/it]"
     ]
    },
    {
     "name": "stdout",
     "output_type": "stream",
     "text": [
      "\n",
      "Batch 300 timing:\n",
      "  Data transfer: 0.000s\n",
      "  Forward pass: 1.150s\n",
      "  Backward pass: 1.899s\n",
      "  Total batch: 3.050s\n",
      "  Loss: 1.0110\n"
     ]
    },
    {
     "name": "stderr",
     "output_type": "stream",
     "text": [
      "Training:  39%|███▉      | 310/798 [17:44<26:33,  3.26s/it]"
     ]
    },
    {
     "name": "stdout",
     "output_type": "stream",
     "text": [
      "\n",
      "Batch 310/798\n",
      "Input shape: torch.Size([16, 3, 224, 224])\n",
      "Labels shape: torch.Size([16])\n"
     ]
    },
    {
     "name": "stderr",
     "output_type": "stream",
     "text": [
      "Training:  40%|████      | 320/798 [18:20<29:57,  3.76s/it]"
     ]
    },
    {
     "name": "stdout",
     "output_type": "stream",
     "text": [
      "\n",
      "Batch 320/798\n",
      "Input shape: torch.Size([16, 3, 224, 224])\n",
      "Labels shape: torch.Size([16])\n"
     ]
    },
    {
     "name": "stderr",
     "output_type": "stream",
     "text": [
      "Training:  41%|████▏     | 330/798 [18:55<26:31,  3.40s/it]"
     ]
    },
    {
     "name": "stdout",
     "output_type": "stream",
     "text": [
      "\n",
      "Batch 330/798\n",
      "Input shape: torch.Size([16, 3, 224, 224])\n",
      "Labels shape: torch.Size([16])\n"
     ]
    },
    {
     "name": "stderr",
     "output_type": "stream",
     "text": [
      "Training:  43%|████▎     | 340/798 [19:31<28:12,  3.70s/it]"
     ]
    },
    {
     "name": "stdout",
     "output_type": "stream",
     "text": [
      "\n",
      "Batch 340/798\n",
      "Input shape: torch.Size([16, 3, 224, 224])\n",
      "Labels shape: torch.Size([16])\n"
     ]
    },
    {
     "name": "stderr",
     "output_type": "stream",
     "text": [
      "Training:  44%|████▍     | 350/798 [20:04<25:29,  3.41s/it]"
     ]
    },
    {
     "name": "stdout",
     "output_type": "stream",
     "text": [
      "\n",
      "Batch 350/798\n",
      "Input shape: torch.Size([16, 3, 224, 224])\n",
      "Labels shape: torch.Size([16])\n"
     ]
    },
    {
     "name": "stderr",
     "output_type": "stream",
     "text": [
      "\rTraining:  44%|████▍     | 351/798 [20:07<24:54,  3.34s/it]"
     ]
    },
    {
     "name": "stdout",
     "output_type": "stream",
     "text": [
      "\n",
      "Batch 350 timing:\n",
      "  Data transfer: 0.000s\n",
      "  Forward pass: 1.169s\n",
      "  Backward pass: 1.999s\n",
      "  Total batch: 3.168s\n",
      "  Loss: 1.3225\n"
     ]
    },
    {
     "name": "stderr",
     "output_type": "stream",
     "text": [
      "Training:  45%|████▌     | 360/798 [20:39<25:07,  3.44s/it]"
     ]
    },
    {
     "name": "stdout",
     "output_type": "stream",
     "text": [
      "\n",
      "Batch 360/798\n",
      "Input shape: torch.Size([16, 3, 224, 224])\n",
      "Labels shape: torch.Size([16])\n"
     ]
    },
    {
     "name": "stderr",
     "output_type": "stream",
     "text": [
      "Training:  46%|████▋     | 370/798 [21:13<25:03,  3.51s/it]"
     ]
    },
    {
     "name": "stdout",
     "output_type": "stream",
     "text": [
      "\n",
      "Batch 370/798\n",
      "Input shape: torch.Size([16, 3, 224, 224])\n",
      "Labels shape: torch.Size([16])\n"
     ]
    },
    {
     "name": "stderr",
     "output_type": "stream",
     "text": [
      "Training:  48%|████▊     | 380/798 [21:49<24:58,  3.58s/it]"
     ]
    },
    {
     "name": "stdout",
     "output_type": "stream",
     "text": [
      "\n",
      "Batch 380/798\n",
      "Input shape: torch.Size([16, 3, 224, 224])\n",
      "Labels shape: torch.Size([16])\n"
     ]
    },
    {
     "name": "stderr",
     "output_type": "stream",
     "text": [
      "Training:  49%|████▉     | 390/798 [22:24<23:20,  3.43s/it]"
     ]
    },
    {
     "name": "stdout",
     "output_type": "stream",
     "text": [
      "\n",
      "Batch 390/798\n",
      "Input shape: torch.Size([16, 3, 224, 224])\n",
      "Labels shape: torch.Size([16])\n"
     ]
    },
    {
     "name": "stderr",
     "output_type": "stream",
     "text": [
      "Training:  50%|█████     | 400/798 [22:57<21:44,  3.28s/it]"
     ]
    },
    {
     "name": "stdout",
     "output_type": "stream",
     "text": [
      "\n",
      "Batch 400/798\n",
      "Input shape: torch.Size([16, 3, 224, 224])\n",
      "Labels shape: torch.Size([16])\n"
     ]
    },
    {
     "name": "stderr",
     "output_type": "stream",
     "text": [
      "\rTraining:  50%|█████     | 401/798 [23:02<24:00,  3.63s/it]"
     ]
    },
    {
     "name": "stdout",
     "output_type": "stream",
     "text": [
      "\n",
      "Batch 400 timing:\n",
      "  Data transfer: 0.000s\n",
      "  Forward pass: 1.487s\n",
      "  Backward pass: 2.942s\n",
      "  Total batch: 4.433s\n",
      "  Loss: 1.1115\n"
     ]
    },
    {
     "name": "stderr",
     "output_type": "stream",
     "text": [
      "Training:  51%|█████▏    | 410/798 [23:32<22:29,  3.48s/it]"
     ]
    },
    {
     "name": "stdout",
     "output_type": "stream",
     "text": [
      "\n",
      "Batch 410/798\n",
      "Input shape: torch.Size([16, 3, 224, 224])\n",
      "Labels shape: torch.Size([16])\n"
     ]
    },
    {
     "name": "stderr",
     "output_type": "stream",
     "text": [
      "Training:  53%|█████▎    | 420/798 [24:06<20:36,  3.27s/it]"
     ]
    },
    {
     "name": "stdout",
     "output_type": "stream",
     "text": [
      "\n",
      "Batch 420/798\n",
      "Input shape: torch.Size([16, 3, 224, 224])\n",
      "Labels shape: torch.Size([16])\n"
     ]
    },
    {
     "name": "stderr",
     "output_type": "stream",
     "text": [
      "Training:  54%|█████▍    | 430/798 [24:41<22:35,  3.68s/it]"
     ]
    },
    {
     "name": "stdout",
     "output_type": "stream",
     "text": [
      "\n",
      "Batch 430/798\n",
      "Input shape: torch.Size([16, 3, 224, 224])\n",
      "Labels shape: torch.Size([16])\n"
     ]
    },
    {
     "name": "stderr",
     "output_type": "stream",
     "text": [
      "Training:  55%|█████▌    | 440/798 [25:16<20:30,  3.44s/it]"
     ]
    },
    {
     "name": "stdout",
     "output_type": "stream",
     "text": [
      "\n",
      "Batch 440/798\n",
      "Input shape: torch.Size([16, 3, 224, 224])\n",
      "Labels shape: torch.Size([16])\n"
     ]
    },
    {
     "name": "stderr",
     "output_type": "stream",
     "text": [
      "Training:  56%|█████▋    | 450/798 [25:51<20:54,  3.60s/it]"
     ]
    },
    {
     "name": "stdout",
     "output_type": "stream",
     "text": [
      "\n",
      "Batch 450/798\n",
      "Input shape: torch.Size([16, 3, 224, 224])\n",
      "Labels shape: torch.Size([16])\n"
     ]
    },
    {
     "name": "stderr",
     "output_type": "stream",
     "text": [
      "\rTraining:  57%|█████▋    | 451/798 [25:54<20:20,  3.52s/it]"
     ]
    },
    {
     "name": "stdout",
     "output_type": "stream",
     "text": [
      "\n",
      "Batch 450 timing:\n",
      "  Data transfer: 0.000s\n",
      "  Forward pass: 1.410s\n",
      "  Backward pass: 1.886s\n",
      "  Total batch: 3.295s\n",
      "  Loss: 1.3836\n"
     ]
    },
    {
     "name": "stderr",
     "output_type": "stream",
     "text": [
      "Training:  58%|█████▊    | 460/798 [26:25<19:11,  3.41s/it]"
     ]
    },
    {
     "name": "stdout",
     "output_type": "stream",
     "text": [
      "\n",
      "Batch 460/798\n",
      "Input shape: torch.Size([16, 3, 224, 224])\n",
      "Labels shape: torch.Size([16])\n"
     ]
    },
    {
     "name": "stderr",
     "output_type": "stream",
     "text": [
      "Training:  59%|█████▉    | 470/798 [26:59<18:12,  3.33s/it]"
     ]
    },
    {
     "name": "stdout",
     "output_type": "stream",
     "text": [
      "\n",
      "Batch 470/798\n",
      "Input shape: torch.Size([16, 3, 224, 224])\n",
      "Labels shape: torch.Size([16])\n"
     ]
    },
    {
     "name": "stderr",
     "output_type": "stream",
     "text": [
      "Training:  60%|██████    | 480/798 [27:33<18:23,  3.47s/it]"
     ]
    },
    {
     "name": "stdout",
     "output_type": "stream",
     "text": [
      "\n",
      "Batch 480/798\n",
      "Input shape: torch.Size([16, 3, 224, 224])\n",
      "Labels shape: torch.Size([16])\n"
     ]
    },
    {
     "name": "stderr",
     "output_type": "stream",
     "text": [
      "Training:  61%|██████▏   | 490/798 [28:09<17:13,  3.35s/it]"
     ]
    },
    {
     "name": "stdout",
     "output_type": "stream",
     "text": [
      "\n",
      "Batch 490/798\n",
      "Input shape: torch.Size([16, 3, 224, 224])\n",
      "Labels shape: torch.Size([16])\n"
     ]
    },
    {
     "name": "stderr",
     "output_type": "stream",
     "text": [
      "Training:  63%|██████▎   | 500/798 [28:43<17:06,  3.44s/it]"
     ]
    },
    {
     "name": "stdout",
     "output_type": "stream",
     "text": [
      "\n",
      "Batch 500/798\n",
      "Input shape: torch.Size([16, 3, 224, 224])\n",
      "Labels shape: torch.Size([16])\n"
     ]
    },
    {
     "name": "stderr",
     "output_type": "stream",
     "text": [
      "\rTraining:  63%|██████▎   | 501/798 [28:46<16:21,  3.30s/it]"
     ]
    },
    {
     "name": "stdout",
     "output_type": "stream",
     "text": [
      "\n",
      "Batch 500 timing:\n",
      "  Data transfer: 0.000s\n",
      "  Forward pass: 1.094s\n",
      "  Backward pass: 1.874s\n",
      "  Total batch: 2.968s\n",
      "  Loss: 1.3700\n"
     ]
    },
    {
     "name": "stderr",
     "output_type": "stream",
     "text": [
      "Training:  64%|██████▍   | 510/798 [29:16<16:00,  3.34s/it]"
     ]
    },
    {
     "name": "stdout",
     "output_type": "stream",
     "text": [
      "\n",
      "Batch 510/798\n",
      "Input shape: torch.Size([16, 3, 224, 224])\n",
      "Labels shape: torch.Size([16])\n"
     ]
    },
    {
     "name": "stderr",
     "output_type": "stream",
     "text": [
      "Training:  65%|██████▌   | 520/798 [29:52<16:46,  3.62s/it]"
     ]
    },
    {
     "name": "stdout",
     "output_type": "stream",
     "text": [
      "\n",
      "Batch 520/798\n",
      "Input shape: torch.Size([16, 3, 224, 224])\n",
      "Labels shape: torch.Size([16])\n"
     ]
    },
    {
     "name": "stderr",
     "output_type": "stream",
     "text": [
      "Training:  66%|██████▋   | 530/798 [30:26<15:18,  3.43s/it]"
     ]
    },
    {
     "name": "stdout",
     "output_type": "stream",
     "text": [
      "\n",
      "Batch 530/798\n",
      "Input shape: torch.Size([16, 3, 224, 224])\n",
      "Labels shape: torch.Size([16])\n"
     ]
    },
    {
     "name": "stderr",
     "output_type": "stream",
     "text": [
      "Training:  68%|██████▊   | 540/798 [31:01<15:15,  3.55s/it]"
     ]
    },
    {
     "name": "stdout",
     "output_type": "stream",
     "text": [
      "\n",
      "Batch 540/798\n",
      "Input shape: torch.Size([16, 3, 224, 224])\n",
      "Labels shape: torch.Size([16])\n"
     ]
    },
    {
     "name": "stderr",
     "output_type": "stream",
     "text": [
      "Training:  69%|██████▉   | 550/798 [31:36<14:25,  3.49s/it]"
     ]
    },
    {
     "name": "stdout",
     "output_type": "stream",
     "text": [
      "\n",
      "Batch 550/798\n",
      "Input shape: torch.Size([16, 3, 224, 224])\n",
      "Labels shape: torch.Size([16])\n"
     ]
    },
    {
     "name": "stderr",
     "output_type": "stream",
     "text": [
      "\rTraining:  69%|██████▉   | 551/798 [31:39<13:55,  3.38s/it]"
     ]
    },
    {
     "name": "stdout",
     "output_type": "stream",
     "text": [
      "\n",
      "Batch 550 timing:\n",
      "  Data transfer: 0.000s\n",
      "  Forward pass: 1.246s\n",
      "  Backward pass: 1.882s\n",
      "  Total batch: 3.128s\n",
      "  Loss: 1.0121\n"
     ]
    },
    {
     "name": "stderr",
     "output_type": "stream",
     "text": [
      "Training:  70%|███████   | 560/798 [32:10<13:45,  3.47s/it]"
     ]
    },
    {
     "name": "stdout",
     "output_type": "stream",
     "text": [
      "\n",
      "Batch 560/798\n",
      "Input shape: torch.Size([16, 3, 224, 224])\n",
      "Labels shape: torch.Size([16])\n"
     ]
    },
    {
     "name": "stderr",
     "output_type": "stream",
     "text": [
      "Training:  71%|███████▏  | 570/798 [32:45<13:14,  3.48s/it]"
     ]
    },
    {
     "name": "stdout",
     "output_type": "stream",
     "text": [
      "\n",
      "Batch 570/798\n",
      "Input shape: torch.Size([16, 3, 224, 224])\n",
      "Labels shape: torch.Size([16])\n"
     ]
    },
    {
     "name": "stderr",
     "output_type": "stream",
     "text": [
      "Training:  73%|███████▎  | 580/798 [33:18<11:50,  3.26s/it]"
     ]
    },
    {
     "name": "stdout",
     "output_type": "stream",
     "text": [
      "\n",
      "Batch 580/798\n",
      "Input shape: torch.Size([16, 3, 224, 224])\n",
      "Labels shape: torch.Size([16])\n"
     ]
    },
    {
     "name": "stderr",
     "output_type": "stream",
     "text": [
      "Training:  74%|███████▍  | 590/798 [33:53<12:09,  3.51s/it]"
     ]
    },
    {
     "name": "stdout",
     "output_type": "stream",
     "text": [
      "\n",
      "Batch 590/798\n",
      "Input shape: torch.Size([16, 3, 224, 224])\n",
      "Labels shape: torch.Size([16])\n"
     ]
    },
    {
     "name": "stderr",
     "output_type": "stream",
     "text": [
      "Training:  75%|███████▌  | 600/798 [34:26<10:54,  3.30s/it]"
     ]
    },
    {
     "name": "stdout",
     "output_type": "stream",
     "text": [
      "\n",
      "Batch 600/798\n",
      "Input shape: torch.Size([16, 3, 224, 224])\n",
      "Labels shape: torch.Size([16])\n"
     ]
    },
    {
     "name": "stderr",
     "output_type": "stream",
     "text": [
      "\rTraining:  75%|███████▌  | 601/798 [34:29<10:32,  3.21s/it]"
     ]
    },
    {
     "name": "stdout",
     "output_type": "stream",
     "text": [
      "\n",
      "Batch 600 timing:\n",
      "  Data transfer: 0.000s\n",
      "  Forward pass: 1.094s\n",
      "  Backward pass: 1.885s\n",
      "  Total batch: 2.980s\n",
      "  Loss: 1.2163\n"
     ]
    },
    {
     "name": "stderr",
     "output_type": "stream",
     "text": [
      "Training:  76%|███████▋  | 610/798 [35:01<11:11,  3.57s/it]"
     ]
    },
    {
     "name": "stdout",
     "output_type": "stream",
     "text": [
      "\n",
      "Batch 610/798\n",
      "Input shape: torch.Size([16, 3, 224, 224])\n",
      "Labels shape: torch.Size([16])\n"
     ]
    },
    {
     "name": "stderr",
     "output_type": "stream",
     "text": [
      "Training:  78%|███████▊  | 620/798 [35:35<10:11,  3.44s/it]"
     ]
    },
    {
     "name": "stdout",
     "output_type": "stream",
     "text": [
      "\n",
      "Batch 620/798\n",
      "Input shape: torch.Size([16, 3, 224, 224])\n",
      "Labels shape: torch.Size([16])\n"
     ]
    },
    {
     "name": "stderr",
     "output_type": "stream",
     "text": [
      "Training:  79%|███████▉  | 630/798 [36:09<09:02,  3.23s/it]"
     ]
    },
    {
     "name": "stdout",
     "output_type": "stream",
     "text": [
      "\n",
      "Batch 630/798\n",
      "Input shape: torch.Size([16, 3, 224, 224])\n",
      "Labels shape: torch.Size([16])\n"
     ]
    },
    {
     "name": "stderr",
     "output_type": "stream",
     "text": [
      "Training:  80%|████████  | 640/798 [36:44<09:24,  3.58s/it]"
     ]
    },
    {
     "name": "stdout",
     "output_type": "stream",
     "text": [
      "\n",
      "Batch 640/798\n",
      "Input shape: torch.Size([16, 3, 224, 224])\n",
      "Labels shape: torch.Size([16])\n"
     ]
    },
    {
     "name": "stderr",
     "output_type": "stream",
     "text": [
      "Training:  81%|████████▏ | 650/798 [37:19<08:25,  3.42s/it]"
     ]
    },
    {
     "name": "stdout",
     "output_type": "stream",
     "text": [
      "\n",
      "Batch 650/798\n",
      "Input shape: torch.Size([16, 3, 224, 224])\n",
      "Labels shape: torch.Size([16])\n"
     ]
    },
    {
     "name": "stderr",
     "output_type": "stream",
     "text": [
      "\rTraining:  82%|████████▏ | 651/798 [37:23<08:59,  3.67s/it]"
     ]
    },
    {
     "name": "stdout",
     "output_type": "stream",
     "text": [
      "\n",
      "Batch 650 timing:\n",
      "  Data transfer: 0.000s\n",
      "  Forward pass: 1.286s\n",
      "  Backward pass: 2.962s\n",
      "  Total batch: 4.248s\n",
      "  Loss: 1.1917\n"
     ]
    },
    {
     "name": "stderr",
     "output_type": "stream",
     "text": [
      "Training:  83%|████████▎ | 660/798 [37:54<08:06,  3.53s/it]"
     ]
    },
    {
     "name": "stdout",
     "output_type": "stream",
     "text": [
      "\n",
      "Batch 660/798\n",
      "Input shape: torch.Size([16, 3, 224, 224])\n",
      "Labels shape: torch.Size([16])\n"
     ]
    },
    {
     "name": "stderr",
     "output_type": "stream",
     "text": [
      "Training:  84%|████████▍ | 670/798 [38:27<07:12,  3.38s/it]"
     ]
    },
    {
     "name": "stdout",
     "output_type": "stream",
     "text": [
      "\n",
      "Batch 670/798\n",
      "Input shape: torch.Size([16, 3, 224, 224])\n",
      "Labels shape: torch.Size([16])\n"
     ]
    },
    {
     "name": "stderr",
     "output_type": "stream",
     "text": [
      "Training:  85%|████████▌ | 680/798 [39:03<07:16,  3.70s/it]"
     ]
    },
    {
     "name": "stdout",
     "output_type": "stream",
     "text": [
      "\n",
      "Batch 680/798\n",
      "Input shape: torch.Size([16, 3, 224, 224])\n",
      "Labels shape: torch.Size([16])\n"
     ]
    },
    {
     "name": "stderr",
     "output_type": "stream",
     "text": [
      "Training:  86%|████████▋ | 690/798 [39:37<06:05,  3.38s/it]"
     ]
    },
    {
     "name": "stdout",
     "output_type": "stream",
     "text": [
      "\n",
      "Batch 690/798\n",
      "Input shape: torch.Size([16, 3, 224, 224])\n",
      "Labels shape: torch.Size([16])\n"
     ]
    },
    {
     "name": "stderr",
     "output_type": "stream",
     "text": [
      "Training:  88%|████████▊ | 700/798 [40:11<05:39,  3.46s/it]"
     ]
    },
    {
     "name": "stdout",
     "output_type": "stream",
     "text": [
      "\n",
      "Batch 700/798\n",
      "Input shape: torch.Size([16, 3, 224, 224])\n",
      "Labels shape: torch.Size([16])\n"
     ]
    },
    {
     "name": "stderr",
     "output_type": "stream",
     "text": [
      "\rTraining:  88%|████████▊ | 701/798 [40:15<05:40,  3.51s/it]"
     ]
    },
    {
     "name": "stdout",
     "output_type": "stream",
     "text": [
      "\n",
      "Batch 700 timing:\n",
      "  Data transfer: 0.000s\n",
      "  Forward pass: 1.606s\n",
      "  Backward pass: 2.003s\n",
      "  Total batch: 3.609s\n",
      "  Loss: 1.0818\n"
     ]
    },
    {
     "name": "stderr",
     "output_type": "stream",
     "text": [
      "Training:  89%|████████▉ | 710/798 [40:46<05:00,  3.41s/it]"
     ]
    },
    {
     "name": "stdout",
     "output_type": "stream",
     "text": [
      "\n",
      "Batch 710/798\n",
      "Input shape: torch.Size([16, 3, 224, 224])\n",
      "Labels shape: torch.Size([16])\n"
     ]
    },
    {
     "name": "stderr",
     "output_type": "stream",
     "text": [
      "Training:  90%|█████████ | 720/798 [41:20<04:21,  3.35s/it]"
     ]
    },
    {
     "name": "stdout",
     "output_type": "stream",
     "text": [
      "\n",
      "Batch 720/798\n",
      "Input shape: torch.Size([16, 3, 224, 224])\n",
      "Labels shape: torch.Size([16])\n"
     ]
    },
    {
     "name": "stderr",
     "output_type": "stream",
     "text": [
      "Training:  91%|█████████▏| 730/798 [41:55<03:59,  3.53s/it]"
     ]
    },
    {
     "name": "stdout",
     "output_type": "stream",
     "text": [
      "\n",
      "Batch 730/798\n",
      "Input shape: torch.Size([16, 3, 224, 224])\n",
      "Labels shape: torch.Size([16])\n"
     ]
    },
    {
     "name": "stderr",
     "output_type": "stream",
     "text": [
      "Training:  93%|█████████▎| 740/798 [42:29<03:11,  3.29s/it]"
     ]
    },
    {
     "name": "stdout",
     "output_type": "stream",
     "text": [
      "\n",
      "Batch 740/798\n",
      "Input shape: torch.Size([16, 3, 224, 224])\n",
      "Labels shape: torch.Size([16])\n"
     ]
    },
    {
     "name": "stderr",
     "output_type": "stream",
     "text": [
      "Training:  94%|█████████▍| 750/798 [43:04<02:48,  3.51s/it]"
     ]
    },
    {
     "name": "stdout",
     "output_type": "stream",
     "text": [
      "\n",
      "Batch 750/798\n",
      "Input shape: torch.Size([16, 3, 224, 224])\n",
      "Labels shape: torch.Size([16])\n"
     ]
    },
    {
     "name": "stderr",
     "output_type": "stream",
     "text": [
      "\rTraining:  94%|█████████▍| 751/798 [43:07<02:38,  3.37s/it]"
     ]
    },
    {
     "name": "stdout",
     "output_type": "stream",
     "text": [
      "\n",
      "Batch 750 timing:\n",
      "  Data transfer: 0.000s\n",
      "  Forward pass: 1.172s\n",
      "  Backward pass: 1.855s\n",
      "  Total batch: 3.028s\n",
      "  Loss: 1.1315\n"
     ]
    },
    {
     "name": "stderr",
     "output_type": "stream",
     "text": [
      "Training:  95%|█████████▌| 760/798 [43:37<02:08,  3.39s/it]"
     ]
    },
    {
     "name": "stdout",
     "output_type": "stream",
     "text": [
      "\n",
      "Batch 760/798\n",
      "Input shape: torch.Size([16, 3, 224, 224])\n",
      "Labels shape: torch.Size([16])\n"
     ]
    },
    {
     "name": "stderr",
     "output_type": "stream",
     "text": [
      "Training:  96%|█████████▋| 770/798 [44:13<01:41,  3.63s/it]"
     ]
    },
    {
     "name": "stdout",
     "output_type": "stream",
     "text": [
      "\n",
      "Batch 770/798\n",
      "Input shape: torch.Size([16, 3, 224, 224])\n",
      "Labels shape: torch.Size([16])\n"
     ]
    },
    {
     "name": "stderr",
     "output_type": "stream",
     "text": [
      "Training:  98%|█████████▊| 780/798 [44:47<01:00,  3.37s/it]"
     ]
    },
    {
     "name": "stdout",
     "output_type": "stream",
     "text": [
      "\n",
      "Batch 780/798\n",
      "Input shape: torch.Size([16, 3, 224, 224])\n",
      "Labels shape: torch.Size([16])\n"
     ]
    },
    {
     "name": "stderr",
     "output_type": "stream",
     "text": [
      "Training:  99%|█████████▉| 790/798 [45:21<00:27,  3.40s/it]"
     ]
    },
    {
     "name": "stdout",
     "output_type": "stream",
     "text": [
      "\n",
      "Batch 790/798\n",
      "Input shape: torch.Size([16, 3, 224, 224])\n",
      "Labels shape: torch.Size([16])\n"
     ]
    },
    {
     "name": "stderr",
     "output_type": "stream",
     "text": [
      "Training: 100%|██████████| 798/798 [45:47<00:00,  3.44s/it]"
     ]
    },
    {
     "name": "stdout",
     "output_type": "stream",
     "text": [
      "\n",
      "Epoch 2 completed in 2747.6 seconds\n",
      "Training Loss: 1.1256\n",
      "Average time per batch: 3.443s\n",
      "Starting validation...\n"
     ]
    },
    {
     "name": "stderr",
     "output_type": "stream",
     "text": [
      "\n"
     ]
    },
    {
     "name": "stdout",
     "output_type": "stream",
     "text": [
      "Validation batch 0/200\n",
      "Validation batch 20/200\n",
      "Validation batch 40/200\n",
      "Validation batch 60/200\n",
      "Validation batch 80/200\n",
      "Validation batch 100/200\n",
      "Validation batch 120/200\n",
      "Validation batch 140/200\n",
      "Validation batch 160/200\n",
      "Validation batch 180/200\n",
      "Validation completed in 172.2 seconds\n",
      "Validation Metrics:\n",
      "              precision    recall  f1-score   support\n",
      "\n",
      "           0      0.604     0.510     0.553       588\n",
      "           1      0.506     0.596     0.548       959\n",
      "           2      0.400     0.287     0.334       659\n",
      "           3      0.426     0.581     0.492       554\n",
      "           4      0.500     0.369     0.425       306\n",
      "           5      0.559     0.492     0.523       126\n",
      "\n",
      "    accuracy                          0.488      3192\n",
      "   macro avg      0.499     0.473     0.479      3192\n",
      "weighted avg      0.490     0.488     0.482      3192\n",
      "\n",
      "\n",
      "Epoch 3/5\n"
     ]
    },
    {
     "name": "stderr",
     "output_type": "stream",
     "text": [
      "\rTraining:   0%|          | 0/798 [00:00<?, ?it/s]"
     ]
    },
    {
     "name": "stdout",
     "output_type": "stream",
     "text": [
      "\n",
      "Batch 0/798\n",
      "Input shape: torch.Size([16, 3, 224, 224])\n",
      "Labels shape: torch.Size([16])\n"
     ]
    },
    {
     "name": "stderr",
     "output_type": "stream",
     "text": [
      "\rTraining:   0%|          | 1/798 [00:06<1:24:13,  6.34s/it]"
     ]
    },
    {
     "name": "stdout",
     "output_type": "stream",
     "text": [
      "\n",
      "Batch 0 timing:\n",
      "  Data transfer: 0.000s\n",
      "  Forward pass: 3.259s\n",
      "  Backward pass: 2.317s\n",
      "  Total batch: 5.586s\n",
      "  Loss: 1.0424\n"
     ]
    },
    {
     "name": "stderr",
     "output_type": "stream",
     "text": [
      "\rTraining:   0%|          | 2/798 [00:09<1:00:29,  4.56s/it]"
     ]
    },
    {
     "name": "stdout",
     "output_type": "stream",
     "text": [
      "\n",
      "Batch 1 timing:\n",
      "  Data transfer: 0.000s\n",
      "  Forward pass: 1.227s\n",
      "  Backward pass: 2.076s\n",
      "  Total batch: 3.302s\n",
      "  Loss: 0.7635\n"
     ]
    },
    {
     "name": "stderr",
     "output_type": "stream",
     "text": [
      "\rTraining:   0%|          | 3/798 [00:13<53:11,  4.01s/it]  "
     ]
    },
    {
     "name": "stdout",
     "output_type": "stream",
     "text": [
      "\n",
      "Batch 2 timing:\n",
      "  Data transfer: 0.000s\n",
      "  Forward pass: 1.188s\n",
      "  Backward pass: 2.169s\n",
      "  Total batch: 3.358s\n",
      "  Loss: 0.8457\n"
     ]
    },
    {
     "name": "stderr",
     "output_type": "stream",
     "text": [
      "\rTraining:   1%|          | 4/798 [00:17<54:57,  4.15s/it]"
     ]
    },
    {
     "name": "stdout",
     "output_type": "stream",
     "text": [
      "\n",
      "Batch 3 timing:\n",
      "  Data transfer: 0.000s\n",
      "  Forward pass: 1.575s\n",
      "  Backward pass: 2.783s\n",
      "  Total batch: 4.358s\n",
      "  Loss: 1.3121\n"
     ]
    },
    {
     "name": "stderr",
     "output_type": "stream",
     "text": [
      "\rTraining:   1%|          | 5/798 [00:20<49:48,  3.77s/it]"
     ]
    },
    {
     "name": "stdout",
     "output_type": "stream",
     "text": [
      "\n",
      "Batch 4 timing:\n",
      "  Data transfer: 0.000s\n",
      "  Forward pass: 1.191s\n",
      "  Backward pass: 1.889s\n",
      "  Total batch: 3.080s\n",
      "  Loss: 1.3955\n"
     ]
    },
    {
     "name": "stderr",
     "output_type": "stream",
     "text": [
      "Training:   1%|▏         | 10/798 [00:37<44:56,  3.42s/it]"
     ]
    },
    {
     "name": "stdout",
     "output_type": "stream",
     "text": [
      "\n",
      "Batch 10/798\n",
      "Input shape: torch.Size([16, 3, 224, 224])\n",
      "Labels shape: torch.Size([16])\n"
     ]
    },
    {
     "name": "stderr",
     "output_type": "stream",
     "text": [
      "Training:   3%|▎         | 20/798 [01:12<47:10,  3.64s/it]"
     ]
    },
    {
     "name": "stdout",
     "output_type": "stream",
     "text": [
      "\n",
      "Batch 20/798\n",
      "Input shape: torch.Size([16, 3, 224, 224])\n",
      "Labels shape: torch.Size([16])\n"
     ]
    },
    {
     "name": "stderr",
     "output_type": "stream",
     "text": [
      "Training:   4%|▍         | 30/798 [01:46<43:23,  3.39s/it]"
     ]
    },
    {
     "name": "stdout",
     "output_type": "stream",
     "text": [
      "\n",
      "Batch 30/798\n",
      "Input shape: torch.Size([16, 3, 224, 224])\n",
      "Labels shape: torch.Size([16])\n"
     ]
    },
    {
     "name": "stderr",
     "output_type": "stream",
     "text": [
      "Training:   5%|▌         | 40/798 [02:21<44:30,  3.52s/it]"
     ]
    },
    {
     "name": "stdout",
     "output_type": "stream",
     "text": [
      "\n",
      "Batch 40/798\n",
      "Input shape: torch.Size([16, 3, 224, 224])\n",
      "Labels shape: torch.Size([16])\n"
     ]
    },
    {
     "name": "stderr",
     "output_type": "stream",
     "text": [
      "Training:   6%|▋         | 50/798 [02:55<41:45,  3.35s/it]"
     ]
    },
    {
     "name": "stdout",
     "output_type": "stream",
     "text": [
      "\n",
      "Batch 50/798\n",
      "Input shape: torch.Size([16, 3, 224, 224])\n",
      "Labels shape: torch.Size([16])\n"
     ]
    },
    {
     "name": "stderr",
     "output_type": "stream",
     "text": [
      "\rTraining:   6%|▋         | 51/798 [02:58<40:09,  3.23s/it]"
     ]
    },
    {
     "name": "stdout",
     "output_type": "stream",
     "text": [
      "\n",
      "Batch 50 timing:\n",
      "  Data transfer: 0.000s\n",
      "  Forward pass: 1.081s\n",
      "  Backward pass: 1.846s\n",
      "  Total batch: 2.927s\n",
      "  Loss: 1.1161\n"
     ]
    },
    {
     "name": "stderr",
     "output_type": "stream",
     "text": [
      "Training:   8%|▊         | 60/798 [03:29<40:18,  3.28s/it]"
     ]
    },
    {
     "name": "stdout",
     "output_type": "stream",
     "text": [
      "\n",
      "Batch 60/798\n",
      "Input shape: torch.Size([16, 3, 224, 224])\n",
      "Labels shape: torch.Size([16])\n"
     ]
    },
    {
     "name": "stderr",
     "output_type": "stream",
     "text": [
      "Training:   9%|▉         | 70/798 [04:04<42:52,  3.53s/it]"
     ]
    },
    {
     "name": "stdout",
     "output_type": "stream",
     "text": [
      "\n",
      "Batch 70/798\n",
      "Input shape: torch.Size([16, 3, 224, 224])\n",
      "Labels shape: torch.Size([16])\n"
     ]
    },
    {
     "name": "stderr",
     "output_type": "stream",
     "text": [
      "Training:  10%|█         | 80/798 [04:38<39:18,  3.29s/it]"
     ]
    },
    {
     "name": "stdout",
     "output_type": "stream",
     "text": [
      "\n",
      "Batch 80/798\n",
      "Input shape: torch.Size([16, 3, 224, 224])\n",
      "Labels shape: torch.Size([16])\n"
     ]
    },
    {
     "name": "stderr",
     "output_type": "stream",
     "text": [
      "Training:  11%|█▏        | 90/798 [05:12<41:57,  3.56s/it]"
     ]
    },
    {
     "name": "stdout",
     "output_type": "stream",
     "text": [
      "\n",
      "Batch 90/798\n",
      "Input shape: torch.Size([16, 3, 224, 224])\n",
      "Labels shape: torch.Size([16])\n"
     ]
    },
    {
     "name": "stderr",
     "output_type": "stream",
     "text": [
      "Training:  13%|█▎        | 100/798 [05:46<39:15,  3.38s/it]"
     ]
    },
    {
     "name": "stdout",
     "output_type": "stream",
     "text": [
      "\n",
      "Batch 100/798\n",
      "Input shape: torch.Size([16, 3, 224, 224])\n",
      "Labels shape: torch.Size([16])\n"
     ]
    },
    {
     "name": "stderr",
     "output_type": "stream",
     "text": [
      "\rTraining:  13%|█▎        | 101/798 [05:50<38:29,  3.31s/it]"
     ]
    },
    {
     "name": "stdout",
     "output_type": "stream",
     "text": [
      "\n",
      "Batch 100 timing:\n",
      "  Data transfer: 0.000s\n",
      "  Forward pass: 1.163s\n",
      "  Backward pass: 2.000s\n",
      "  Total batch: 3.163s\n",
      "  Loss: 1.2086\n"
     ]
    },
    {
     "name": "stderr",
     "output_type": "stream",
     "text": [
      "Training:  14%|█▍        | 110/798 [06:21<39:02,  3.40s/it]"
     ]
    },
    {
     "name": "stdout",
     "output_type": "stream",
     "text": [
      "\n",
      "Batch 110/798\n",
      "Input shape: torch.Size([16, 3, 224, 224])\n",
      "Labels shape: torch.Size([16])\n"
     ]
    },
    {
     "name": "stderr",
     "output_type": "stream",
     "text": [
      "Training:  15%|█▌        | 120/798 [06:55<39:01,  3.45s/it]"
     ]
    },
    {
     "name": "stdout",
     "output_type": "stream",
     "text": [
      "\n",
      "Batch 120/798\n",
      "Input shape: torch.Size([16, 3, 224, 224])\n",
      "Labels shape: torch.Size([16])\n"
     ]
    },
    {
     "name": "stderr",
     "output_type": "stream",
     "text": [
      "Training:  16%|█▋        | 130/798 [07:30<38:15,  3.44s/it]"
     ]
    },
    {
     "name": "stdout",
     "output_type": "stream",
     "text": [
      "\n",
      "Batch 130/798\n",
      "Input shape: torch.Size([16, 3, 224, 224])\n",
      "Labels shape: torch.Size([16])\n"
     ]
    },
    {
     "name": "stderr",
     "output_type": "stream",
     "text": [
      "Training:  18%|█▊        | 140/798 [08:06<38:53,  3.55s/it]"
     ]
    },
    {
     "name": "stdout",
     "output_type": "stream",
     "text": [
      "\n",
      "Batch 140/798\n",
      "Input shape: torch.Size([16, 3, 224, 224])\n",
      "Labels shape: torch.Size([16])\n"
     ]
    },
    {
     "name": "stderr",
     "output_type": "stream",
     "text": [
      "Training:  19%|█▉        | 150/798 [08:40<35:00,  3.24s/it]"
     ]
    },
    {
     "name": "stdout",
     "output_type": "stream",
     "text": [
      "\n",
      "Batch 150/798\n",
      "Input shape: torch.Size([16, 3, 224, 224])\n",
      "Labels shape: torch.Size([16])\n"
     ]
    },
    {
     "name": "stderr",
     "output_type": "stream",
     "text": [
      "\rTraining:  19%|█▉        | 151/798 [08:44<38:08,  3.54s/it]"
     ]
    },
    {
     "name": "stdout",
     "output_type": "stream",
     "text": [
      "\n",
      "Batch 150 timing:\n",
      "  Data transfer: 0.000s\n",
      "  Forward pass: 1.265s\n",
      "  Backward pass: 2.955s\n",
      "  Total batch: 4.220s\n",
      "  Loss: 0.9387\n"
     ]
    },
    {
     "name": "stderr",
     "output_type": "stream",
     "text": [
      "Training:  20%|██        | 160/798 [09:15<37:08,  3.49s/it]"
     ]
    },
    {
     "name": "stdout",
     "output_type": "stream",
     "text": [
      "\n",
      "Batch 160/798\n",
      "Input shape: torch.Size([16, 3, 224, 224])\n",
      "Labels shape: torch.Size([16])\n"
     ]
    },
    {
     "name": "stderr",
     "output_type": "stream",
     "text": [
      "Training:  21%|██▏       | 170/798 [09:48<34:14,  3.27s/it]"
     ]
    },
    {
     "name": "stdout",
     "output_type": "stream",
     "text": [
      "\n",
      "Batch 170/798\n",
      "Input shape: torch.Size([16, 3, 224, 224])\n",
      "Labels shape: torch.Size([16])\n"
     ]
    },
    {
     "name": "stderr",
     "output_type": "stream",
     "text": [
      "Training:  23%|██▎       | 180/798 [10:22<36:01,  3.50s/it]"
     ]
    },
    {
     "name": "stdout",
     "output_type": "stream",
     "text": [
      "\n",
      "Batch 180/798\n",
      "Input shape: torch.Size([16, 3, 224, 224])\n",
      "Labels shape: torch.Size([16])\n"
     ]
    },
    {
     "name": "stderr",
     "output_type": "stream",
     "text": [
      "Training:  24%|██▍       | 190/798 [10:56<34:03,  3.36s/it]"
     ]
    },
    {
     "name": "stdout",
     "output_type": "stream",
     "text": [
      "\n",
      "Batch 190/798\n",
      "Input shape: torch.Size([16, 3, 224, 224])\n",
      "Labels shape: torch.Size([16])\n"
     ]
    },
    {
     "name": "stderr",
     "output_type": "stream",
     "text": [
      "Training:  25%|██▌       | 200/798 [11:29<31:52,  3.20s/it]"
     ]
    },
    {
     "name": "stdout",
     "output_type": "stream",
     "text": [
      "\n",
      "Batch 200/798\n",
      "Input shape: torch.Size([16, 3, 224, 224])\n",
      "Labels shape: torch.Size([16])\n"
     ]
    },
    {
     "name": "stderr",
     "output_type": "stream",
     "text": [
      "\rTraining:  25%|██▌       | 201/798 [11:33<35:18,  3.55s/it]"
     ]
    },
    {
     "name": "stdout",
     "output_type": "stream",
     "text": [
      "\n",
      "Batch 200 timing:\n",
      "  Data transfer: 0.000s\n",
      "  Forward pass: 1.258s\n",
      "  Backward pass: 3.101s\n",
      "  Total batch: 4.360s\n",
      "  Loss: 1.1651\n"
     ]
    },
    {
     "name": "stderr",
     "output_type": "stream",
     "text": [
      "Training:  26%|██▋       | 210/798 [12:04<34:34,  3.53s/it]"
     ]
    },
    {
     "name": "stdout",
     "output_type": "stream",
     "text": [
      "\n",
      "Batch 210/798\n",
      "Input shape: torch.Size([16, 3, 224, 224])\n",
      "Labels shape: torch.Size([16])\n"
     ]
    },
    {
     "name": "stderr",
     "output_type": "stream",
     "text": [
      "Training:  28%|██▊       | 220/798 [12:38<33:00,  3.43s/it]"
     ]
    },
    {
     "name": "stdout",
     "output_type": "stream",
     "text": [
      "\n",
      "Batch 220/798\n",
      "Input shape: torch.Size([16, 3, 224, 224])\n",
      "Labels shape: torch.Size([16])\n"
     ]
    },
    {
     "name": "stderr",
     "output_type": "stream",
     "text": [
      "Training:  29%|██▉       | 230/798 [13:13<34:46,  3.67s/it]"
     ]
    },
    {
     "name": "stdout",
     "output_type": "stream",
     "text": [
      "\n",
      "Batch 230/798\n",
      "Input shape: torch.Size([16, 3, 224, 224])\n",
      "Labels shape: torch.Size([16])\n"
     ]
    },
    {
     "name": "stderr",
     "output_type": "stream",
     "text": [
      "Training:  30%|███       | 240/798 [13:48<31:50,  3.42s/it]"
     ]
    },
    {
     "name": "stdout",
     "output_type": "stream",
     "text": [
      "\n",
      "Batch 240/798\n",
      "Input shape: torch.Size([16, 3, 224, 224])\n",
      "Labels shape: torch.Size([16])\n"
     ]
    },
    {
     "name": "stderr",
     "output_type": "stream",
     "text": [
      "Training:  31%|███▏      | 250/798 [14:24<34:16,  3.75s/it]"
     ]
    },
    {
     "name": "stdout",
     "output_type": "stream",
     "text": [
      "\n",
      "Batch 250/798\n",
      "Input shape: torch.Size([16, 3, 224, 224])\n",
      "Labels shape: torch.Size([16])\n"
     ]
    },
    {
     "name": "stderr",
     "output_type": "stream",
     "text": [
      "\rTraining:  31%|███▏      | 251/798 [14:27<32:52,  3.61s/it]"
     ]
    },
    {
     "name": "stdout",
     "output_type": "stream",
     "text": [
      "\n",
      "Batch 250 timing:\n",
      "  Data transfer: 0.000s\n",
      "  Forward pass: 1.227s\n",
      "  Backward pass: 2.030s\n",
      "  Total batch: 3.256s\n",
      "  Loss: 1.5031\n"
     ]
    },
    {
     "name": "stderr",
     "output_type": "stream",
     "text": [
      "Training:  33%|███▎      | 260/798 [14:58<30:45,  3.43s/it]"
     ]
    },
    {
     "name": "stdout",
     "output_type": "stream",
     "text": [
      "\n",
      "Batch 260/798\n",
      "Input shape: torch.Size([16, 3, 224, 224])\n",
      "Labels shape: torch.Size([16])\n"
     ]
    },
    {
     "name": "stderr",
     "output_type": "stream",
     "text": [
      "Training:  34%|███▍      | 270/798 [15:32<29:25,  3.34s/it]"
     ]
    },
    {
     "name": "stdout",
     "output_type": "stream",
     "text": [
      "\n",
      "Batch 270/798\n",
      "Input shape: torch.Size([16, 3, 224, 224])\n",
      "Labels shape: torch.Size([16])\n"
     ]
    },
    {
     "name": "stderr",
     "output_type": "stream",
     "text": [
      "Training:  35%|███▌      | 280/798 [16:06<30:02,  3.48s/it]"
     ]
    },
    {
     "name": "stdout",
     "output_type": "stream",
     "text": [
      "\n",
      "Batch 280/798\n",
      "Input shape: torch.Size([16, 3, 224, 224])\n",
      "Labels shape: torch.Size([16])\n"
     ]
    },
    {
     "name": "stderr",
     "output_type": "stream",
     "text": [
      "Training:  36%|███▋      | 290/798 [16:40<28:21,  3.35s/it]"
     ]
    },
    {
     "name": "stdout",
     "output_type": "stream",
     "text": [
      "\n",
      "Batch 290/798\n",
      "Input shape: torch.Size([16, 3, 224, 224])\n",
      "Labels shape: torch.Size([16])\n"
     ]
    },
    {
     "name": "stderr",
     "output_type": "stream",
     "text": [
      "Training:  38%|███▊      | 300/798 [17:16<29:22,  3.54s/it]"
     ]
    },
    {
     "name": "stdout",
     "output_type": "stream",
     "text": [
      "\n",
      "Batch 300/798\n",
      "Input shape: torch.Size([16, 3, 224, 224])\n",
      "Labels shape: torch.Size([16])\n"
     ]
    },
    {
     "name": "stderr",
     "output_type": "stream",
     "text": [
      "\rTraining:  38%|███▊      | 301/798 [17:19<27:59,  3.38s/it]"
     ]
    },
    {
     "name": "stdout",
     "output_type": "stream",
     "text": [
      "\n",
      "Batch 300 timing:\n",
      "  Data transfer: 0.000s\n",
      "  Forward pass: 1.194s\n",
      "  Backward pass: 1.808s\n",
      "  Total batch: 3.002s\n",
      "  Loss: 0.9052\n"
     ]
    },
    {
     "name": "stderr",
     "output_type": "stream",
     "text": [
      "Training:  39%|███▉      | 310/798 [17:50<27:11,  3.34s/it]"
     ]
    },
    {
     "name": "stdout",
     "output_type": "stream",
     "text": [
      "\n",
      "Batch 310/798\n",
      "Input shape: torch.Size([16, 3, 224, 224])\n",
      "Labels shape: torch.Size([16])\n"
     ]
    },
    {
     "name": "stderr",
     "output_type": "stream",
     "text": [
      "Training:  40%|████      | 320/798 [18:25<28:36,  3.59s/it]"
     ]
    },
    {
     "name": "stdout",
     "output_type": "stream",
     "text": [
      "\n",
      "Batch 320/798\n",
      "Input shape: torch.Size([16, 3, 224, 224])\n",
      "Labels shape: torch.Size([16])\n"
     ]
    },
    {
     "name": "stderr",
     "output_type": "stream",
     "text": [
      "Training:  41%|████▏     | 330/798 [18:59<26:11,  3.36s/it]"
     ]
    },
    {
     "name": "stdout",
     "output_type": "stream",
     "text": [
      "\n",
      "Batch 330/798\n",
      "Input shape: torch.Size([16, 3, 224, 224])\n",
      "Labels shape: torch.Size([16])\n"
     ]
    },
    {
     "name": "stderr",
     "output_type": "stream",
     "text": [
      "Training:  43%|████▎     | 340/798 [19:33<26:54,  3.53s/it]"
     ]
    },
    {
     "name": "stdout",
     "output_type": "stream",
     "text": [
      "\n",
      "Batch 340/798\n",
      "Input shape: torch.Size([16, 3, 224, 224])\n",
      "Labels shape: torch.Size([16])\n"
     ]
    },
    {
     "name": "stderr",
     "output_type": "stream",
     "text": [
      "Training:  44%|████▍     | 350/798 [20:08<25:31,  3.42s/it]"
     ]
    },
    {
     "name": "stdout",
     "output_type": "stream",
     "text": [
      "\n",
      "Batch 350/798\n",
      "Input shape: torch.Size([16, 3, 224, 224])\n",
      "Labels shape: torch.Size([16])\n"
     ]
    },
    {
     "name": "stderr",
     "output_type": "stream",
     "text": [
      "\rTraining:  44%|████▍     | 351/798 [20:11<24:44,  3.32s/it]"
     ]
    },
    {
     "name": "stdout",
     "output_type": "stream",
     "text": [
      "\n",
      "Batch 350 timing:\n",
      "  Data transfer: 0.000s\n",
      "  Forward pass: 1.123s\n",
      "  Backward pass: 1.961s\n",
      "  Total batch: 3.084s\n",
      "  Loss: 1.2370\n"
     ]
    },
    {
     "name": "stderr",
     "output_type": "stream",
     "text": [
      "Training:  45%|████▌     | 360/798 [20:42<24:52,  3.41s/it]"
     ]
    },
    {
     "name": "stdout",
     "output_type": "stream",
     "text": [
      "\n",
      "Batch 360/798\n",
      "Input shape: torch.Size([16, 3, 224, 224])\n",
      "Labels shape: torch.Size([16])\n"
     ]
    },
    {
     "name": "stderr",
     "output_type": "stream",
     "text": [
      "Training:  46%|████▋     | 370/798 [21:17<24:38,  3.45s/it]"
     ]
    },
    {
     "name": "stdout",
     "output_type": "stream",
     "text": [
      "\n",
      "Batch 370/798\n",
      "Input shape: torch.Size([16, 3, 224, 224])\n",
      "Labels shape: torch.Size([16])\n"
     ]
    },
    {
     "name": "stderr",
     "output_type": "stream",
     "text": [
      "Training:  48%|████▊     | 380/798 [21:51<23:14,  3.34s/it]"
     ]
    },
    {
     "name": "stdout",
     "output_type": "stream",
     "text": [
      "\n",
      "Batch 380/798\n",
      "Input shape: torch.Size([16, 3, 224, 224])\n",
      "Labels shape: torch.Size([16])\n"
     ]
    },
    {
     "name": "stderr",
     "output_type": "stream",
     "text": [
      "Training:  49%|████▉     | 390/798 [22:26<23:57,  3.52s/it]"
     ]
    },
    {
     "name": "stdout",
     "output_type": "stream",
     "text": [
      "\n",
      "Batch 390/798\n",
      "Input shape: torch.Size([16, 3, 224, 224])\n",
      "Labels shape: torch.Size([16])\n"
     ]
    },
    {
     "name": "stderr",
     "output_type": "stream",
     "text": [
      "Training:  50%|█████     | 400/798 [22:59<22:02,  3.32s/it]"
     ]
    },
    {
     "name": "stdout",
     "output_type": "stream",
     "text": [
      "\n",
      "Batch 400/798\n",
      "Input shape: torch.Size([16, 3, 224, 224])\n",
      "Labels shape: torch.Size([16])\n"
     ]
    },
    {
     "name": "stderr",
     "output_type": "stream",
     "text": [
      "\rTraining:  50%|█████     | 401/798 [23:03<21:52,  3.31s/it]"
     ]
    },
    {
     "name": "stdout",
     "output_type": "stream",
     "text": [
      "\n",
      "Batch 400 timing:\n",
      "  Data transfer: 0.000s\n",
      "  Forward pass: 1.128s\n",
      "  Backward pass: 2.127s\n",
      "  Total batch: 3.255s\n",
      "  Loss: 1.2028\n"
     ]
    },
    {
     "name": "stderr",
     "output_type": "stream",
     "text": [
      "Training:  51%|█████▏    | 410/798 [23:35<23:41,  3.66s/it]"
     ]
    },
    {
     "name": "stdout",
     "output_type": "stream",
     "text": [
      "\n",
      "Batch 410/798\n",
      "Input shape: torch.Size([16, 3, 224, 224])\n",
      "Labels shape: torch.Size([16])\n"
     ]
    },
    {
     "name": "stderr",
     "output_type": "stream",
     "text": [
      "Training:  53%|█████▎    | 420/798 [24:08<21:21,  3.39s/it]"
     ]
    },
    {
     "name": "stdout",
     "output_type": "stream",
     "text": [
      "\n",
      "Batch 420/798\n",
      "Input shape: torch.Size([16, 3, 224, 224])\n",
      "Labels shape: torch.Size([16])\n"
     ]
    },
    {
     "name": "stderr",
     "output_type": "stream",
     "text": [
      "Training:  54%|█████▍    | 430/798 [24:42<20:40,  3.37s/it]"
     ]
    },
    {
     "name": "stdout",
     "output_type": "stream",
     "text": [
      "\n",
      "Batch 430/798\n",
      "Input shape: torch.Size([16, 3, 224, 224])\n",
      "Labels shape: torch.Size([16])\n"
     ]
    },
    {
     "name": "stderr",
     "output_type": "stream",
     "text": [
      "Training:  55%|█████▌    | 440/798 [25:17<21:08,  3.54s/it]"
     ]
    },
    {
     "name": "stdout",
     "output_type": "stream",
     "text": [
      "\n",
      "Batch 440/798\n",
      "Input shape: torch.Size([16, 3, 224, 224])\n",
      "Labels shape: torch.Size([16])\n"
     ]
    },
    {
     "name": "stderr",
     "output_type": "stream",
     "text": [
      "Training:  56%|█████▋    | 450/798 [25:52<19:32,  3.37s/it]"
     ]
    },
    {
     "name": "stdout",
     "output_type": "stream",
     "text": [
      "\n",
      "Batch 450/798\n",
      "Input shape: torch.Size([16, 3, 224, 224])\n",
      "Labels shape: torch.Size([16])\n"
     ]
    },
    {
     "name": "stderr",
     "output_type": "stream",
     "text": [
      "\rTraining:  57%|█████▋    | 451/798 [25:56<21:09,  3.66s/it]"
     ]
    },
    {
     "name": "stdout",
     "output_type": "stream",
     "text": [
      "\n",
      "Batch 450 timing:\n",
      "  Data transfer: 0.000s\n",
      "  Forward pass: 1.594s\n",
      "  Backward pass: 2.715s\n",
      "  Total batch: 4.310s\n",
      "  Loss: 0.8284\n"
     ]
    },
    {
     "name": "stderr",
     "output_type": "stream",
     "text": [
      "Training:  58%|█████▊    | 460/798 [26:27<19:47,  3.51s/it]"
     ]
    },
    {
     "name": "stdout",
     "output_type": "stream",
     "text": [
      "\n",
      "Batch 460/798\n",
      "Input shape: torch.Size([16, 3, 224, 224])\n",
      "Labels shape: torch.Size([16])\n"
     ]
    },
    {
     "name": "stderr",
     "output_type": "stream",
     "text": [
      "Training:  59%|█████▉    | 470/798 [27:01<18:10,  3.33s/it]"
     ]
    },
    {
     "name": "stdout",
     "output_type": "stream",
     "text": [
      "\n",
      "Batch 470/798\n",
      "Input shape: torch.Size([16, 3, 224, 224])\n",
      "Labels shape: torch.Size([16])\n"
     ]
    },
    {
     "name": "stderr",
     "output_type": "stream",
     "text": [
      "Training:  60%|██████    | 480/798 [27:36<19:17,  3.64s/it]"
     ]
    },
    {
     "name": "stdout",
     "output_type": "stream",
     "text": [
      "\n",
      "Batch 480/798\n",
      "Input shape: torch.Size([16, 3, 224, 224])\n",
      "Labels shape: torch.Size([16])\n"
     ]
    },
    {
     "name": "stderr",
     "output_type": "stream",
     "text": [
      "Training:  61%|██████▏   | 490/798 [28:10<17:08,  3.34s/it]"
     ]
    },
    {
     "name": "stdout",
     "output_type": "stream",
     "text": [
      "\n",
      "Batch 490/798\n",
      "Input shape: torch.Size([16, 3, 224, 224])\n",
      "Labels shape: torch.Size([16])\n"
     ]
    },
    {
     "name": "stderr",
     "output_type": "stream",
     "text": [
      "Training:  63%|██████▎   | 500/798 [28:44<17:12,  3.47s/it]"
     ]
    },
    {
     "name": "stdout",
     "output_type": "stream",
     "text": [
      "\n",
      "Batch 500/798\n",
      "Input shape: torch.Size([16, 3, 224, 224])\n",
      "Labels shape: torch.Size([16])\n"
     ]
    },
    {
     "name": "stderr",
     "output_type": "stream",
     "text": [
      "\rTraining:  63%|██████▎   | 501/798 [28:47<17:17,  3.49s/it]"
     ]
    },
    {
     "name": "stdout",
     "output_type": "stream",
     "text": [
      "\n",
      "Batch 500 timing:\n",
      "  Data transfer: 0.000s\n",
      "  Forward pass: 1.557s\n",
      "  Backward pass: 1.987s\n",
      "  Total batch: 3.550s\n",
      "  Loss: 0.9126\n"
     ]
    },
    {
     "name": "stderr",
     "output_type": "stream",
     "text": [
      "Training:  64%|██████▍   | 510/798 [29:19<16:50,  3.51s/it]"
     ]
    },
    {
     "name": "stdout",
     "output_type": "stream",
     "text": [
      "\n",
      "Batch 510/798\n",
      "Input shape: torch.Size([16, 3, 224, 224])\n",
      "Labels shape: torch.Size([16])\n"
     ]
    },
    {
     "name": "stderr",
     "output_type": "stream",
     "text": [
      "Training:  65%|██████▌   | 520/798 [29:54<16:22,  3.53s/it]"
     ]
    },
    {
     "name": "stdout",
     "output_type": "stream",
     "text": [
      "\n",
      "Batch 520/798\n",
      "Input shape: torch.Size([16, 3, 224, 224])\n",
      "Labels shape: torch.Size([16])\n"
     ]
    },
    {
     "name": "stderr",
     "output_type": "stream",
     "text": [
      "Training:  66%|██████▋   | 530/798 [30:28<15:29,  3.47s/it]"
     ]
    },
    {
     "name": "stdout",
     "output_type": "stream",
     "text": [
      "\n",
      "Batch 530/798\n",
      "Input shape: torch.Size([16, 3, 224, 224])\n",
      "Labels shape: torch.Size([16])\n"
     ]
    },
    {
     "name": "stderr",
     "output_type": "stream",
     "text": [
      "Training:  68%|██████▊   | 540/798 [31:02<14:19,  3.33s/it]"
     ]
    },
    {
     "name": "stdout",
     "output_type": "stream",
     "text": [
      "\n",
      "Batch 540/798\n",
      "Input shape: torch.Size([16, 3, 224, 224])\n",
      "Labels shape: torch.Size([16])\n"
     ]
    },
    {
     "name": "stderr",
     "output_type": "stream",
     "text": [
      "Training:  69%|██████▉   | 550/798 [31:37<14:28,  3.50s/it]"
     ]
    },
    {
     "name": "stdout",
     "output_type": "stream",
     "text": [
      "\n",
      "Batch 550/798\n",
      "Input shape: torch.Size([16, 3, 224, 224])\n",
      "Labels shape: torch.Size([16])\n"
     ]
    },
    {
     "name": "stderr",
     "output_type": "stream",
     "text": [
      "\rTraining:  69%|██████▉   | 551/798 [31:40<13:50,  3.36s/it]"
     ]
    },
    {
     "name": "stdout",
     "output_type": "stream",
     "text": [
      "\n",
      "Batch 550 timing:\n",
      "  Data transfer: 0.000s\n",
      "  Forward pass: 1.150s\n",
      "  Backward pass: 1.875s\n",
      "  Total batch: 3.025s\n",
      "  Loss: 0.8650\n"
     ]
    },
    {
     "name": "stderr",
     "output_type": "stream",
     "text": [
      "Training:  70%|███████   | 560/798 [32:10<13:06,  3.30s/it]"
     ]
    },
    {
     "name": "stdout",
     "output_type": "stream",
     "text": [
      "\n",
      "Batch 560/798\n",
      "Input shape: torch.Size([16, 3, 224, 224])\n",
      "Labels shape: torch.Size([16])\n"
     ]
    },
    {
     "name": "stderr",
     "output_type": "stream",
     "text": [
      "Training:  71%|███████▏  | 570/798 [32:45<13:43,  3.61s/it]"
     ]
    },
    {
     "name": "stdout",
     "output_type": "stream",
     "text": [
      "\n",
      "Batch 570/798\n",
      "Input shape: torch.Size([16, 3, 224, 224])\n",
      "Labels shape: torch.Size([16])\n"
     ]
    },
    {
     "name": "stderr",
     "output_type": "stream",
     "text": [
      "Training:  73%|███████▎  | 580/798 [33:19<12:13,  3.37s/it]"
     ]
    },
    {
     "name": "stdout",
     "output_type": "stream",
     "text": [
      "\n",
      "Batch 580/798\n",
      "Input shape: torch.Size([16, 3, 224, 224])\n",
      "Labels shape: torch.Size([16])\n"
     ]
    },
    {
     "name": "stderr",
     "output_type": "stream",
     "text": [
      "Training:  74%|███████▍  | 590/798 [33:53<11:51,  3.42s/it]"
     ]
    },
    {
     "name": "stdout",
     "output_type": "stream",
     "text": [
      "\n",
      "Batch 590/798\n",
      "Input shape: torch.Size([16, 3, 224, 224])\n",
      "Labels shape: torch.Size([16])\n"
     ]
    },
    {
     "name": "stderr",
     "output_type": "stream",
     "text": [
      "Training:  75%|███████▌  | 600/798 [34:29<11:35,  3.51s/it]"
     ]
    },
    {
     "name": "stdout",
     "output_type": "stream",
     "text": [
      "\n",
      "Batch 600/798\n",
      "Input shape: torch.Size([16, 3, 224, 224])\n",
      "Labels shape: torch.Size([16])\n"
     ]
    },
    {
     "name": "stderr",
     "output_type": "stream",
     "text": [
      "\rTraining:  75%|███████▌  | 601/798 [34:32<11:14,  3.42s/it]"
     ]
    },
    {
     "name": "stdout",
     "output_type": "stream",
     "text": [
      "\n",
      "Batch 600 timing:\n",
      "  Data transfer: 0.000s\n",
      "  Forward pass: 1.131s\n",
      "  Backward pass: 2.067s\n",
      "  Total batch: 3.202s\n",
      "  Loss: 1.0011\n"
     ]
    },
    {
     "name": "stderr",
     "output_type": "stream",
     "text": [
      "Training:  76%|███████▋  | 610/798 [35:03<10:32,  3.36s/it]"
     ]
    },
    {
     "name": "stdout",
     "output_type": "stream",
     "text": [
      "\n",
      "Batch 610/798\n",
      "Input shape: torch.Size([16, 3, 224, 224])\n",
      "Labels shape: torch.Size([16])\n"
     ]
    },
    {
     "name": "stderr",
     "output_type": "stream",
     "text": [
      "Training:  78%|███████▊  | 620/798 [35:38<10:30,  3.54s/it]"
     ]
    },
    {
     "name": "stdout",
     "output_type": "stream",
     "text": [
      "\n",
      "Batch 620/798\n",
      "Input shape: torch.Size([16, 3, 224, 224])\n",
      "Labels shape: torch.Size([16])\n"
     ]
    },
    {
     "name": "stderr",
     "output_type": "stream",
     "text": [
      "Training:  79%|███████▉  | 630/798 [36:12<09:31,  3.40s/it]"
     ]
    },
    {
     "name": "stdout",
     "output_type": "stream",
     "text": [
      "\n",
      "Batch 630/798\n",
      "Input shape: torch.Size([16, 3, 224, 224])\n",
      "Labels shape: torch.Size([16])\n"
     ]
    },
    {
     "name": "stderr",
     "output_type": "stream",
     "text": [
      "Training:  80%|████████  | 640/798 [36:48<09:21,  3.55s/it]"
     ]
    },
    {
     "name": "stdout",
     "output_type": "stream",
     "text": [
      "\n",
      "Batch 640/798\n",
      "Input shape: torch.Size([16, 3, 224, 224])\n",
      "Labels shape: torch.Size([16])\n"
     ]
    },
    {
     "name": "stderr",
     "output_type": "stream",
     "text": [
      "Training:  81%|████████▏ | 650/798 [37:22<08:16,  3.35s/it]"
     ]
    },
    {
     "name": "stdout",
     "output_type": "stream",
     "text": [
      "\n",
      "Batch 650/798\n",
      "Input shape: torch.Size([16, 3, 224, 224])\n",
      "Labels shape: torch.Size([16])\n"
     ]
    },
    {
     "name": "stderr",
     "output_type": "stream",
     "text": [
      "\rTraining:  82%|████████▏ | 651/798 [37:27<08:59,  3.67s/it]"
     ]
    },
    {
     "name": "stdout",
     "output_type": "stream",
     "text": [
      "\n",
      "Batch 650 timing:\n",
      "  Data transfer: 0.000s\n",
      "  Forward pass: 1.283s\n",
      "  Backward pass: 3.114s\n",
      "  Total batch: 4.396s\n",
      "  Loss: 0.7414\n"
     ]
    },
    {
     "name": "stderr",
     "output_type": "stream",
     "text": [
      "Training:  83%|████████▎ | 660/798 [37:59<08:17,  3.61s/it]"
     ]
    },
    {
     "name": "stdout",
     "output_type": "stream",
     "text": [
      "\n",
      "Batch 660/798\n",
      "Input shape: torch.Size([16, 3, 224, 224])\n",
      "Labels shape: torch.Size([16])\n"
     ]
    },
    {
     "name": "stderr",
     "output_type": "stream",
     "text": [
      "Training:  84%|████████▍ | 670/798 [38:32<07:12,  3.38s/it]"
     ]
    },
    {
     "name": "stdout",
     "output_type": "stream",
     "text": [
      "\n",
      "Batch 670/798\n",
      "Input shape: torch.Size([16, 3, 224, 224])\n",
      "Labels shape: torch.Size([16])\n"
     ]
    },
    {
     "name": "stderr",
     "output_type": "stream",
     "text": [
      "Training:  85%|████████▌ | 680/798 [39:07<07:13,  3.68s/it]"
     ]
    },
    {
     "name": "stdout",
     "output_type": "stream",
     "text": [
      "\n",
      "Batch 680/798\n",
      "Input shape: torch.Size([16, 3, 224, 224])\n",
      "Labels shape: torch.Size([16])\n"
     ]
    },
    {
     "name": "stderr",
     "output_type": "stream",
     "text": [
      "Training:  86%|████████▋ | 690/798 [39:41<05:57,  3.31s/it]"
     ]
    },
    {
     "name": "stdout",
     "output_type": "stream",
     "text": [
      "\n",
      "Batch 690/798\n",
      "Input shape: torch.Size([16, 3, 224, 224])\n",
      "Labels shape: torch.Size([16])\n"
     ]
    },
    {
     "name": "stderr",
     "output_type": "stream",
     "text": [
      "Training:  88%|████████▊ | 700/798 [40:15<05:41,  3.49s/it]"
     ]
    },
    {
     "name": "stdout",
     "output_type": "stream",
     "text": [
      "\n",
      "Batch 700/798\n",
      "Input shape: torch.Size([16, 3, 224, 224])\n",
      "Labels shape: torch.Size([16])\n"
     ]
    },
    {
     "name": "stderr",
     "output_type": "stream",
     "text": [
      "\rTraining:  88%|████████▊ | 701/798 [40:19<05:43,  3.54s/it]"
     ]
    },
    {
     "name": "stdout",
     "output_type": "stream",
     "text": [
      "\n",
      "Batch 700 timing:\n",
      "  Data transfer: 0.000s\n",
      "  Forward pass: 1.741s\n",
      "  Backward pass: 1.902s\n",
      "  Total batch: 3.649s\n",
      "  Loss: 0.7314\n"
     ]
    },
    {
     "name": "stderr",
     "output_type": "stream",
     "text": [
      "Training:  89%|████████▉ | 710/798 [40:50<05:03,  3.45s/it]"
     ]
    },
    {
     "name": "stdout",
     "output_type": "stream",
     "text": [
      "\n",
      "Batch 710/798\n",
      "Input shape: torch.Size([16, 3, 224, 224])\n",
      "Labels shape: torch.Size([16])\n"
     ]
    },
    {
     "name": "stderr",
     "output_type": "stream",
     "text": [
      "Training:  90%|█████████ | 720/798 [41:26<04:39,  3.59s/it]"
     ]
    },
    {
     "name": "stdout",
     "output_type": "stream",
     "text": [
      "\n",
      "Batch 720/798\n",
      "Input shape: torch.Size([16, 3, 224, 224])\n",
      "Labels shape: torch.Size([16])\n"
     ]
    },
    {
     "name": "stderr",
     "output_type": "stream",
     "text": [
      "Training:  91%|█████████▏| 730/798 [42:00<03:53,  3.44s/it]"
     ]
    },
    {
     "name": "stdout",
     "output_type": "stream",
     "text": [
      "\n",
      "Batch 730/798\n",
      "Input shape: torch.Size([16, 3, 224, 224])\n",
      "Labels shape: torch.Size([16])\n"
     ]
    },
    {
     "name": "stderr",
     "output_type": "stream",
     "text": [
      "Training:  93%|█████████▎| 740/798 [42:34<03:10,  3.28s/it]"
     ]
    },
    {
     "name": "stdout",
     "output_type": "stream",
     "text": [
      "\n",
      "Batch 740/798\n",
      "Input shape: torch.Size([16, 3, 224, 224])\n",
      "Labels shape: torch.Size([16])\n"
     ]
    },
    {
     "name": "stderr",
     "output_type": "stream",
     "text": [
      "Training:  94%|█████████▍| 750/798 [43:09<02:48,  3.50s/it]"
     ]
    },
    {
     "name": "stdout",
     "output_type": "stream",
     "text": [
      "\n",
      "Batch 750/798\n",
      "Input shape: torch.Size([16, 3, 224, 224])\n",
      "Labels shape: torch.Size([16])\n"
     ]
    },
    {
     "name": "stderr",
     "output_type": "stream",
     "text": [
      "\rTraining:  94%|█████████▍| 751/798 [43:12<02:39,  3.39s/it]"
     ]
    },
    {
     "name": "stdout",
     "output_type": "stream",
     "text": [
      "\n",
      "Batch 750 timing:\n",
      "  Data transfer: 0.000s\n",
      "  Forward pass: 1.166s\n",
      "  Backward pass: 1.963s\n",
      "  Total batch: 3.129s\n",
      "  Loss: 1.1172\n"
     ]
    },
    {
     "name": "stderr",
     "output_type": "stream",
     "text": [
      "Training:  95%|█████████▌| 760/798 [43:42<02:05,  3.32s/it]"
     ]
    },
    {
     "name": "stdout",
     "output_type": "stream",
     "text": [
      "\n",
      "Batch 760/798\n",
      "Input shape: torch.Size([16, 3, 224, 224])\n",
      "Labels shape: torch.Size([16])\n"
     ]
    },
    {
     "name": "stderr",
     "output_type": "stream",
     "text": [
      "Training:  96%|█████████▋| 770/798 [44:17<01:42,  3.65s/it]"
     ]
    },
    {
     "name": "stdout",
     "output_type": "stream",
     "text": [
      "\n",
      "Batch 770/798\n",
      "Input shape: torch.Size([16, 3, 224, 224])\n",
      "Labels shape: torch.Size([16])\n"
     ]
    },
    {
     "name": "stderr",
     "output_type": "stream",
     "text": [
      "Training:  98%|█████████▊| 780/798 [44:51<01:01,  3.41s/it]"
     ]
    },
    {
     "name": "stdout",
     "output_type": "stream",
     "text": [
      "\n",
      "Batch 780/798\n",
      "Input shape: torch.Size([16, 3, 224, 224])\n",
      "Labels shape: torch.Size([16])\n"
     ]
    },
    {
     "name": "stderr",
     "output_type": "stream",
     "text": [
      "Training:  99%|█████████▉| 790/798 [45:25<00:27,  3.42s/it]"
     ]
    },
    {
     "name": "stdout",
     "output_type": "stream",
     "text": [
      "\n",
      "Batch 790/798\n",
      "Input shape: torch.Size([16, 3, 224, 224])\n",
      "Labels shape: torch.Size([16])\n"
     ]
    },
    {
     "name": "stderr",
     "output_type": "stream",
     "text": [
      "Training: 100%|██████████| 798/798 [45:51<00:00,  3.45s/it]"
     ]
    },
    {
     "name": "stdout",
     "output_type": "stream",
     "text": [
      "\n",
      "Epoch 3 completed in 2751.8 seconds\n",
      "Training Loss: 1.0273\n",
      "Average time per batch: 3.448s\n",
      "Starting validation...\n"
     ]
    },
    {
     "name": "stderr",
     "output_type": "stream",
     "text": [
      "\n"
     ]
    },
    {
     "name": "stdout",
     "output_type": "stream",
     "text": [
      "Validation batch 0/200\n",
      "Validation batch 20/200\n",
      "Validation batch 40/200\n",
      "Validation batch 60/200\n",
      "Validation batch 80/200\n",
      "Validation batch 100/200\n",
      "Validation batch 120/200\n",
      "Validation batch 140/200\n",
      "Validation batch 160/200\n",
      "Validation batch 180/200\n",
      "Validation completed in 155.7 seconds\n",
      "Validation Metrics:\n",
      "              precision    recall  f1-score   support\n",
      "\n",
      "           0      0.577     0.522     0.548       588\n",
      "           1      0.486     0.602     0.538       959\n",
      "           2      0.399     0.322     0.356       659\n",
      "           3      0.460     0.397     0.426       554\n",
      "           4      0.444     0.458     0.451       306\n",
      "           5      0.537     0.635     0.582       126\n",
      "\n",
      "    accuracy                          0.481      3192\n",
      "   macro avg      0.484     0.489     0.484      3192\n",
      "weighted avg      0.478     0.481     0.476      3192\n",
      "\n",
      "\n",
      "Epoch 4/5\n"
     ]
    },
    {
     "name": "stderr",
     "output_type": "stream",
     "text": [
      "\rTraining:   0%|          | 0/798 [00:00<?, ?it/s]"
     ]
    },
    {
     "name": "stdout",
     "output_type": "stream",
     "text": [
      "\n",
      "Batch 0/798\n",
      "Input shape: torch.Size([16, 3, 224, 224])\n",
      "Labels shape: torch.Size([16])\n"
     ]
    },
    {
     "name": "stderr",
     "output_type": "stream",
     "text": [
      "\rTraining:   0%|          | 1/798 [00:06<1:22:37,  6.22s/it]"
     ]
    },
    {
     "name": "stdout",
     "output_type": "stream",
     "text": [
      "\n",
      "Batch 0 timing:\n",
      "  Data transfer: 0.000s\n",
      "  Forward pass: 2.982s\n",
      "  Backward pass: 2.892s\n",
      "  Total batch: 5.875s\n",
      "  Loss: 0.7925\n"
     ]
    },
    {
     "name": "stderr",
     "output_type": "stream",
     "text": [
      "\rTraining:   0%|          | 2/798 [00:09<59:41,  4.50s/it]  "
     ]
    },
    {
     "name": "stdout",
     "output_type": "stream",
     "text": [
      "\n",
      "Batch 1 timing:\n",
      "  Data transfer: 0.000s\n",
      "  Forward pass: 1.227s\n",
      "  Backward pass: 2.054s\n",
      "  Total batch: 3.281s\n",
      "  Loss: 0.9109\n"
     ]
    },
    {
     "name": "stderr",
     "output_type": "stream",
     "text": [
      "\rTraining:   0%|          | 3/798 [00:12<51:00,  3.85s/it]"
     ]
    },
    {
     "name": "stdout",
     "output_type": "stream",
     "text": [
      "\n",
      "Batch 2 timing:\n",
      "  Data transfer: 0.000s\n",
      "  Forward pass: 1.221s\n",
      "  Backward pass: 1.843s\n",
      "  Total batch: 3.065s\n",
      "  Loss: 0.7979\n"
     ]
    },
    {
     "name": "stderr",
     "output_type": "stream",
     "text": [
      "\rTraining:   1%|          | 4/798 [00:15<47:17,  3.57s/it]"
     ]
    },
    {
     "name": "stdout",
     "output_type": "stream",
     "text": [
      "\n",
      "Batch 3 timing:\n",
      "  Data transfer: 0.000s\n",
      "  Forward pass: 1.111s\n",
      "  Backward pass: 2.034s\n",
      "  Total batch: 3.145s\n",
      "  Loss: 0.8983\n"
     ]
    },
    {
     "name": "stderr",
     "output_type": "stream",
     "text": [
      "\rTraining:   1%|          | 5/798 [00:20<50:53,  3.85s/it]"
     ]
    },
    {
     "name": "stdout",
     "output_type": "stream",
     "text": [
      "\n",
      "Batch 4 timing:\n",
      "  Data transfer: 0.000s\n",
      "  Forward pass: 1.571s\n",
      "  Backward pass: 2.755s\n",
      "  Total batch: 4.325s\n",
      "  Loss: 0.9286\n"
     ]
    },
    {
     "name": "stderr",
     "output_type": "stream",
     "text": [
      "Training:   1%|▏         | 10/798 [00:36<45:52,  3.49s/it]"
     ]
    },
    {
     "name": "stdout",
     "output_type": "stream",
     "text": [
      "\n",
      "Batch 10/798\n",
      "Input shape: torch.Size([16, 3, 224, 224])\n",
      "Labels shape: torch.Size([16])\n"
     ]
    },
    {
     "name": "stderr",
     "output_type": "stream",
     "text": [
      "Training:   3%|▎         | 20/798 [01:10<42:08,  3.25s/it]"
     ]
    },
    {
     "name": "stdout",
     "output_type": "stream",
     "text": [
      "\n",
      "Batch 20/798\n",
      "Input shape: torch.Size([16, 3, 224, 224])\n",
      "Labels shape: torch.Size([16])\n"
     ]
    },
    {
     "name": "stderr",
     "output_type": "stream",
     "text": [
      "Training:   4%|▍         | 30/798 [01:45<45:51,  3.58s/it]"
     ]
    },
    {
     "name": "stdout",
     "output_type": "stream",
     "text": [
      "\n",
      "Batch 30/798\n",
      "Input shape: torch.Size([16, 3, 224, 224])\n",
      "Labels shape: torch.Size([16])\n"
     ]
    },
    {
     "name": "stderr",
     "output_type": "stream",
     "text": [
      "Training:   5%|▌         | 40/798 [02:18<42:09,  3.34s/it]"
     ]
    },
    {
     "name": "stdout",
     "output_type": "stream",
     "text": [
      "\n",
      "Batch 40/798\n",
      "Input shape: torch.Size([16, 3, 224, 224])\n",
      "Labels shape: torch.Size([16])\n"
     ]
    },
    {
     "name": "stderr",
     "output_type": "stream",
     "text": [
      "Training:   6%|▋         | 50/798 [02:52<43:07,  3.46s/it]"
     ]
    },
    {
     "name": "stdout",
     "output_type": "stream",
     "text": [
      "\n",
      "Batch 50/798\n",
      "Input shape: torch.Size([16, 3, 224, 224])\n",
      "Labels shape: torch.Size([16])\n"
     ]
    },
    {
     "name": "stderr",
     "output_type": "stream",
     "text": [
      "\rTraining:   6%|▋         | 51/798 [02:56<43:52,  3.52s/it]"
     ]
    },
    {
     "name": "stdout",
     "output_type": "stream",
     "text": [
      "\n",
      "Batch 50 timing:\n",
      "  Data transfer: 0.000s\n",
      "  Forward pass: 1.651s\n",
      "  Backward pass: 2.018s\n",
      "  Total batch: 3.670s\n",
      "  Loss: 1.2424\n"
     ]
    },
    {
     "name": "stderr",
     "output_type": "stream",
     "text": [
      "Training:   8%|▊         | 60/798 [03:27<43:15,  3.52s/it]"
     ]
    },
    {
     "name": "stdout",
     "output_type": "stream",
     "text": [
      "\n",
      "Batch 60/798\n",
      "Input shape: torch.Size([16, 3, 224, 224])\n",
      "Labels shape: torch.Size([16])\n"
     ]
    },
    {
     "name": "stderr",
     "output_type": "stream",
     "text": [
      "Training:   9%|▉         | 70/798 [04:03<42:20,  3.49s/it]"
     ]
    },
    {
     "name": "stdout",
     "output_type": "stream",
     "text": [
      "\n",
      "Batch 70/798\n",
      "Input shape: torch.Size([16, 3, 224, 224])\n",
      "Labels shape: torch.Size([16])\n"
     ]
    },
    {
     "name": "stderr",
     "output_type": "stream",
     "text": [
      "Training:  10%|█         | 80/798 [04:37<40:32,  3.39s/it]"
     ]
    },
    {
     "name": "stdout",
     "output_type": "stream",
     "text": [
      "\n",
      "Batch 80/798\n",
      "Input shape: torch.Size([16, 3, 224, 224])\n",
      "Labels shape: torch.Size([16])\n"
     ]
    },
    {
     "name": "stderr",
     "output_type": "stream",
     "text": [
      "Training:  11%|█▏        | 90/798 [05:11<40:04,  3.40s/it]"
     ]
    },
    {
     "name": "stdout",
     "output_type": "stream",
     "text": [
      "\n",
      "Batch 90/798\n",
      "Input shape: torch.Size([16, 3, 224, 224])\n",
      "Labels shape: torch.Size([16])\n"
     ]
    },
    {
     "name": "stderr",
     "output_type": "stream",
     "text": [
      "Training:  13%|█▎        | 100/798 [05:47<40:36,  3.49s/it]"
     ]
    },
    {
     "name": "stdout",
     "output_type": "stream",
     "text": [
      "\n",
      "Batch 100/798\n",
      "Input shape: torch.Size([16, 3, 224, 224])\n",
      "Labels shape: torch.Size([16])\n"
     ]
    },
    {
     "name": "stderr",
     "output_type": "stream",
     "text": [
      "\rTraining:  13%|█▎        | 101/798 [05:50<39:19,  3.38s/it]"
     ]
    },
    {
     "name": "stdout",
     "output_type": "stream",
     "text": [
      "\n",
      "Batch 100 timing:\n",
      "  Data transfer: 0.000s\n",
      "  Forward pass: 1.156s\n",
      "  Backward pass: 1.978s\n",
      "  Total batch: 3.133s\n",
      "  Loss: 0.8157\n"
     ]
    },
    {
     "name": "stderr",
     "output_type": "stream",
     "text": [
      "Training:  14%|█▍        | 110/798 [06:20<37:09,  3.24s/it]"
     ]
    },
    {
     "name": "stdout",
     "output_type": "stream",
     "text": [
      "\n",
      "Batch 110/798\n",
      "Input shape: torch.Size([16, 3, 224, 224])\n",
      "Labels shape: torch.Size([16])\n"
     ]
    },
    {
     "name": "stderr",
     "output_type": "stream",
     "text": [
      "Training:  15%|█▌        | 120/798 [06:55<40:09,  3.55s/it]"
     ]
    },
    {
     "name": "stdout",
     "output_type": "stream",
     "text": [
      "\n",
      "Batch 120/798\n",
      "Input shape: torch.Size([16, 3, 224, 224])\n",
      "Labels shape: torch.Size([16])\n"
     ]
    },
    {
     "name": "stderr",
     "output_type": "stream",
     "text": [
      "Training:  16%|█▋        | 130/798 [07:28<36:52,  3.31s/it]"
     ]
    },
    {
     "name": "stdout",
     "output_type": "stream",
     "text": [
      "\n",
      "Batch 130/798\n",
      "Input shape: torch.Size([16, 3, 224, 224])\n",
      "Labels shape: torch.Size([16])\n"
     ]
    },
    {
     "name": "stderr",
     "output_type": "stream",
     "text": [
      "Training:  18%|█▊        | 140/798 [08:05<40:09,  3.66s/it]"
     ]
    },
    {
     "name": "stdout",
     "output_type": "stream",
     "text": [
      "\n",
      "Batch 140/798\n",
      "Input shape: torch.Size([16, 3, 224, 224])\n",
      "Labels shape: torch.Size([16])\n"
     ]
    },
    {
     "name": "stderr",
     "output_type": "stream",
     "text": [
      "Training:  19%|█▉        | 150/798 [08:38<36:35,  3.39s/it]"
     ]
    },
    {
     "name": "stdout",
     "output_type": "stream",
     "text": [
      "\n",
      "Batch 150/798\n",
      "Input shape: torch.Size([16, 3, 224, 224])\n",
      "Labels shape: torch.Size([16])\n"
     ]
    },
    {
     "name": "stderr",
     "output_type": "stream",
     "text": [
      "\rTraining:  19%|█▉        | 151/798 [08:42<35:32,  3.30s/it]"
     ]
    },
    {
     "name": "stdout",
     "output_type": "stream",
     "text": [
      "\n",
      "Batch 150 timing:\n",
      "  Data transfer: 0.001s\n",
      "  Forward pass: 1.092s\n",
      "  Backward pass: 1.978s\n",
      "  Total batch: 3.071s\n",
      "  Loss: 1.0199\n"
     ]
    },
    {
     "name": "stderr",
     "output_type": "stream",
     "text": [
      "Training:  20%|██        | 160/798 [09:13<36:01,  3.39s/it]"
     ]
    },
    {
     "name": "stdout",
     "output_type": "stream",
     "text": [
      "\n",
      "Batch 160/798\n",
      "Input shape: torch.Size([16, 3, 224, 224])\n",
      "Labels shape: torch.Size([16])\n"
     ]
    },
    {
     "name": "stderr",
     "output_type": "stream",
     "text": [
      "Training:  21%|██▏       | 170/798 [09:47<36:34,  3.50s/it]"
     ]
    },
    {
     "name": "stdout",
     "output_type": "stream",
     "text": [
      "\n",
      "Batch 170/798\n",
      "Input shape: torch.Size([16, 3, 224, 224])\n",
      "Labels shape: torch.Size([16])\n"
     ]
    },
    {
     "name": "stderr",
     "output_type": "stream",
     "text": [
      "Training:  23%|██▎       | 180/798 [10:22<34:49,  3.38s/it]"
     ]
    },
    {
     "name": "stdout",
     "output_type": "stream",
     "text": [
      "\n",
      "Batch 180/798\n",
      "Input shape: torch.Size([16, 3, 224, 224])\n",
      "Labels shape: torch.Size([16])\n"
     ]
    },
    {
     "name": "stderr",
     "output_type": "stream",
     "text": [
      "Training:  24%|██▍       | 190/798 [10:56<34:57,  3.45s/it]"
     ]
    },
    {
     "name": "stdout",
     "output_type": "stream",
     "text": [
      "\n",
      "Batch 190/798\n",
      "Input shape: torch.Size([16, 3, 224, 224])\n",
      "Labels shape: torch.Size([16])\n"
     ]
    },
    {
     "name": "stderr",
     "output_type": "stream",
     "text": [
      "Training:  25%|██▌       | 200/798 [11:30<33:05,  3.32s/it]"
     ]
    },
    {
     "name": "stdout",
     "output_type": "stream",
     "text": [
      "\n",
      "Batch 200/798\n",
      "Input shape: torch.Size([16, 3, 224, 224])\n",
      "Labels shape: torch.Size([16])\n"
     ]
    },
    {
     "name": "stderr",
     "output_type": "stream",
     "text": [
      "\rTraining:  25%|██▌       | 201/798 [11:33<32:25,  3.26s/it]"
     ]
    },
    {
     "name": "stdout",
     "output_type": "stream",
     "text": [
      "\n",
      "Batch 200 timing:\n",
      "  Data transfer: 0.000s\n",
      "  Forward pass: 1.145s\n",
      "  Backward pass: 1.962s\n",
      "  Total batch: 3.107s\n",
      "  Loss: 0.9603\n"
     ]
    },
    {
     "name": "stderr",
     "output_type": "stream",
     "text": [
      "Training:  26%|██▋       | 210/798 [12:05<35:33,  3.63s/it]"
     ]
    },
    {
     "name": "stdout",
     "output_type": "stream",
     "text": [
      "\n",
      "Batch 210/798\n",
      "Input shape: torch.Size([16, 3, 224, 224])\n",
      "Labels shape: torch.Size([16])\n"
     ]
    },
    {
     "name": "stderr",
     "output_type": "stream",
     "text": [
      "Training:  28%|██▊       | 220/798 [12:38<32:42,  3.39s/it]"
     ]
    },
    {
     "name": "stdout",
     "output_type": "stream",
     "text": [
      "\n",
      "Batch 220/798\n",
      "Input shape: torch.Size([16, 3, 224, 224])\n",
      "Labels shape: torch.Size([16])\n"
     ]
    },
    {
     "name": "stderr",
     "output_type": "stream",
     "text": [
      "Training:  29%|██▉       | 230/798 [13:13<33:55,  3.58s/it]"
     ]
    },
    {
     "name": "stdout",
     "output_type": "stream",
     "text": [
      "\n",
      "Batch 230/798\n",
      "Input shape: torch.Size([16, 3, 224, 224])\n",
      "Labels shape: torch.Size([16])\n"
     ]
    },
    {
     "name": "stderr",
     "output_type": "stream",
     "text": [
      "Training:  30%|███       | 240/798 [13:48<32:11,  3.46s/it]"
     ]
    },
    {
     "name": "stdout",
     "output_type": "stream",
     "text": [
      "\n",
      "Batch 240/798\n",
      "Input shape: torch.Size([16, 3, 224, 224])\n",
      "Labels shape: torch.Size([16])\n"
     ]
    },
    {
     "name": "stderr",
     "output_type": "stream",
     "text": [
      "Training:  31%|███▏      | 250/798 [14:21<30:06,  3.30s/it]"
     ]
    },
    {
     "name": "stdout",
     "output_type": "stream",
     "text": [
      "\n",
      "Batch 250/798\n",
      "Input shape: torch.Size([16, 3, 224, 224])\n",
      "Labels shape: torch.Size([16])\n"
     ]
    },
    {
     "name": "stderr",
     "output_type": "stream",
     "text": [
      "\rTraining:  31%|███▏      | 251/798 [14:25<32:23,  3.55s/it]"
     ]
    },
    {
     "name": "stdout",
     "output_type": "stream",
     "text": [
      "\n",
      "Batch 250 timing:\n",
      "  Data transfer: 0.006s\n",
      "  Forward pass: 1.311s\n",
      "  Backward pass: 2.826s\n",
      "  Total batch: 4.144s\n",
      "  Loss: 0.6203\n"
     ]
    },
    {
     "name": "stderr",
     "output_type": "stream",
     "text": [
      "Training:  33%|███▎      | 260/798 [14:56<31:10,  3.48s/it]"
     ]
    },
    {
     "name": "stdout",
     "output_type": "stream",
     "text": [
      "\n",
      "Batch 260/798\n",
      "Input shape: torch.Size([16, 3, 224, 224])\n",
      "Labels shape: torch.Size([16])\n"
     ]
    },
    {
     "name": "stderr",
     "output_type": "stream",
     "text": [
      "Training:  34%|███▍      | 270/798 [15:30<29:47,  3.39s/it]"
     ]
    },
    {
     "name": "stdout",
     "output_type": "stream",
     "text": [
      "\n",
      "Batch 270/798\n",
      "Input shape: torch.Size([16, 3, 224, 224])\n",
      "Labels shape: torch.Size([16])\n"
     ]
    },
    {
     "name": "stderr",
     "output_type": "stream",
     "text": [
      "Training:  35%|███▌      | 280/798 [16:05<32:02,  3.71s/it]"
     ]
    },
    {
     "name": "stdout",
     "output_type": "stream",
     "text": [
      "\n",
      "Batch 280/798\n",
      "Input shape: torch.Size([16, 3, 224, 224])\n",
      "Labels shape: torch.Size([16])\n"
     ]
    },
    {
     "name": "stderr",
     "output_type": "stream",
     "text": [
      "Training:  36%|███▋      | 290/798 [16:40<29:03,  3.43s/it]"
     ]
    },
    {
     "name": "stdout",
     "output_type": "stream",
     "text": [
      "\n",
      "Batch 290/798\n",
      "Input shape: torch.Size([16, 3, 224, 224])\n",
      "Labels shape: torch.Size([16])\n"
     ]
    },
    {
     "name": "stderr",
     "output_type": "stream",
     "text": [
      "Training:  38%|███▊      | 300/798 [17:14<28:39,  3.45s/it]"
     ]
    },
    {
     "name": "stdout",
     "output_type": "stream",
     "text": [
      "\n",
      "Batch 300/798\n",
      "Input shape: torch.Size([16, 3, 224, 224])\n",
      "Labels shape: torch.Size([16])\n"
     ]
    },
    {
     "name": "stderr",
     "output_type": "stream",
     "text": [
      "\rTraining:  38%|███▊      | 301/798 [17:18<29:22,  3.55s/it]"
     ]
    },
    {
     "name": "stdout",
     "output_type": "stream",
     "text": [
      "\n",
      "Batch 300 timing:\n",
      "  Data transfer: 0.000s\n",
      "  Forward pass: 1.681s\n",
      "  Backward pass: 2.071s\n",
      "  Total batch: 3.752s\n",
      "  Loss: 1.0217\n"
     ]
    },
    {
     "name": "stderr",
     "output_type": "stream",
     "text": [
      "Training:  39%|███▉      | 310/798 [17:48<28:09,  3.46s/it]"
     ]
    },
    {
     "name": "stdout",
     "output_type": "stream",
     "text": [
      "\n",
      "Batch 310/798\n",
      "Input shape: torch.Size([16, 3, 224, 224])\n",
      "Labels shape: torch.Size([16])\n"
     ]
    },
    {
     "name": "stderr",
     "output_type": "stream",
     "text": [
      "Training:  40%|████      | 320/798 [18:22<25:17,  3.17s/it]"
     ]
    },
    {
     "name": "stdout",
     "output_type": "stream",
     "text": [
      "\n",
      "Batch 320/798\n",
      "Input shape: torch.Size([16, 3, 224, 224])\n",
      "Labels shape: torch.Size([16])\n"
     ]
    },
    {
     "name": "stderr",
     "output_type": "stream",
     "text": [
      "Training:  41%|████▏     | 330/798 [18:57<27:40,  3.55s/it]"
     ]
    },
    {
     "name": "stdout",
     "output_type": "stream",
     "text": [
      "\n",
      "Batch 330/798\n",
      "Input shape: torch.Size([16, 3, 224, 224])\n",
      "Labels shape: torch.Size([16])\n"
     ]
    },
    {
     "name": "stderr",
     "output_type": "stream",
     "text": [
      "Training:  43%|████▎     | 340/798 [19:30<25:11,  3.30s/it]"
     ]
    },
    {
     "name": "stdout",
     "output_type": "stream",
     "text": [
      "\n",
      "Batch 340/798\n",
      "Input shape: torch.Size([16, 3, 224, 224])\n",
      "Labels shape: torch.Size([16])\n"
     ]
    },
    {
     "name": "stderr",
     "output_type": "stream",
     "text": [
      "Training:  44%|████▍     | 350/798 [20:05<27:19,  3.66s/it]"
     ]
    },
    {
     "name": "stdout",
     "output_type": "stream",
     "text": [
      "\n",
      "Batch 350/798\n",
      "Input shape: torch.Size([16, 3, 224, 224])\n",
      "Labels shape: torch.Size([16])\n"
     ]
    },
    {
     "name": "stderr",
     "output_type": "stream",
     "text": [
      "\rTraining:  44%|████▍     | 351/798 [20:09<26:13,  3.52s/it]"
     ]
    },
    {
     "name": "stdout",
     "output_type": "stream",
     "text": [
      "\n",
      "Batch 350 timing:\n",
      "  Data transfer: 0.000s\n",
      "  Forward pass: 1.185s\n",
      "  Backward pass: 1.995s\n",
      "  Total batch: 3.180s\n",
      "  Loss: 0.6927\n"
     ]
    },
    {
     "name": "stderr",
     "output_type": "stream",
     "text": [
      "Training:  45%|████▌     | 360/798 [20:40<25:24,  3.48s/it]"
     ]
    },
    {
     "name": "stdout",
     "output_type": "stream",
     "text": [
      "\n",
      "Batch 360/798\n",
      "Input shape: torch.Size([16, 3, 224, 224])\n",
      "Labels shape: torch.Size([16])\n"
     ]
    },
    {
     "name": "stderr",
     "output_type": "stream",
     "text": [
      "Training:  46%|████▋     | 370/798 [21:15<25:45,  3.61s/it]"
     ]
    },
    {
     "name": "stdout",
     "output_type": "stream",
     "text": [
      "\n",
      "Batch 370/798\n",
      "Input shape: torch.Size([16, 3, 224, 224])\n",
      "Labels shape: torch.Size([16])\n"
     ]
    },
    {
     "name": "stderr",
     "output_type": "stream",
     "text": [
      "Training:  48%|████▊     | 380/798 [21:49<23:31,  3.38s/it]"
     ]
    },
    {
     "name": "stdout",
     "output_type": "stream",
     "text": [
      "\n",
      "Batch 380/798\n",
      "Input shape: torch.Size([16, 3, 224, 224])\n",
      "Labels shape: torch.Size([16])\n"
     ]
    },
    {
     "name": "stderr",
     "output_type": "stream",
     "text": [
      "Training:  49%|████▉     | 390/798 [22:24<23:47,  3.50s/it]"
     ]
    },
    {
     "name": "stdout",
     "output_type": "stream",
     "text": [
      "\n",
      "Batch 390/798\n",
      "Input shape: torch.Size([16, 3, 224, 224])\n",
      "Labels shape: torch.Size([16])\n"
     ]
    },
    {
     "name": "stderr",
     "output_type": "stream",
     "text": [
      "Training:  50%|█████     | 400/798 [22:59<22:58,  3.46s/it]"
     ]
    },
    {
     "name": "stdout",
     "output_type": "stream",
     "text": [
      "\n",
      "Batch 400/798\n",
      "Input shape: torch.Size([16, 3, 224, 224])\n",
      "Labels shape: torch.Size([16])\n"
     ]
    },
    {
     "name": "stderr",
     "output_type": "stream",
     "text": [
      "\rTraining:  50%|█████     | 401/798 [23:02<21:57,  3.32s/it]"
     ]
    },
    {
     "name": "stdout",
     "output_type": "stream",
     "text": [
      "\n",
      "Batch 400 timing:\n",
      "  Data transfer: 0.000s\n",
      "  Forward pass: 1.115s\n",
      "  Backward pass: 1.864s\n",
      "  Total batch: 2.980s\n",
      "  Loss: 0.8652\n"
     ]
    },
    {
     "name": "stderr",
     "output_type": "stream",
     "text": [
      "Training:  51%|█████▏    | 410/798 [23:33<21:52,  3.38s/it]"
     ]
    },
    {
     "name": "stdout",
     "output_type": "stream",
     "text": [
      "\n",
      "Batch 410/798\n",
      "Input shape: torch.Size([16, 3, 224, 224])\n",
      "Labels shape: torch.Size([16])\n"
     ]
    },
    {
     "name": "stderr",
     "output_type": "stream",
     "text": [
      "Training:  53%|█████▎    | 420/798 [24:08<21:45,  3.45s/it]"
     ]
    },
    {
     "name": "stdout",
     "output_type": "stream",
     "text": [
      "\n",
      "Batch 420/798\n",
      "Input shape: torch.Size([16, 3, 224, 224])\n",
      "Labels shape: torch.Size([16])\n"
     ]
    },
    {
     "name": "stderr",
     "output_type": "stream",
     "text": [
      "Training:  54%|█████▍    | 430/798 [24:41<20:04,  3.27s/it]"
     ]
    },
    {
     "name": "stdout",
     "output_type": "stream",
     "text": [
      "\n",
      "Batch 430/798\n",
      "Input shape: torch.Size([16, 3, 224, 224])\n",
      "Labels shape: torch.Size([16])\n"
     ]
    },
    {
     "name": "stderr",
     "output_type": "stream",
     "text": [
      "Training:  55%|█████▌    | 440/798 [25:18<22:05,  3.70s/it]"
     ]
    },
    {
     "name": "stdout",
     "output_type": "stream",
     "text": [
      "\n",
      "Batch 440/798\n",
      "Input shape: torch.Size([16, 3, 224, 224])\n",
      "Labels shape: torch.Size([16])\n"
     ]
    },
    {
     "name": "stderr",
     "output_type": "stream",
     "text": [
      "Training:  56%|█████▋    | 450/798 [25:52<19:05,  3.29s/it]"
     ]
    },
    {
     "name": "stdout",
     "output_type": "stream",
     "text": [
      "\n",
      "Batch 450/798\n",
      "Input shape: torch.Size([16, 3, 224, 224])\n",
      "Labels shape: torch.Size([16])\n"
     ]
    },
    {
     "name": "stderr",
     "output_type": "stream",
     "text": [
      "\rTraining:  57%|█████▋    | 451/798 [25:55<19:49,  3.43s/it]"
     ]
    },
    {
     "name": "stdout",
     "output_type": "stream",
     "text": [
      "\n",
      "Batch 450 timing:\n",
      "  Data transfer: 0.000s\n",
      "  Forward pass: 1.206s\n",
      "  Backward pass: 2.528s\n",
      "  Total batch: 3.734s\n",
      "  Loss: 0.9312\n"
     ]
    },
    {
     "name": "stderr",
     "output_type": "stream",
     "text": [
      "Training:  58%|█████▊    | 460/798 [26:27<20:03,  3.56s/it]"
     ]
    },
    {
     "name": "stdout",
     "output_type": "stream",
     "text": [
      "\n",
      "Batch 460/798\n",
      "Input shape: torch.Size([16, 3, 224, 224])\n",
      "Labels shape: torch.Size([16])\n"
     ]
    },
    {
     "name": "stderr",
     "output_type": "stream",
     "text": [
      "Training:  59%|█████▉    | 470/798 [27:00<18:20,  3.36s/it]"
     ]
    },
    {
     "name": "stdout",
     "output_type": "stream",
     "text": [
      "\n",
      "Batch 470/798\n",
      "Input shape: torch.Size([16, 3, 224, 224])\n",
      "Labels shape: torch.Size([16])\n"
     ]
    },
    {
     "name": "stderr",
     "output_type": "stream",
     "text": [
      "Training:  60%|██████    | 480/798 [27:35<18:46,  3.54s/it]"
     ]
    },
    {
     "name": "stdout",
     "output_type": "stream",
     "text": [
      "\n",
      "Batch 480/798\n",
      "Input shape: torch.Size([16, 3, 224, 224])\n",
      "Labels shape: torch.Size([16])\n"
     ]
    },
    {
     "name": "stderr",
     "output_type": "stream",
     "text": [
      "Training:  61%|██████▏   | 490/798 [28:09<17:30,  3.41s/it]"
     ]
    },
    {
     "name": "stdout",
     "output_type": "stream",
     "text": [
      "\n",
      "Batch 490/798\n",
      "Input shape: torch.Size([16, 3, 224, 224])\n",
      "Labels shape: torch.Size([16])\n"
     ]
    },
    {
     "name": "stderr",
     "output_type": "stream",
     "text": [
      "Training:  63%|██████▎   | 500/798 [28:43<16:35,  3.34s/it]"
     ]
    },
    {
     "name": "stdout",
     "output_type": "stream",
     "text": [
      "\n",
      "Batch 500/798\n",
      "Input shape: torch.Size([16, 3, 224, 224])\n",
      "Labels shape: torch.Size([16])\n"
     ]
    },
    {
     "name": "stderr",
     "output_type": "stream",
     "text": [
      "\rTraining:  63%|██████▎   | 501/798 [28:47<18:19,  3.70s/it]"
     ]
    },
    {
     "name": "stdout",
     "output_type": "stream",
     "text": [
      "\n",
      "Batch 500 timing:\n",
      "  Data transfer: 0.000s\n",
      "  Forward pass: 1.660s\n",
      "  Backward pass: 2.875s\n",
      "  Total batch: 4.534s\n",
      "  Loss: 1.0162\n"
     ]
    },
    {
     "name": "stderr",
     "output_type": "stream",
     "text": [
      "Training:  64%|██████▍   | 510/798 [29:18<16:51,  3.51s/it]"
     ]
    },
    {
     "name": "stdout",
     "output_type": "stream",
     "text": [
      "\n",
      "Batch 510/798\n",
      "Input shape: torch.Size([16, 3, 224, 224])\n",
      "Labels shape: torch.Size([16])\n"
     ]
    },
    {
     "name": "stderr",
     "output_type": "stream",
     "text": [
      "Training:  65%|██████▌   | 520/798 [29:52<15:10,  3.27s/it]"
     ]
    },
    {
     "name": "stdout",
     "output_type": "stream",
     "text": [
      "\n",
      "Batch 520/798\n",
      "Input shape: torch.Size([16, 3, 224, 224])\n",
      "Labels shape: torch.Size([16])\n"
     ]
    },
    {
     "name": "stderr",
     "output_type": "stream",
     "text": [
      "Training:  66%|██████▋   | 530/798 [30:27<15:57,  3.57s/it]"
     ]
    },
    {
     "name": "stdout",
     "output_type": "stream",
     "text": [
      "\n",
      "Batch 530/798\n",
      "Input shape: torch.Size([16, 3, 224, 224])\n",
      "Labels shape: torch.Size([16])\n"
     ]
    },
    {
     "name": "stderr",
     "output_type": "stream",
     "text": [
      "Training:  68%|██████▊   | 540/798 [31:01<14:23,  3.35s/it]"
     ]
    },
    {
     "name": "stdout",
     "output_type": "stream",
     "text": [
      "\n",
      "Batch 540/798\n",
      "Input shape: torch.Size([16, 3, 224, 224])\n",
      "Labels shape: torch.Size([16])\n"
     ]
    },
    {
     "name": "stderr",
     "output_type": "stream",
     "text": [
      "Training:  69%|██████▉   | 550/798 [31:36<14:53,  3.60s/it]"
     ]
    },
    {
     "name": "stdout",
     "output_type": "stream",
     "text": [
      "\n",
      "Batch 550/798\n",
      "Input shape: torch.Size([16, 3, 224, 224])\n",
      "Labels shape: torch.Size([16])\n"
     ]
    },
    {
     "name": "stderr",
     "output_type": "stream",
     "text": [
      "\rTraining:  69%|██████▉   | 551/798 [31:39<14:15,  3.47s/it]"
     ]
    },
    {
     "name": "stdout",
     "output_type": "stream",
     "text": [
      "\n",
      "Batch 550 timing:\n",
      "  Data transfer: 0.000s\n",
      "  Forward pass: 1.321s\n",
      "  Backward pass: 1.805s\n",
      "  Total batch: 3.126s\n",
      "  Loss: 0.9122\n"
     ]
    },
    {
     "name": "stderr",
     "output_type": "stream",
     "text": [
      "Training:  70%|███████   | 560/798 [32:10<13:31,  3.41s/it]"
     ]
    },
    {
     "name": "stdout",
     "output_type": "stream",
     "text": [
      "\n",
      "Batch 560/798\n",
      "Input shape: torch.Size([16, 3, 224, 224])\n",
      "Labels shape: torch.Size([16])\n"
     ]
    },
    {
     "name": "stderr",
     "output_type": "stream",
     "text": [
      "Training:  71%|███████▏  | 570/798 [32:43<12:12,  3.21s/it]"
     ]
    },
    {
     "name": "stdout",
     "output_type": "stream",
     "text": [
      "\n",
      "Batch 570/798\n",
      "Input shape: torch.Size([16, 3, 224, 224])\n",
      "Labels shape: torch.Size([16])\n"
     ]
    },
    {
     "name": "stderr",
     "output_type": "stream",
     "text": [
      "Training:  73%|███████▎  | 580/798 [33:18<12:46,  3.52s/it]"
     ]
    },
    {
     "name": "stdout",
     "output_type": "stream",
     "text": [
      "\n",
      "Batch 580/798\n",
      "Input shape: torch.Size([16, 3, 224, 224])\n",
      "Labels shape: torch.Size([16])\n"
     ]
    },
    {
     "name": "stderr",
     "output_type": "stream",
     "text": [
      "Training:  74%|███████▍  | 590/798 [33:52<11:29,  3.31s/it]"
     ]
    },
    {
     "name": "stdout",
     "output_type": "stream",
     "text": [
      "\n",
      "Batch 590/798\n",
      "Input shape: torch.Size([16, 3, 224, 224])\n",
      "Labels shape: torch.Size([16])\n"
     ]
    },
    {
     "name": "stderr",
     "output_type": "stream",
     "text": [
      "Training:  75%|███████▌  | 600/798 [34:27<11:39,  3.53s/it]"
     ]
    },
    {
     "name": "stdout",
     "output_type": "stream",
     "text": [
      "\n",
      "Batch 600/798\n",
      "Input shape: torch.Size([16, 3, 224, 224])\n",
      "Labels shape: torch.Size([16])\n"
     ]
    },
    {
     "name": "stderr",
     "output_type": "stream",
     "text": [
      "\rTraining:  75%|███████▌  | 601/798 [34:30<11:06,  3.38s/it]"
     ]
    },
    {
     "name": "stdout",
     "output_type": "stream",
     "text": [
      "\n",
      "Batch 600 timing:\n",
      "  Data transfer: 0.000s\n",
      "  Forward pass: 1.155s\n",
      "  Backward pass: 1.880s\n",
      "  Total batch: 3.035s\n",
      "  Loss: 0.7161\n"
     ]
    },
    {
     "name": "stderr",
     "output_type": "stream",
     "text": [
      "Training:  76%|███████▋  | 610/798 [35:01<10:39,  3.40s/it]"
     ]
    },
    {
     "name": "stdout",
     "output_type": "stream",
     "text": [
      "\n",
      "Batch 610/798\n",
      "Input shape: torch.Size([16, 3, 224, 224])\n",
      "Labels shape: torch.Size([16])\n"
     ]
    },
    {
     "name": "stderr",
     "output_type": "stream",
     "text": [
      "Training:  78%|███████▊  | 620/798 [35:37<10:45,  3.63s/it]"
     ]
    },
    {
     "name": "stdout",
     "output_type": "stream",
     "text": [
      "\n",
      "Batch 620/798\n",
      "Input shape: torch.Size([16, 3, 224, 224])\n",
      "Labels shape: torch.Size([16])\n"
     ]
    },
    {
     "name": "stderr",
     "output_type": "stream",
     "text": [
      "Training:  79%|███████▉  | 630/798 [36:10<09:31,  3.40s/it]"
     ]
    },
    {
     "name": "stdout",
     "output_type": "stream",
     "text": [
      "\n",
      "Batch 630/798\n",
      "Input shape: torch.Size([16, 3, 224, 224])\n",
      "Labels shape: torch.Size([16])\n"
     ]
    },
    {
     "name": "stderr",
     "output_type": "stream",
     "text": [
      "Training:  80%|████████  | 640/798 [36:45<09:09,  3.48s/it]"
     ]
    },
    {
     "name": "stdout",
     "output_type": "stream",
     "text": [
      "\n",
      "Batch 640/798\n",
      "Input shape: torch.Size([16, 3, 224, 224])\n",
      "Labels shape: torch.Size([16])\n"
     ]
    },
    {
     "name": "stderr",
     "output_type": "stream",
     "text": [
      "Training:  81%|████████▏ | 650/798 [37:19<08:30,  3.45s/it]"
     ]
    },
    {
     "name": "stdout",
     "output_type": "stream",
     "text": [
      "\n",
      "Batch 650/798\n",
      "Input shape: torch.Size([16, 3, 224, 224])\n",
      "Labels shape: torch.Size([16])\n"
     ]
    },
    {
     "name": "stderr",
     "output_type": "stream",
     "text": [
      "\rTraining:  82%|████████▏ | 651/798 [37:22<08:10,  3.34s/it]"
     ]
    },
    {
     "name": "stdout",
     "output_type": "stream",
     "text": [
      "\n",
      "Batch 650 timing:\n",
      "  Data transfer: 0.000s\n",
      "  Forward pass: 1.172s\n",
      "  Backward pass: 1.886s\n",
      "  Total batch: 3.059s\n",
      "  Loss: 0.5920\n"
     ]
    },
    {
     "name": "stderr",
     "output_type": "stream",
     "text": [
      "Training:  83%|████████▎ | 660/798 [37:53<07:46,  3.38s/it]"
     ]
    },
    {
     "name": "stdout",
     "output_type": "stream",
     "text": [
      "\n",
      "Batch 660/798\n",
      "Input shape: torch.Size([16, 3, 224, 224])\n",
      "Labels shape: torch.Size([16])\n"
     ]
    },
    {
     "name": "stderr",
     "output_type": "stream",
     "text": [
      "Training:  84%|████████▍ | 670/798 [38:28<07:23,  3.47s/it]"
     ]
    },
    {
     "name": "stdout",
     "output_type": "stream",
     "text": [
      "\n",
      "Batch 670/798\n",
      "Input shape: torch.Size([16, 3, 224, 224])\n",
      "Labels shape: torch.Size([16])\n"
     ]
    },
    {
     "name": "stderr",
     "output_type": "stream",
     "text": [
      "Training:  85%|████████▌ | 680/798 [39:02<06:34,  3.35s/it]"
     ]
    },
    {
     "name": "stdout",
     "output_type": "stream",
     "text": [
      "\n",
      "Batch 680/798\n",
      "Input shape: torch.Size([16, 3, 224, 224])\n",
      "Labels shape: torch.Size([16])\n"
     ]
    },
    {
     "name": "stderr",
     "output_type": "stream",
     "text": [
      "Training:  86%|████████▋ | 690/798 [39:38<06:25,  3.57s/it]"
     ]
    },
    {
     "name": "stdout",
     "output_type": "stream",
     "text": [
      "\n",
      "Batch 690/798\n",
      "Input shape: torch.Size([16, 3, 224, 224])\n",
      "Labels shape: torch.Size([16])\n"
     ]
    },
    {
     "name": "stderr",
     "output_type": "stream",
     "text": [
      "Training:  88%|████████▊ | 700/798 [40:11<05:21,  3.29s/it]"
     ]
    },
    {
     "name": "stdout",
     "output_type": "stream",
     "text": [
      "\n",
      "Batch 700/798\n",
      "Input shape: torch.Size([16, 3, 224, 224])\n",
      "Labels shape: torch.Size([16])\n"
     ]
    },
    {
     "name": "stderr",
     "output_type": "stream",
     "text": [
      "\rTraining:  88%|████████▊ | 701/798 [40:14<05:13,  3.23s/it]"
     ]
    },
    {
     "name": "stdout",
     "output_type": "stream",
     "text": [
      "\n",
      "Batch 700 timing:\n",
      "  Data transfer: 0.000s\n",
      "  Forward pass: 1.106s\n",
      "  Backward pass: 1.982s\n",
      "  Total batch: 3.088s\n",
      "  Loss: 1.2554\n"
     ]
    },
    {
     "name": "stderr",
     "output_type": "stream",
     "text": [
      "Training:  89%|████████▉ | 710/798 [40:46<05:15,  3.59s/it]"
     ]
    },
    {
     "name": "stdout",
     "output_type": "stream",
     "text": [
      "\n",
      "Batch 710/798\n",
      "Input shape: torch.Size([16, 3, 224, 224])\n",
      "Labels shape: torch.Size([16])\n"
     ]
    },
    {
     "name": "stderr",
     "output_type": "stream",
     "text": [
      "Training:  90%|█████████ | 720/798 [41:21<04:35,  3.53s/it]"
     ]
    },
    {
     "name": "stdout",
     "output_type": "stream",
     "text": [
      "\n",
      "Batch 720/798\n",
      "Input shape: torch.Size([16, 3, 224, 224])\n",
      "Labels shape: torch.Size([16])\n"
     ]
    },
    {
     "name": "stderr",
     "output_type": "stream",
     "text": [
      "Training:  91%|█████████▏| 730/798 [41:55<03:54,  3.45s/it]"
     ]
    },
    {
     "name": "stdout",
     "output_type": "stream",
     "text": [
      "\n",
      "Batch 730/798\n",
      "Input shape: torch.Size([16, 3, 224, 224])\n",
      "Labels shape: torch.Size([16])\n"
     ]
    },
    {
     "name": "stderr",
     "output_type": "stream",
     "text": [
      "Training:  93%|█████████▎| 740/798 [42:30<03:21,  3.48s/it]"
     ]
    },
    {
     "name": "stdout",
     "output_type": "stream",
     "text": [
      "\n",
      "Batch 740/798\n",
      "Input shape: torch.Size([16, 3, 224, 224])\n",
      "Labels shape: torch.Size([16])\n"
     ]
    },
    {
     "name": "stderr",
     "output_type": "stream",
     "text": [
      "Training:  94%|█████████▍| 750/798 [43:04<02:41,  3.37s/it]"
     ]
    },
    {
     "name": "stdout",
     "output_type": "stream",
     "text": [
      "\n",
      "Batch 750/798\n",
      "Input shape: torch.Size([16, 3, 224, 224])\n",
      "Labels shape: torch.Size([16])\n"
     ]
    },
    {
     "name": "stderr",
     "output_type": "stream",
     "text": [
      "\rTraining:  94%|█████████▍| 751/798 [43:09<02:51,  3.66s/it]"
     ]
    },
    {
     "name": "stdout",
     "output_type": "stream",
     "text": [
      "\n",
      "Batch 750 timing:\n",
      "  Data transfer: 0.000s\n",
      "  Forward pass: 1.645s\n",
      "  Backward pass: 2.677s\n",
      "  Total batch: 4.322s\n",
      "  Loss: 0.6677\n"
     ]
    },
    {
     "name": "stderr",
     "output_type": "stream",
     "text": [
      "Training:  95%|█████████▌| 760/798 [43:39<02:12,  3.48s/it]"
     ]
    },
    {
     "name": "stdout",
     "output_type": "stream",
     "text": [
      "\n",
      "Batch 760/798\n",
      "Input shape: torch.Size([16, 3, 224, 224])\n",
      "Labels shape: torch.Size([16])\n"
     ]
    },
    {
     "name": "stderr",
     "output_type": "stream",
     "text": [
      "Training:  96%|█████████▋| 770/798 [44:13<01:32,  3.29s/it]"
     ]
    },
    {
     "name": "stdout",
     "output_type": "stream",
     "text": [
      "\n",
      "Batch 770/798\n",
      "Input shape: torch.Size([16, 3, 224, 224])\n",
      "Labels shape: torch.Size([16])\n"
     ]
    },
    {
     "name": "stderr",
     "output_type": "stream",
     "text": [
      "Training:  98%|█████████▊| 780/798 [44:48<01:04,  3.57s/it]"
     ]
    },
    {
     "name": "stdout",
     "output_type": "stream",
     "text": [
      "\n",
      "Batch 780/798\n",
      "Input shape: torch.Size([16, 3, 224, 224])\n",
      "Labels shape: torch.Size([16])\n"
     ]
    },
    {
     "name": "stderr",
     "output_type": "stream",
     "text": [
      "Training:  99%|█████████▉| 790/798 [45:21<00:27,  3.41s/it]"
     ]
    },
    {
     "name": "stdout",
     "output_type": "stream",
     "text": [
      "\n",
      "Batch 790/798\n",
      "Input shape: torch.Size([16, 3, 224, 224])\n",
      "Labels shape: torch.Size([16])\n"
     ]
    },
    {
     "name": "stderr",
     "output_type": "stream",
     "text": [
      "Training: 100%|██████████| 798/798 [45:49<00:00,  3.44s/it]\n"
     ]
    },
    {
     "name": "stdout",
     "output_type": "stream",
     "text": [
      "\n",
      "Epoch 4 completed in 2749.1 seconds\n",
      "Training Loss: 0.9137\n",
      "Average time per batch: 3.445s\n",
      "Starting validation...\n",
      "Validation batch 0/200\n",
      "Validation batch 20/200\n",
      "Validation batch 40/200\n",
      "Validation batch 60/200\n",
      "Validation batch 80/200\n",
      "Validation batch 100/200\n",
      "Validation batch 120/200\n",
      "Validation batch 140/200\n",
      "Validation batch 160/200\n",
      "Validation batch 180/200\n",
      "Validation completed in 156.9 seconds\n",
      "Validation Metrics:\n",
      "              precision    recall  f1-score   support\n",
      "\n",
      "           0      0.540     0.551     0.545       588\n",
      "           1      0.476     0.540     0.506       959\n",
      "           2      0.380     0.299     0.335       659\n",
      "           3      0.450     0.458     0.454       554\n",
      "           4      0.462     0.438     0.450       306\n",
      "           5      0.550     0.571     0.560       126\n",
      "\n",
      "    accuracy                          0.470      3192\n",
      "   macro avg      0.476     0.476     0.475      3192\n",
      "weighted avg      0.465     0.470     0.466      3192\n",
      "\n",
      "\n",
      "Epoch 5/5\n"
     ]
    },
    {
     "name": "stderr",
     "output_type": "stream",
     "text": [
      "\rTraining:   0%|          | 0/798 [00:00<?, ?it/s]"
     ]
    },
    {
     "name": "stdout",
     "output_type": "stream",
     "text": [
      "\n",
      "Batch 0/798\n",
      "Input shape: torch.Size([16, 3, 224, 224])\n",
      "Labels shape: torch.Size([16])\n"
     ]
    },
    {
     "name": "stderr",
     "output_type": "stream",
     "text": [
      "\rTraining:   0%|          | 1/798 [00:05<1:14:49,  5.63s/it]"
     ]
    },
    {
     "name": "stdout",
     "output_type": "stream",
     "text": [
      "\n",
      "Batch 0 timing:\n",
      "  Data transfer: 0.001s\n",
      "  Forward pass: 2.551s\n",
      "  Backward pass: 2.659s\n",
      "  Total batch: 5.211s\n",
      "  Loss: 0.5672\n"
     ]
    },
    {
     "name": "stderr",
     "output_type": "stream",
     "text": [
      "\rTraining:   0%|          | 2/798 [00:09<1:02:31,  4.71s/it]"
     ]
    },
    {
     "name": "stdout",
     "output_type": "stream",
     "text": [
      "\n",
      "Batch 1 timing:\n",
      "  Data transfer: 0.000s\n",
      "  Forward pass: 1.692s\n",
      "  Backward pass: 2.372s\n",
      "  Total batch: 4.064s\n",
      "  Loss: 0.5839\n"
     ]
    },
    {
     "name": "stderr",
     "output_type": "stream",
     "text": [
      "\rTraining:   0%|          | 3/798 [00:12<53:23,  4.03s/it]  "
     ]
    },
    {
     "name": "stdout",
     "output_type": "stream",
     "text": [
      "\n",
      "Batch 2 timing:\n",
      "  Data transfer: 0.000s\n",
      "  Forward pass: 1.148s\n",
      "  Backward pass: 2.062s\n",
      "  Total batch: 3.210s\n",
      "  Loss: 0.7420\n"
     ]
    },
    {
     "name": "stderr",
     "output_type": "stream",
     "text": [
      "\rTraining:   1%|          | 4/798 [00:16<48:31,  3.67s/it]"
     ]
    },
    {
     "name": "stdout",
     "output_type": "stream",
     "text": [
      "\n",
      "Batch 3 timing:\n",
      "  Data transfer: 0.000s\n",
      "  Forward pass: 1.194s\n",
      "  Backward pass: 1.903s\n",
      "  Total batch: 3.097s\n",
      "  Loss: 0.8910\n"
     ]
    },
    {
     "name": "stderr",
     "output_type": "stream",
     "text": [
      "\rTraining:   1%|          | 5/798 [00:19<46:50,  3.54s/it]"
     ]
    },
    {
     "name": "stdout",
     "output_type": "stream",
     "text": [
      "\n",
      "Batch 4 timing:\n",
      "  Data transfer: 0.000s\n",
      "  Forward pass: 1.171s\n",
      "  Backward pass: 2.149s\n",
      "  Total batch: 3.320s\n",
      "  Loss: 0.9422\n"
     ]
    },
    {
     "name": "stderr",
     "output_type": "stream",
     "text": [
      "Training:   1%|▏         | 10/798 [00:36<47:07,  3.59s/it]"
     ]
    },
    {
     "name": "stdout",
     "output_type": "stream",
     "text": [
      "\n",
      "Batch 10/798\n",
      "Input shape: torch.Size([16, 3, 224, 224])\n",
      "Labels shape: torch.Size([16])\n"
     ]
    },
    {
     "name": "stderr",
     "output_type": "stream",
     "text": [
      "Training:   3%|▎         | 20/798 [01:10<44:02,  3.40s/it]"
     ]
    },
    {
     "name": "stdout",
     "output_type": "stream",
     "text": [
      "\n",
      "Batch 20/798\n",
      "Input shape: torch.Size([16, 3, 224, 224])\n",
      "Labels shape: torch.Size([16])\n"
     ]
    },
    {
     "name": "stderr",
     "output_type": "stream",
     "text": [
      "Training:   4%|▍         | 30/798 [01:46<45:47,  3.58s/it]"
     ]
    },
    {
     "name": "stdout",
     "output_type": "stream",
     "text": [
      "\n",
      "Batch 30/798\n",
      "Input shape: torch.Size([16, 3, 224, 224])\n",
      "Labels shape: torch.Size([16])\n"
     ]
    },
    {
     "name": "stderr",
     "output_type": "stream",
     "text": [
      "Training:   5%|▌         | 40/798 [02:19<42:45,  3.38s/it]"
     ]
    },
    {
     "name": "stdout",
     "output_type": "stream",
     "text": [
      "\n",
      "Batch 40/798\n",
      "Input shape: torch.Size([16, 3, 224, 224])\n",
      "Labels shape: torch.Size([16])\n"
     ]
    },
    {
     "name": "stderr",
     "output_type": "stream",
     "text": [
      "Training:   6%|▋         | 50/798 [02:54<41:21,  3.32s/it]"
     ]
    },
    {
     "name": "stdout",
     "output_type": "stream",
     "text": [
      "\n",
      "Batch 50/798\n",
      "Input shape: torch.Size([16, 3, 224, 224])\n",
      "Labels shape: torch.Size([16])\n"
     ]
    },
    {
     "name": "stderr",
     "output_type": "stream",
     "text": [
      "\rTraining:   6%|▋         | 51/798 [02:58<45:11,  3.63s/it]"
     ]
    },
    {
     "name": "stdout",
     "output_type": "stream",
     "text": [
      "\n",
      "Batch 50 timing:\n",
      "  Data transfer: 0.000s\n",
      "  Forward pass: 1.547s\n",
      "  Backward pass: 2.787s\n",
      "  Total batch: 4.334s\n",
      "  Loss: 0.4382\n"
     ]
    },
    {
     "name": "stderr",
     "output_type": "stream",
     "text": [
      "Training:   8%|▊         | 60/798 [03:29<43:07,  3.51s/it]"
     ]
    },
    {
     "name": "stdout",
     "output_type": "stream",
     "text": [
      "\n",
      "Batch 60/798\n",
      "Input shape: torch.Size([16, 3, 224, 224])\n",
      "Labels shape: torch.Size([16])\n"
     ]
    },
    {
     "name": "stderr",
     "output_type": "stream",
     "text": [
      "Training:   9%|▉         | 70/798 [04:03<40:34,  3.34s/it]"
     ]
    },
    {
     "name": "stdout",
     "output_type": "stream",
     "text": [
      "\n",
      "Batch 70/798\n",
      "Input shape: torch.Size([16, 3, 224, 224])\n",
      "Labels shape: torch.Size([16])\n"
     ]
    },
    {
     "name": "stderr",
     "output_type": "stream",
     "text": [
      "Training:  10%|█         | 80/798 [04:37<42:13,  3.53s/it]"
     ]
    },
    {
     "name": "stdout",
     "output_type": "stream",
     "text": [
      "\n",
      "Batch 80/798\n",
      "Input shape: torch.Size([16, 3, 224, 224])\n",
      "Labels shape: torch.Size([16])\n"
     ]
    },
    {
     "name": "stderr",
     "output_type": "stream",
     "text": [
      "Training:  11%|█▏        | 90/798 [05:11<39:17,  3.33s/it]"
     ]
    },
    {
     "name": "stdout",
     "output_type": "stream",
     "text": [
      "\n",
      "Batch 90/798\n",
      "Input shape: torch.Size([16, 3, 224, 224])\n",
      "Labels shape: torch.Size([16])\n"
     ]
    },
    {
     "name": "stderr",
     "output_type": "stream",
     "text": [
      "Training:  13%|█▎        | 100/798 [05:47<42:19,  3.64s/it]"
     ]
    },
    {
     "name": "stdout",
     "output_type": "stream",
     "text": [
      "\n",
      "Batch 100/798\n",
      "Input shape: torch.Size([16, 3, 224, 224])\n",
      "Labels shape: torch.Size([16])\n"
     ]
    },
    {
     "name": "stderr",
     "output_type": "stream",
     "text": [
      "\rTraining:  13%|█▎        | 101/798 [05:50<40:47,  3.51s/it]"
     ]
    },
    {
     "name": "stdout",
     "output_type": "stream",
     "text": [
      "\n",
      "Batch 100 timing:\n",
      "  Data transfer: 0.000s\n",
      "  Forward pass: 1.232s\n",
      "  Backward pass: 1.964s\n",
      "  Total batch: 3.197s\n",
      "  Loss: 0.7382\n"
     ]
    },
    {
     "name": "stderr",
     "output_type": "stream",
     "text": [
      "Training:  14%|█▍        | 110/798 [06:20<38:38,  3.37s/it]"
     ]
    },
    {
     "name": "stdout",
     "output_type": "stream",
     "text": [
      "\n",
      "Batch 110/798\n",
      "Input shape: torch.Size([16, 3, 224, 224])\n",
      "Labels shape: torch.Size([16])\n"
     ]
    },
    {
     "name": "stderr",
     "output_type": "stream",
     "text": [
      "Training:  15%|█▌        | 120/798 [06:55<38:37,  3.42s/it]"
     ]
    },
    {
     "name": "stdout",
     "output_type": "stream",
     "text": [
      "\n",
      "Batch 120/798\n",
      "Input shape: torch.Size([16, 3, 224, 224])\n",
      "Labels shape: torch.Size([16])\n"
     ]
    },
    {
     "name": "stderr",
     "output_type": "stream",
     "text": [
      "Training:  16%|█▋        | 130/798 [07:29<37:42,  3.39s/it]"
     ]
    },
    {
     "name": "stdout",
     "output_type": "stream",
     "text": [
      "\n",
      "Batch 130/798\n",
      "Input shape: torch.Size([16, 3, 224, 224])\n",
      "Labels shape: torch.Size([16])\n"
     ]
    },
    {
     "name": "stderr",
     "output_type": "stream",
     "text": [
      "Training:  18%|█▊        | 140/798 [08:03<36:03,  3.29s/it]"
     ]
    },
    {
     "name": "stdout",
     "output_type": "stream",
     "text": [
      "\n",
      "Batch 140/798\n",
      "Input shape: torch.Size([16, 3, 224, 224])\n",
      "Labels shape: torch.Size([16])\n"
     ]
    },
    {
     "name": "stderr",
     "output_type": "stream",
     "text": [
      "Training:  19%|█▉        | 150/798 [08:39<38:40,  3.58s/it]"
     ]
    },
    {
     "name": "stdout",
     "output_type": "stream",
     "text": [
      "\n",
      "Batch 150/798\n",
      "Input shape: torch.Size([16, 3, 224, 224])\n",
      "Labels shape: torch.Size([16])\n"
     ]
    },
    {
     "name": "stderr",
     "output_type": "stream",
     "text": [
      "\rTraining:  19%|█▉        | 151/798 [08:42<37:21,  3.46s/it]"
     ]
    },
    {
     "name": "stdout",
     "output_type": "stream",
     "text": [
      "\n",
      "Batch 150 timing:\n",
      "  Data transfer: 0.000s\n",
      "  Forward pass: 1.170s\n",
      "  Backward pass: 2.012s\n",
      "  Total batch: 3.183s\n",
      "  Loss: 0.4628\n"
     ]
    },
    {
     "name": "stderr",
     "output_type": "stream",
     "text": [
      "Training:  20%|██        | 160/798 [09:13<35:29,  3.34s/it]"
     ]
    },
    {
     "name": "stdout",
     "output_type": "stream",
     "text": [
      "\n",
      "Batch 160/798\n",
      "Input shape: torch.Size([16, 3, 224, 224])\n",
      "Labels shape: torch.Size([16])\n"
     ]
    },
    {
     "name": "stderr",
     "output_type": "stream",
     "text": [
      "Training:  21%|██▏       | 170/798 [09:48<36:11,  3.46s/it]"
     ]
    },
    {
     "name": "stdout",
     "output_type": "stream",
     "text": [
      "\n",
      "Batch 170/798\n",
      "Input shape: torch.Size([16, 3, 224, 224])\n",
      "Labels shape: torch.Size([16])\n"
     ]
    },
    {
     "name": "stderr",
     "output_type": "stream",
     "text": [
      "Training:  23%|██▎       | 180/798 [10:22<34:44,  3.37s/it]"
     ]
    },
    {
     "name": "stdout",
     "output_type": "stream",
     "text": [
      "\n",
      "Batch 180/798\n",
      "Input shape: torch.Size([16, 3, 224, 224])\n",
      "Labels shape: torch.Size([16])\n"
     ]
    },
    {
     "name": "stderr",
     "output_type": "stream",
     "text": [
      "Training:  24%|██▍       | 190/798 [10:57<36:51,  3.64s/it]"
     ]
    },
    {
     "name": "stdout",
     "output_type": "stream",
     "text": [
      "\n",
      "Batch 190/798\n",
      "Input shape: torch.Size([16, 3, 224, 224])\n",
      "Labels shape: torch.Size([16])\n"
     ]
    },
    {
     "name": "stderr",
     "output_type": "stream",
     "text": [
      "Training:  25%|██▌       | 200/798 [11:31<33:38,  3.37s/it]"
     ]
    },
    {
     "name": "stdout",
     "output_type": "stream",
     "text": [
      "\n",
      "Batch 200/798\n",
      "Input shape: torch.Size([16, 3, 224, 224])\n",
      "Labels shape: torch.Size([16])\n"
     ]
    },
    {
     "name": "stderr",
     "output_type": "stream",
     "text": [
      "\rTraining:  25%|██▌       | 201/798 [11:34<33:05,  3.33s/it]"
     ]
    },
    {
     "name": "stdout",
     "output_type": "stream",
     "text": [
      "\n",
      "Batch 200 timing:\n",
      "  Data transfer: 0.000s\n",
      "  Forward pass: 1.199s\n",
      "  Backward pass: 1.999s\n",
      "  Total batch: 3.198s\n",
      "  Loss: 0.7373\n"
     ]
    },
    {
     "name": "stderr",
     "output_type": "stream",
     "text": [
      "Training:  26%|██▋       | 210/798 [12:07<35:29,  3.62s/it]"
     ]
    },
    {
     "name": "stdout",
     "output_type": "stream",
     "text": [
      "\n",
      "Batch 210/798\n",
      "Input shape: torch.Size([16, 3, 224, 224])\n",
      "Labels shape: torch.Size([16])\n"
     ]
    },
    {
     "name": "stderr",
     "output_type": "stream",
     "text": [
      "Training:  28%|██▊       | 220/798 [12:40<32:32,  3.38s/it]"
     ]
    },
    {
     "name": "stdout",
     "output_type": "stream",
     "text": [
      "\n",
      "Batch 220/798\n",
      "Input shape: torch.Size([16, 3, 224, 224])\n",
      "Labels shape: torch.Size([16])\n"
     ]
    },
    {
     "name": "stderr",
     "output_type": "stream",
     "text": [
      "Training:  29%|██▉       | 230/798 [13:14<31:24,  3.32s/it]"
     ]
    },
    {
     "name": "stdout",
     "output_type": "stream",
     "text": [
      "\n",
      "Batch 230/798\n",
      "Input shape: torch.Size([16, 3, 224, 224])\n",
      "Labels shape: torch.Size([16])\n"
     ]
    },
    {
     "name": "stderr",
     "output_type": "stream",
     "text": [
      "Training:  30%|███       | 240/798 [13:49<32:03,  3.45s/it]"
     ]
    },
    {
     "name": "stdout",
     "output_type": "stream",
     "text": [
      "\n",
      "Batch 240/798\n",
      "Input shape: torch.Size([16, 3, 224, 224])\n",
      "Labels shape: torch.Size([16])\n"
     ]
    },
    {
     "name": "stderr",
     "output_type": "stream",
     "text": [
      "Training:  31%|███▏      | 250/798 [14:21<29:31,  3.23s/it]"
     ]
    },
    {
     "name": "stdout",
     "output_type": "stream",
     "text": [
      "\n",
      "Batch 250/798\n",
      "Input shape: torch.Size([16, 3, 224, 224])\n",
      "Labels shape: torch.Size([16])\n"
     ]
    },
    {
     "name": "stderr",
     "output_type": "stream",
     "text": [
      "\rTraining:  31%|███▏      | 251/798 [14:25<29:54,  3.28s/it]"
     ]
    },
    {
     "name": "stdout",
     "output_type": "stream",
     "text": [
      "\n",
      "Batch 250 timing:\n",
      "  Data transfer: 0.000s\n",
      "  Forward pass: 1.239s\n",
      "  Backward pass: 2.146s\n",
      "  Total batch: 3.386s\n",
      "  Loss: 0.8920\n"
     ]
    },
    {
     "name": "stderr",
     "output_type": "stream",
     "text": [
      "Training:  33%|███▎      | 260/798 [14:58<33:10,  3.70s/it]"
     ]
    },
    {
     "name": "stdout",
     "output_type": "stream",
     "text": [
      "\n",
      "Batch 260/798\n",
      "Input shape: torch.Size([16, 3, 224, 224])\n",
      "Labels shape: torch.Size([16])\n"
     ]
    },
    {
     "name": "stderr",
     "output_type": "stream",
     "text": [
      "Training:  34%|███▍      | 270/798 [15:32<30:22,  3.45s/it]"
     ]
    },
    {
     "name": "stdout",
     "output_type": "stream",
     "text": [
      "\n",
      "Batch 270/798\n",
      "Input shape: torch.Size([16, 3, 224, 224])\n",
      "Labels shape: torch.Size([16])\n"
     ]
    },
    {
     "name": "stderr",
     "output_type": "stream",
     "text": [
      "Training:  35%|███▌      | 280/798 [16:08<31:53,  3.69s/it]"
     ]
    },
    {
     "name": "stdout",
     "output_type": "stream",
     "text": [
      "\n",
      "Batch 280/798\n",
      "Input shape: torch.Size([16, 3, 224, 224])\n",
      "Labels shape: torch.Size([16])\n"
     ]
    },
    {
     "name": "stderr",
     "output_type": "stream",
     "text": [
      "Training:  36%|███▋      | 290/798 [16:42<28:37,  3.38s/it]"
     ]
    },
    {
     "name": "stdout",
     "output_type": "stream",
     "text": [
      "\n",
      "Batch 290/798\n",
      "Input shape: torch.Size([16, 3, 224, 224])\n",
      "Labels shape: torch.Size([16])\n"
     ]
    },
    {
     "name": "stderr",
     "output_type": "stream",
     "text": [
      "Training:  38%|███▊      | 300/798 [17:17<29:26,  3.55s/it]"
     ]
    },
    {
     "name": "stdout",
     "output_type": "stream",
     "text": [
      "\n",
      "Batch 300/798\n",
      "Input shape: torch.Size([16, 3, 224, 224])\n",
      "Labels shape: torch.Size([16])\n"
     ]
    },
    {
     "name": "stderr",
     "output_type": "stream",
     "text": [
      "\rTraining:  38%|███▊      | 301/798 [17:20<29:34,  3.57s/it]"
     ]
    },
    {
     "name": "stdout",
     "output_type": "stream",
     "text": [
      "\n",
      "Batch 300 timing:\n",
      "  Data transfer: 0.000s\n",
      "  Forward pass: 1.669s\n",
      "  Backward pass: 1.927s\n",
      "  Total batch: 3.603s\n",
      "  Loss: 0.6358\n"
     ]
    },
    {
     "name": "stderr",
     "output_type": "stream",
     "text": [
      "Training:  39%|███▉      | 310/798 [17:51<27:38,  3.40s/it]"
     ]
    },
    {
     "name": "stdout",
     "output_type": "stream",
     "text": [
      "\n",
      "Batch 310/798\n",
      "Input shape: torch.Size([16, 3, 224, 224])\n",
      "Labels shape: torch.Size([16])\n"
     ]
    },
    {
     "name": "stderr",
     "output_type": "stream",
     "text": [
      "Training:  40%|████      | 320/798 [18:26<27:02,  3.39s/it]"
     ]
    },
    {
     "name": "stdout",
     "output_type": "stream",
     "text": [
      "\n",
      "Batch 320/798\n",
      "Input shape: torch.Size([16, 3, 224, 224])\n",
      "Labels shape: torch.Size([16])\n"
     ]
    },
    {
     "name": "stderr",
     "output_type": "stream",
     "text": [
      "Training:  41%|████▏     | 330/798 [19:00<26:31,  3.40s/it]"
     ]
    },
    {
     "name": "stdout",
     "output_type": "stream",
     "text": [
      "\n",
      "Batch 330/798\n",
      "Input shape: torch.Size([16, 3, 224, 224])\n",
      "Labels shape: torch.Size([16])\n"
     ]
    },
    {
     "name": "stderr",
     "output_type": "stream",
     "text": [
      "Training:  43%|████▎     | 340/798 [19:34<25:50,  3.38s/it]"
     ]
    },
    {
     "name": "stdout",
     "output_type": "stream",
     "text": [
      "\n",
      "Batch 340/798\n",
      "Input shape: torch.Size([16, 3, 224, 224])\n",
      "Labels shape: torch.Size([16])\n"
     ]
    },
    {
     "name": "stderr",
     "output_type": "stream",
     "text": [
      "Training:  44%|████▍     | 350/798 [20:09<26:55,  3.61s/it]"
     ]
    },
    {
     "name": "stdout",
     "output_type": "stream",
     "text": [
      "\n",
      "Batch 350/798\n",
      "Input shape: torch.Size([16, 3, 224, 224])\n",
      "Labels shape: torch.Size([16])\n"
     ]
    },
    {
     "name": "stderr",
     "output_type": "stream",
     "text": [
      "\rTraining:  44%|████▍     | 351/798 [20:12<25:43,  3.45s/it]"
     ]
    },
    {
     "name": "stdout",
     "output_type": "stream",
     "text": [
      "\n",
      "Batch 350 timing:\n",
      "  Data transfer: 0.000s\n",
      "  Forward pass: 1.214s\n",
      "  Backward pass: 1.872s\n",
      "  Total batch: 3.086s\n",
      "  Loss: 0.7231\n"
     ]
    },
    {
     "name": "stderr",
     "output_type": "stream",
     "text": [
      "Training:  45%|████▌     | 360/798 [20:43<24:35,  3.37s/it]"
     ]
    },
    {
     "name": "stdout",
     "output_type": "stream",
     "text": [
      "\n",
      "Batch 360/798\n",
      "Input shape: torch.Size([16, 3, 224, 224])\n",
      "Labels shape: torch.Size([16])\n"
     ]
    },
    {
     "name": "stderr",
     "output_type": "stream",
     "text": [
      "Training:  46%|████▋     | 370/798 [21:18<25:53,  3.63s/it]"
     ]
    },
    {
     "name": "stdout",
     "output_type": "stream",
     "text": [
      "\n",
      "Batch 370/798\n",
      "Input shape: torch.Size([16, 3, 224, 224])\n",
      "Labels shape: torch.Size([16])\n"
     ]
    },
    {
     "name": "stderr",
     "output_type": "stream",
     "text": [
      "Training:  48%|████▊     | 380/798 [21:52<23:30,  3.38s/it]"
     ]
    },
    {
     "name": "stdout",
     "output_type": "stream",
     "text": [
      "\n",
      "Batch 380/798\n",
      "Input shape: torch.Size([16, 3, 224, 224])\n",
      "Labels shape: torch.Size([16])\n"
     ]
    },
    {
     "name": "stderr",
     "output_type": "stream",
     "text": [
      "Training:  49%|████▉     | 390/798 [22:28<24:41,  3.63s/it]"
     ]
    },
    {
     "name": "stdout",
     "output_type": "stream",
     "text": [
      "\n",
      "Batch 390/798\n",
      "Input shape: torch.Size([16, 3, 224, 224])\n",
      "Labels shape: torch.Size([16])\n"
     ]
    },
    {
     "name": "stderr",
     "output_type": "stream",
     "text": [
      "Training:  50%|█████     | 400/798 [23:02<22:54,  3.45s/it]"
     ]
    },
    {
     "name": "stdout",
     "output_type": "stream",
     "text": [
      "\n",
      "Batch 400/798\n",
      "Input shape: torch.Size([16, 3, 224, 224])\n",
      "Labels shape: torch.Size([16])\n"
     ]
    },
    {
     "name": "stderr",
     "output_type": "stream",
     "text": [
      "\rTraining:  50%|█████     | 401/798 [23:05<22:01,  3.33s/it]"
     ]
    },
    {
     "name": "stdout",
     "output_type": "stream",
     "text": [
      "\n",
      "Batch 400 timing:\n",
      "  Data transfer: 0.000s\n",
      "  Forward pass: 1.148s\n",
      "  Backward pass: 1.880s\n",
      "  Total batch: 3.028s\n",
      "  Loss: 1.0039\n"
     ]
    },
    {
     "name": "stderr",
     "output_type": "stream",
     "text": [
      "Training:  51%|█████▏    | 410/798 [23:37<22:31,  3.48s/it]"
     ]
    },
    {
     "name": "stdout",
     "output_type": "stream",
     "text": [
      "\n",
      "Batch 410/798\n",
      "Input shape: torch.Size([16, 3, 224, 224])\n",
      "Labels shape: torch.Size([16])\n"
     ]
    },
    {
     "name": "stderr",
     "output_type": "stream",
     "text": [
      "Training:  53%|█████▎    | 420/798 [24:11<21:28,  3.41s/it]"
     ]
    },
    {
     "name": "stdout",
     "output_type": "stream",
     "text": [
      "\n",
      "Batch 420/798\n",
      "Input shape: torch.Size([16, 3, 224, 224])\n",
      "Labels shape: torch.Size([16])\n"
     ]
    },
    {
     "name": "stderr",
     "output_type": "stream",
     "text": [
      "Training:  54%|█████▍    | 430/798 [24:45<20:17,  3.31s/it]"
     ]
    },
    {
     "name": "stdout",
     "output_type": "stream",
     "text": [
      "\n",
      "Batch 430/798\n",
      "Input shape: torch.Size([16, 3, 224, 224])\n",
      "Labels shape: torch.Size([16])\n"
     ]
    },
    {
     "name": "stderr",
     "output_type": "stream",
     "text": [
      "Training:  55%|█████▌    | 440/798 [25:20<20:41,  3.47s/it]"
     ]
    },
    {
     "name": "stdout",
     "output_type": "stream",
     "text": [
      "\n",
      "Batch 440/798\n",
      "Input shape: torch.Size([16, 3, 224, 224])\n",
      "Labels shape: torch.Size([16])\n"
     ]
    },
    {
     "name": "stderr",
     "output_type": "stream",
     "text": [
      "Training:  56%|█████▋    | 450/798 [25:53<19:20,  3.33s/it]"
     ]
    },
    {
     "name": "stdout",
     "output_type": "stream",
     "text": [
      "\n",
      "Batch 450/798\n",
      "Input shape: torch.Size([16, 3, 224, 224])\n",
      "Labels shape: torch.Size([16])\n"
     ]
    },
    {
     "name": "stderr",
     "output_type": "stream",
     "text": [
      "\rTraining:  57%|█████▋    | 451/798 [25:57<19:31,  3.38s/it]"
     ]
    },
    {
     "name": "stdout",
     "output_type": "stream",
     "text": [
      "\n",
      "Batch 450 timing:\n",
      "  Data transfer: 0.000s\n",
      "  Forward pass: 1.120s\n",
      "  Backward pass: 2.351s\n",
      "  Total batch: 3.471s\n",
      "  Loss: 0.6286\n"
     ]
    },
    {
     "name": "stderr",
     "output_type": "stream",
     "text": [
      "Training:  58%|█████▊    | 460/798 [26:29<20:21,  3.62s/it]"
     ]
    },
    {
     "name": "stdout",
     "output_type": "stream",
     "text": [
      "\n",
      "Batch 460/798\n",
      "Input shape: torch.Size([16, 3, 224, 224])\n",
      "Labels shape: torch.Size([16])\n"
     ]
    },
    {
     "name": "stderr",
     "output_type": "stream",
     "text": [
      "Training:  59%|█████▉    | 470/798 [27:02<18:54,  3.46s/it]"
     ]
    },
    {
     "name": "stdout",
     "output_type": "stream",
     "text": [
      "\n",
      "Batch 470/798\n",
      "Input shape: torch.Size([16, 3, 224, 224])\n",
      "Labels shape: torch.Size([16])\n"
     ]
    },
    {
     "name": "stderr",
     "output_type": "stream",
     "text": [
      "Training:  60%|██████    | 480/798 [27:37<18:10,  3.43s/it]"
     ]
    },
    {
     "name": "stdout",
     "output_type": "stream",
     "text": [
      "\n",
      "Batch 480/798\n",
      "Input shape: torch.Size([16, 3, 224, 224])\n",
      "Labels shape: torch.Size([16])\n"
     ]
    },
    {
     "name": "stderr",
     "output_type": "stream",
     "text": [
      "Training:  61%|██████▏   | 490/798 [28:11<17:38,  3.44s/it]"
     ]
    },
    {
     "name": "stdout",
     "output_type": "stream",
     "text": [
      "\n",
      "Batch 490/798\n",
      "Input shape: torch.Size([16, 3, 224, 224])\n",
      "Labels shape: torch.Size([16])\n"
     ]
    },
    {
     "name": "stderr",
     "output_type": "stream",
     "text": [
      "Training:  63%|██████▎   | 500/798 [28:44<16:12,  3.26s/it]"
     ]
    },
    {
     "name": "stdout",
     "output_type": "stream",
     "text": [
      "\n",
      "Batch 500/798\n",
      "Input shape: torch.Size([16, 3, 224, 224])\n",
      "Labels shape: torch.Size([16])\n"
     ]
    },
    {
     "name": "stderr",
     "output_type": "stream",
     "text": [
      "\rTraining:  63%|██████▎   | 501/798 [28:47<16:29,  3.33s/it]"
     ]
    },
    {
     "name": "stdout",
     "output_type": "stream",
     "text": [
      "\n",
      "Batch 500 timing:\n",
      "  Data transfer: 0.002s\n",
      "  Forward pass: 1.092s\n",
      "  Backward pass: 2.395s\n",
      "  Total batch: 3.489s\n",
      "  Loss: 0.6312\n"
     ]
    },
    {
     "name": "stderr",
     "output_type": "stream",
     "text": [
      "Training:  64%|██████▍   | 510/798 [29:20<17:21,  3.62s/it]"
     ]
    },
    {
     "name": "stdout",
     "output_type": "stream",
     "text": [
      "\n",
      "Batch 510/798\n",
      "Input shape: torch.Size([16, 3, 224, 224])\n",
      "Labels shape: torch.Size([16])\n"
     ]
    },
    {
     "name": "stderr",
     "output_type": "stream",
     "text": [
      "Training:  65%|██████▌   | 520/798 [29:54<15:29,  3.34s/it]"
     ]
    },
    {
     "name": "stdout",
     "output_type": "stream",
     "text": [
      "\n",
      "Batch 520/798\n",
      "Input shape: torch.Size([16, 3, 224, 224])\n",
      "Labels shape: torch.Size([16])\n"
     ]
    },
    {
     "name": "stderr",
     "output_type": "stream",
     "text": [
      "Training:  66%|██████▋   | 530/798 [30:28<15:25,  3.45s/it]"
     ]
    },
    {
     "name": "stdout",
     "output_type": "stream",
     "text": [
      "\n",
      "Batch 530/798\n",
      "Input shape: torch.Size([16, 3, 224, 224])\n",
      "Labels shape: torch.Size([16])\n"
     ]
    },
    {
     "name": "stderr",
     "output_type": "stream",
     "text": [
      "Training:  68%|██████▊   | 540/798 [31:02<15:04,  3.51s/it]"
     ]
    },
    {
     "name": "stdout",
     "output_type": "stream",
     "text": [
      "\n",
      "Batch 540/798\n",
      "Input shape: torch.Size([16, 3, 224, 224])\n",
      "Labels shape: torch.Size([16])\n"
     ]
    },
    {
     "name": "stderr",
     "output_type": "stream",
     "text": [
      "Training:  69%|██████▉   | 550/798 [31:37<14:12,  3.44s/it]"
     ]
    },
    {
     "name": "stdout",
     "output_type": "stream",
     "text": [
      "\n",
      "Batch 550/798\n",
      "Input shape: torch.Size([16, 3, 224, 224])\n",
      "Labels shape: torch.Size([16])\n"
     ]
    },
    {
     "name": "stderr",
     "output_type": "stream",
     "text": [
      "\rTraining:  69%|██████▉   | 551/798 [31:41<14:53,  3.62s/it]"
     ]
    },
    {
     "name": "stdout",
     "output_type": "stream",
     "text": [
      "\n",
      "Batch 550 timing:\n",
      "  Data transfer: 0.000s\n",
      "  Forward pass: 1.737s\n",
      "  Backward pass: 2.270s\n",
      "  Total batch: 4.007s\n",
      "  Loss: 0.6030\n"
     ]
    },
    {
     "name": "stderr",
     "output_type": "stream",
     "text": [
      "Training:  70%|███████   | 560/798 [32:12<13:49,  3.48s/it]"
     ]
    },
    {
     "name": "stdout",
     "output_type": "stream",
     "text": [
      "\n",
      "Batch 560/798\n",
      "Input shape: torch.Size([16, 3, 224, 224])\n",
      "Labels shape: torch.Size([16])\n"
     ]
    },
    {
     "name": "stderr",
     "output_type": "stream",
     "text": [
      "Training:  71%|███████▏  | 570/798 [32:45<12:24,  3.26s/it]"
     ]
    },
    {
     "name": "stdout",
     "output_type": "stream",
     "text": [
      "\n",
      "Batch 570/798\n",
      "Input shape: torch.Size([16, 3, 224, 224])\n",
      "Labels shape: torch.Size([16])\n"
     ]
    },
    {
     "name": "stderr",
     "output_type": "stream",
     "text": [
      "Training:  73%|███████▎  | 580/798 [33:20<12:42,  3.50s/it]"
     ]
    },
    {
     "name": "stdout",
     "output_type": "stream",
     "text": [
      "\n",
      "Batch 580/798\n",
      "Input shape: torch.Size([16, 3, 224, 224])\n",
      "Labels shape: torch.Size([16])\n"
     ]
    },
    {
     "name": "stderr",
     "output_type": "stream",
     "text": [
      "Training:  74%|███████▍  | 590/798 [33:54<11:46,  3.40s/it]"
     ]
    },
    {
     "name": "stdout",
     "output_type": "stream",
     "text": [
      "\n",
      "Batch 590/798\n",
      "Input shape: torch.Size([16, 3, 224, 224])\n",
      "Labels shape: torch.Size([16])\n"
     ]
    },
    {
     "name": "stderr",
     "output_type": "stream",
     "text": [
      "Training:  75%|███████▌  | 600/798 [34:29<11:52,  3.60s/it]"
     ]
    },
    {
     "name": "stdout",
     "output_type": "stream",
     "text": [
      "\n",
      "Batch 600/798\n",
      "Input shape: torch.Size([16, 3, 224, 224])\n",
      "Labels shape: torch.Size([16])\n"
     ]
    },
    {
     "name": "stderr",
     "output_type": "stream",
     "text": [
      "\rTraining:  75%|███████▌  | 601/798 [34:32<11:22,  3.46s/it]"
     ]
    },
    {
     "name": "stdout",
     "output_type": "stream",
     "text": [
      "\n",
      "Batch 600 timing:\n",
      "  Data transfer: 0.000s\n",
      "  Forward pass: 1.119s\n",
      "  Backward pass: 2.029s\n",
      "  Total batch: 3.148s\n",
      "  Loss: 0.9861\n"
     ]
    },
    {
     "name": "stderr",
     "output_type": "stream",
     "text": [
      "Training:  76%|███████▋  | 610/798 [35:04<10:48,  3.45s/it]"
     ]
    },
    {
     "name": "stdout",
     "output_type": "stream",
     "text": [
      "\n",
      "Batch 610/798\n",
      "Input shape: torch.Size([16, 3, 224, 224])\n",
      "Labels shape: torch.Size([16])\n"
     ]
    },
    {
     "name": "stderr",
     "output_type": "stream",
     "text": [
      "Training:  78%|███████▊  | 620/798 [35:39<10:44,  3.62s/it]"
     ]
    },
    {
     "name": "stdout",
     "output_type": "stream",
     "text": [
      "\n",
      "Batch 620/798\n",
      "Input shape: torch.Size([16, 3, 224, 224])\n",
      "Labels shape: torch.Size([16])\n"
     ]
    },
    {
     "name": "stderr",
     "output_type": "stream",
     "text": [
      "Training:  79%|███████▉  | 630/798 [36:13<09:38,  3.44s/it]"
     ]
    },
    {
     "name": "stdout",
     "output_type": "stream",
     "text": [
      "\n",
      "Batch 630/798\n",
      "Input shape: torch.Size([16, 3, 224, 224])\n",
      "Labels shape: torch.Size([16])\n"
     ]
    },
    {
     "name": "stderr",
     "output_type": "stream",
     "text": [
      "Training:  80%|████████  | 640/798 [36:49<09:40,  3.68s/it]"
     ]
    },
    {
     "name": "stdout",
     "output_type": "stream",
     "text": [
      "\n",
      "Batch 640/798\n",
      "Input shape: torch.Size([16, 3, 224, 224])\n",
      "Labels shape: torch.Size([16])\n"
     ]
    },
    {
     "name": "stderr",
     "output_type": "stream",
     "text": [
      "Training:  81%|████████▏ | 650/798 [37:22<08:26,  3.42s/it]"
     ]
    },
    {
     "name": "stdout",
     "output_type": "stream",
     "text": [
      "\n",
      "Batch 650/798\n",
      "Input shape: torch.Size([16, 3, 224, 224])\n",
      "Labels shape: torch.Size([16])\n"
     ]
    },
    {
     "name": "stderr",
     "output_type": "stream",
     "text": [
      "\rTraining:  82%|████████▏ | 651/798 [37:26<08:13,  3.35s/it]"
     ]
    },
    {
     "name": "stdout",
     "output_type": "stream",
     "text": [
      "\n",
      "Batch 650 timing:\n",
      "  Data transfer: 0.000s\n",
      "  Forward pass: 1.156s\n",
      "  Backward pass: 2.036s\n",
      "  Total batch: 3.191s\n",
      "  Loss: 0.8637\n"
     ]
    },
    {
     "name": "stderr",
     "output_type": "stream",
     "text": [
      "Training:  83%|████████▎ | 660/798 [37:57<07:49,  3.40s/it]"
     ]
    },
    {
     "name": "stdout",
     "output_type": "stream",
     "text": [
      "\n",
      "Batch 660/798\n",
      "Input shape: torch.Size([16, 3, 224, 224])\n",
      "Labels shape: torch.Size([16])\n"
     ]
    },
    {
     "name": "stderr",
     "output_type": "stream",
     "text": [
      "Training:  84%|████████▍ | 670/798 [38:32<07:25,  3.48s/it]"
     ]
    },
    {
     "name": "stdout",
     "output_type": "stream",
     "text": [
      "\n",
      "Batch 670/798\n",
      "Input shape: torch.Size([16, 3, 224, 224])\n",
      "Labels shape: torch.Size([16])\n"
     ]
    },
    {
     "name": "stderr",
     "output_type": "stream",
     "text": [
      "Training:  85%|████████▌ | 680/798 [39:06<06:33,  3.33s/it]"
     ]
    },
    {
     "name": "stdout",
     "output_type": "stream",
     "text": [
      "\n",
      "Batch 680/798\n",
      "Input shape: torch.Size([16, 3, 224, 224])\n",
      "Labels shape: torch.Size([16])\n"
     ]
    },
    {
     "name": "stderr",
     "output_type": "stream",
     "text": [
      "Training:  86%|████████▋ | 690/798 [39:41<06:21,  3.53s/it]"
     ]
    },
    {
     "name": "stdout",
     "output_type": "stream",
     "text": [
      "\n",
      "Batch 690/798\n",
      "Input shape: torch.Size([16, 3, 224, 224])\n",
      "Labels shape: torch.Size([16])\n"
     ]
    },
    {
     "name": "stderr",
     "output_type": "stream",
     "text": [
      "Training:  88%|████████▊ | 700/798 [40:15<05:30,  3.37s/it]"
     ]
    },
    {
     "name": "stdout",
     "output_type": "stream",
     "text": [
      "\n",
      "Batch 700/798\n",
      "Input shape: torch.Size([16, 3, 224, 224])\n",
      "Labels shape: torch.Size([16])\n"
     ]
    },
    {
     "name": "stderr",
     "output_type": "stream",
     "text": [
      "\rTraining:  88%|████████▊ | 701/798 [40:19<05:35,  3.46s/it]"
     ]
    },
    {
     "name": "stdout",
     "output_type": "stream",
     "text": [
      "\n",
      "Batch 700 timing:\n",
      "  Data transfer: 0.000s\n",
      "  Forward pass: 1.170s\n",
      "  Backward pass: 2.462s\n",
      "  Total batch: 3.632s\n",
      "  Loss: 1.1741\n"
     ]
    },
    {
     "name": "stderr",
     "output_type": "stream",
     "text": [
      "Training:  89%|████████▉ | 710/798 [40:51<05:19,  3.63s/it]"
     ]
    },
    {
     "name": "stdout",
     "output_type": "stream",
     "text": [
      "\n",
      "Batch 710/798\n",
      "Input shape: torch.Size([16, 3, 224, 224])\n",
      "Labels shape: torch.Size([16])\n"
     ]
    },
    {
     "name": "stderr",
     "output_type": "stream",
     "text": [
      "Training:  90%|█████████ | 720/798 [41:25<04:25,  3.40s/it]"
     ]
    },
    {
     "name": "stdout",
     "output_type": "stream",
     "text": [
      "\n",
      "Batch 720/798\n",
      "Input shape: torch.Size([16, 3, 224, 224])\n",
      "Labels shape: torch.Size([16])\n"
     ]
    },
    {
     "name": "stderr",
     "output_type": "stream",
     "text": [
      "Training:  91%|█████████▏| 730/798 [42:00<04:06,  3.63s/it]"
     ]
    },
    {
     "name": "stdout",
     "output_type": "stream",
     "text": [
      "\n",
      "Batch 730/798\n",
      "Input shape: torch.Size([16, 3, 224, 224])\n",
      "Labels shape: torch.Size([16])\n"
     ]
    },
    {
     "name": "stderr",
     "output_type": "stream",
     "text": [
      "Training:  93%|█████████▎| 740/798 [42:34<03:15,  3.38s/it]"
     ]
    },
    {
     "name": "stdout",
     "output_type": "stream",
     "text": [
      "\n",
      "Batch 740/798\n",
      "Input shape: torch.Size([16, 3, 224, 224])\n",
      "Labels shape: torch.Size([16])\n"
     ]
    },
    {
     "name": "stderr",
     "output_type": "stream",
     "text": [
      "Training:  94%|█████████▍| 750/798 [43:08<02:41,  3.37s/it]"
     ]
    },
    {
     "name": "stdout",
     "output_type": "stream",
     "text": [
      "\n",
      "Batch 750/798\n",
      "Input shape: torch.Size([16, 3, 224, 224])\n",
      "Labels shape: torch.Size([16])\n"
     ]
    },
    {
     "name": "stderr",
     "output_type": "stream",
     "text": [
      "\rTraining:  94%|█████████▍| 751/798 [43:12<02:49,  3.60s/it]"
     ]
    },
    {
     "name": "stdout",
     "output_type": "stream",
     "text": [
      "\n",
      "Batch 750 timing:\n",
      "  Data transfer: 0.000s\n",
      "  Forward pass: 1.634s\n",
      "  Backward pass: 2.510s\n",
      "  Total batch: 4.145s\n",
      "  Loss: 0.7476\n"
     ]
    },
    {
     "name": "stderr",
     "output_type": "stream",
     "text": [
      "Training:  95%|█████████▌| 760/798 [43:43<02:11,  3.45s/it]"
     ]
    },
    {
     "name": "stdout",
     "output_type": "stream",
     "text": [
      "\n",
      "Batch 760/798\n",
      "Input shape: torch.Size([16, 3, 224, 224])\n",
      "Labels shape: torch.Size([16])\n"
     ]
    },
    {
     "name": "stderr",
     "output_type": "stream",
     "text": [
      "Training:  96%|█████████▋| 770/798 [44:17<01:31,  3.28s/it]"
     ]
    },
    {
     "name": "stdout",
     "output_type": "stream",
     "text": [
      "\n",
      "Batch 770/798\n",
      "Input shape: torch.Size([16, 3, 224, 224])\n",
      "Labels shape: torch.Size([16])\n"
     ]
    },
    {
     "name": "stderr",
     "output_type": "stream",
     "text": [
      "Training:  98%|█████████▊| 780/798 [44:51<01:03,  3.55s/it]"
     ]
    },
    {
     "name": "stdout",
     "output_type": "stream",
     "text": [
      "\n",
      "Batch 780/798\n",
      "Input shape: torch.Size([16, 3, 224, 224])\n",
      "Labels shape: torch.Size([16])\n"
     ]
    },
    {
     "name": "stderr",
     "output_type": "stream",
     "text": [
      "Training:  99%|█████████▉| 790/798 [45:25<00:26,  3.28s/it]"
     ]
    },
    {
     "name": "stdout",
     "output_type": "stream",
     "text": [
      "\n",
      "Batch 790/798\n",
      "Input shape: torch.Size([16, 3, 224, 224])\n",
      "Labels shape: torch.Size([16])\n"
     ]
    },
    {
     "name": "stderr",
     "output_type": "stream",
     "text": [
      "Training: 100%|██████████| 798/798 [45:52<00:00,  3.45s/it]"
     ]
    },
    {
     "name": "stdout",
     "output_type": "stream",
     "text": [
      "\n",
      "Epoch 5 completed in 2752.6 seconds\n",
      "Training Loss: 0.7928\n",
      "Average time per batch: 3.449s\n",
      "Starting validation...\n"
     ]
    },
    {
     "name": "stderr",
     "output_type": "stream",
     "text": [
      "\n"
     ]
    },
    {
     "name": "stdout",
     "output_type": "stream",
     "text": [
      "Validation batch 0/200\n",
      "Validation batch 20/200\n",
      "Validation batch 40/200\n",
      "Validation batch 60/200\n",
      "Validation batch 80/200\n",
      "Validation batch 100/200\n",
      "Validation batch 120/200\n",
      "Validation batch 140/200\n",
      "Validation batch 160/200\n",
      "Validation batch 180/200\n",
      "Validation completed in 172.5 seconds\n",
      "Validation Metrics:\n",
      "              precision    recall  f1-score   support\n",
      "\n",
      "           0      0.565     0.473     0.515       588\n",
      "           1      0.482     0.489     0.486       959\n",
      "           2      0.346     0.372     0.358       659\n",
      "           3      0.431     0.478     0.453       554\n",
      "           4      0.467     0.395     0.428       306\n",
      "           5      0.510     0.587     0.546       126\n",
      "\n",
      "    accuracy                          0.455      3192\n",
      "   macro avg      0.467     0.466     0.464      3192\n",
      "weighted avg      0.460     0.455     0.456      3192\n",
      "\n",
      "Model saved as fitzpatrick_skin_model.pth\n"
     ]
    }
   ],
   "source": [
    "import time\n",
    "import torch\n",
    "import torch.nn as nn\n",
    "import torch.optim as optim\n",
    "from torch.utils.data import DataLoader\n",
    "from torchvision import models, transforms\n",
    "from tqdm import tqdm\n",
    "from sklearn.metrics import classification_report\n",
    "from sklearn.model_selection import train_test_split\n",
    "import pandas as pd\n",
    "import platform\n",
    "\n",
    "\n",
    "def train_model(model, dataloaders, criterion, optimizer, device, num_epochs=10):\n",
    "    print(f\"Starting training with {len(dataloaders['train'])} training batches\")\n",
    "    print(f\"Training dataset size: {len(dataloaders['train'].dataset)}\")\n",
    "    print(f\"Validation dataset size: {len(dataloaders['val'].dataset)}\")\n",
    "\n",
    "    for epoch in range(num_epochs):\n",
    "        print(f\"\\nEpoch {epoch + 1}/{num_epochs}\")\n",
    "        epoch_start_time = time.time()\n",
    "\n",
    "        model.train()\n",
    "        running_loss = 0.0\n",
    "        batch_count = 0\n",
    "\n",
    "        for batch_idx, (inputs, labels) in enumerate(tqdm(dataloaders['train'], desc=\"Training\")):\n",
    "            batch_start_time = time.time()\n",
    "\n",
    "            # This snippet was added for debugging model taking too mch tie so to ensure it is working\n",
    "            if batch_idx % 10 == 0:\n",
    "                print(f\"\\nBatch {batch_idx}/{len(dataloaders['train'])}\")\n",
    "                print(f\"Input shape: {inputs.shape}\")\n",
    "                print(f\"Labels shape: {labels.shape}\")\n",
    "\n",
    "            # Data loading time\n",
    "            data_load_time = time.time()\n",
    "            inputs = inputs.to(device)\n",
    "            labels = labels.to(device)\n",
    "            data_transfer_time = time.time() - data_load_time\n",
    "\n",
    "            # Forward pass time\n",
    "            forward_start = time.time()\n",
    "            optimizer.zero_grad()\n",
    "            outputs = model(inputs)\n",
    "            loss = criterion(outputs, labels)\n",
    "            forward_time = time.time() - forward_start\n",
    "\n",
    "            # Backward pass time\n",
    "            backward_start = time.time()\n",
    "            loss.backward()\n",
    "            optimizer.step()\n",
    "            backward_time = time.time() - backward_start\n",
    "\n",
    "            running_loss += loss.item() * inputs.size(0)\n",
    "            batch_count += 1\n",
    "\n",
    "            total_batch_time = time.time() - batch_start_time\n",
    "\n",
    "            # For helping in debugging\n",
    "            if batch_idx < 5 or batch_idx % 50 == 0:\n",
    "                print(f\"\\nBatch {batch_idx} timing:\")\n",
    "                print(f\"  Data transfer: {data_transfer_time:.3f}s\")\n",
    "                print(f\"  Forward pass: {forward_time:.3f}s\")\n",
    "                print(f\"  Backward pass: {backward_time:.3f}s\")\n",
    "                print(f\"  Total batch: {total_batch_time:.3f}s\")\n",
    "                print(f\"  Loss: {loss.item():.4f}\")\n",
    "\n",
    "\n",
    "        if batch_count > 0:\n",
    "            epoch_loss = running_loss / len(dataloaders['train'].dataset)\n",
    "            epoch_time = time.time() - epoch_start_time\n",
    "            print(f\"\\nEpoch {epoch + 1} completed in {epoch_time:.1f} seconds\")\n",
    "            print(f\"Training Loss: {epoch_loss:.4f}\")\n",
    "            print(f\"Average time per batch: {epoch_time/batch_count:.3f}s\")\n",
    "\n",
    "            # Validation\n",
    "            print(\"Starting validation...\")\n",
    "            val_start_time = time.time()\n",
    "            model.eval()\n",
    "            all_preds = []\n",
    "            all_labels = []\n",
    "\n",
    "            with torch.no_grad():\n",
    "                for val_batch_idx, (inputs, labels) in enumerate(dataloaders['val']):\n",
    "                    if val_batch_idx % 20 == 0:\n",
    "                        print(f\"Validation batch {val_batch_idx}/{len(dataloaders['val'])}\")\n",
    "\n",
    "                    inputs = inputs.to(device)\n",
    "                    labels = labels.to(device)\n",
    "                    outputs = model(inputs)\n",
    "                    _, preds = torch.max(outputs, 1)\n",
    "\n",
    "                    all_preds.extend(preds.cpu().numpy())\n",
    "                    all_labels.extend(labels.cpu().numpy())\n",
    "\n",
    "            val_time = time.time() - val_start_time\n",
    "            print(f\"Validation completed in {val_time:.1f} seconds\")\n",
    "            print(\"Validation Metrics:\")\n",
    "            print(classification_report(all_labels, all_preds, digits=3, zero_division=0))\n",
    "        else:\n",
    "            print(\"Training stopped due to performance issues\")\n",
    "            break\n",
    "\n",
    "    return model\n",
    "\n",
    "def main():\n",
    "    print(\"=== DEBUG INFORMATION ===\")\n",
    "    print(f\"Platform: {platform.system()}\")\n",
    "    print(f\"PyTorch version: {torch.__version__}\")\n",
    "\n",
    "    device = torch.device(\"cuda\" if torch.cuda.is_available() else \"cpu\")\n",
    "    print(f\"Using device: {device}\")\n",
    "\n",
    "    if torch.cuda.is_available():\n",
    "        print(f\"CUDA device: {torch.cuda.get_device_name()}\")\n",
    "        print(f\"CUDA memory: {torch.cuda.get_device_properties(0).total_memory / 1e9:.1f} GB\")\n",
    "\n",
    "    print(\"\\n=== LOADING DATA ===\")\n",
    "    data_start_time = time.time()\n",
    "\n",
    "    df = pd.read_csv(\"fitzpatrick17k.csv\")\n",
    "    df['image_path'] = df['md5hash'].apply(lambda x: f\"images/{x}.jpg\")\n",
    "    df= df[df['image_path'].apply(lambda x: os.path.exists(x))]\n",
    "    print(f\"Total images found: {len(df)}\")\n",
    "\n",
    "    print(f\"Original dataset size: {len(df)}\")\n",
    "\n",
    "    df = df[df['fitzpatrick_scale'].isin([1, 2, 3, 4, 5, 6])]\n",
    "    print(f\"Filtered dataset size: {len(df)}\")\n",
    "    print(f\"Class distribution:\\n{df['fitzpatrick_scale'].value_counts().sort_index()}\")\n",
    "\n",
    "    train_df, val_df = train_test_split(df, test_size=0.2, stratify=df['fitzpatrick_scale'], random_state=42)\n",
    "    print(f\"Train size: {len(train_df)}, Validation size: {len(val_df)}\")\n",
    "\n",
    "    transform = transforms.Compose([\n",
    "        transforms.Resize((224, 224)),\n",
    "        transforms.ToTensor(),\n",
    "        transforms.Normalize([0.5, 0.5, 0.5], [0.5, 0.5, 0.5])\n",
    "    ])\n",
    "\n",
    "    image_dir = \"images\"\n",
    "    print(f\"Image directory: {image_dir}\")\n",
    "\n",
    "    print(\"\\n=== CREATING DATASETS ===\")\n",
    "    dataset_start_time = time.time()\n",
    "\n",
    "    train_dataset = FitzpatrickDataset(train_df, image_dir, transform)\n",
    "    val_dataset = FitzpatrickDataset(val_df, image_dir, transform)\n",
    "\n",
    "    dataset_time = time.time() - dataset_start_time\n",
    "    print(f\"Dataset creation took: {dataset_time:.3f} seconds\")\n",
    "\n",
    "    # Test loading a single sample\n",
    "    print(\"\\n=== TESTING SINGLE SAMPLE ===\")\n",
    "    try:\n",
    "        sample_start = time.time()\n",
    "        sample_data = train_dataset[0]\n",
    "        sample_time = time.time() - sample_start\n",
    "        print(f\"Single sample load time: {sample_time:.3f} seconds\")\n",
    "        print(f\"Sample image shape: {sample_data[0].shape}\")\n",
    "        print(f\"Sample label: {sample_data[1]}\")\n",
    "    except Exception as e:\n",
    "        print(f\"ERROR loading single sample: {e}\")\n",
    "        return\n",
    "\n",
    "    # Adjust num_workers based on platform\n",
    "    num_workers = 0 if platform.system() == \"Windows\" else 2\n",
    "    print(f\"\\nUsing num_workers: {num_workers}\")\n",
    "\n",
    "    # Start with smaller batch size for debugging\n",
    "    batch_size = 16  # Reduced from 32\n",
    "    print(f\"Using batch_size: {batch_size}\")\n",
    "\n",
    "    dataloaders = {\n",
    "        'train': DataLoader(train_dataset, batch_size=batch_size, shuffle=True, num_workers=num_workers),\n",
    "        'val': DataLoader(val_dataset, batch_size=batch_size, shuffle=False, num_workers=num_workers)\n",
    "    }\n",
    "\n",
    "    print(\"\\n=== TESTING DATALOADER ===\")\n",
    "    try:\n",
    "        dataloader_start = time.time()\n",
    "        for i, (inputs, labels) in enumerate(dataloaders['train']):\n",
    "            dataloader_time = time.time() - dataloader_start\n",
    "            print(f\"First batch load time: {dataloader_time:.3f} seconds\")\n",
    "            print(f\"Batch input shape: {inputs.shape}\")\n",
    "            print(f\"Batch labels shape: {labels.shape}\")\n",
    "            break\n",
    "    except Exception as e:\n",
    "        print(f\"ERROR with dataloader: {e}\")\n",
    "        return\n",
    "\n",
    "    print(\"\\n=== CREATING MODEL ===\")\n",
    "    model_start_time = time.time()\n",
    "\n",
    "    model = models.efficientnet_b0(weights=models.EfficientNet_B0_Weights.IMAGENET1K_V1)\n",
    "\n",
    "    num_features = model.classifier[1].in_features\n",
    "    print(f\"Original classifier features: {num_features}\")\n",
    "\n",
    "    model.classifier = nn.Sequential(\n",
    "        nn.Dropout(p=0.2, inplace=True),\n",
    "        nn.Linear(num_features, 6)\n",
    "    )\n",
    "    print(f\"Modified classifier output features: 6\")\n",
    "\n",
    "    model = model.to(device)\n",
    "    model_time = time.time() - model_start_time\n",
    "    print(f\"Model creation and transfer took: {model_time:.3f} seconds\")\n",
    "\n",
    "    criterion = nn.CrossEntropyLoss()\n",
    "    optimizer = optim.Adam(model.parameters(), lr=1e-4)\n",
    "\n",
    "    print(f\"Total parameters: {sum(p.numel() for p in model.parameters()):,}\")\n",
    "    print(f\"Trainable parameters: {sum(p.numel() for p in model.parameters() if p.requires_grad):,}\")\n",
    "\n",
    "    data_time = time.time() - data_start_time\n",
    "    print(f\"\\nTotal setup time: {data_time:.1f} seconds\")\n",
    "\n",
    "    print(\"\\n=== STARTING TRAINING ===\")\n",
    "    model = train_model(model, dataloaders, criterion, optimizer, device, num_epochs=5)\n",
    "\n",
    "    torch.save(model.state_dict(), \"fitzpatrick_skin_model.pth\")\n",
    "    print(\"Model saved as fitzpatrick_skin_model.pth\")\n",
    "\n",
    "\n",
    "if __name__ == \"__main__\":\n",
    "    main()"
   ]
  },
  {
   "cell_type": "code",
   "execution_count": 4,
   "id": "2msXNy4K0lXR",
   "metadata": {
    "executionInfo": {
     "elapsed": 38230,
     "status": "ok",
     "timestamp": 1754377613286,
     "user": {
      "displayName": "ADVI Technical Head",
      "userId": "08542020955051584472"
     },
     "user_tz": -330
    },
    "id": "2msXNy4K0lXR"
   },
   "outputs": [],
   "source": [
    "import zipfile\n",
    "\n",
    "zip_path = \"/content/drive/MyDrive/images2.zip\"\n",
    "extract_path = \"/content\"\n",
    "\n",
    "with zipfile.ZipFile(zip_path, 'r') as zip_ref:\n",
    "    zip_ref.extractall(extract_path)"
   ]
  },
  {
   "cell_type": "code",
   "execution_count": 2,
   "id": "yQoYsvXuHmAM",
   "metadata": {
    "id": "yQoYsvXuHmAM"
   },
   "outputs": [],
   "source": [
    "# THis model is developed using mobilenet to see if acuracy improves\n",
    "\n",
    "import os\n",
    "import pandas as pd\n",
    "import numpy as np\n",
    "from tensorflow.keras.preprocessing.image import ImageDataGenerator, load_img, img_to_array\n",
    "from tensorflow.keras.applications import MobileNetV3Small\n",
    "from tensorflow.keras.applications.mobilenet_v3 import preprocess_input\n",
    "from tensorflow.keras.models import Model\n",
    "from tensorflow.keras.layers import Dense, GlobalAveragePooling2D, Dropout\n",
    "from tensorflow.keras.optimizers import Adam\n",
    "from sklearn.model_selection import train_test_split"
   ]
  },
  {
   "cell_type": "code",
   "execution_count": 10,
   "id": "9AbCrsmyevKu",
   "metadata": {
    "colab": {
     "base_uri": "https://localhost:8080/"
    },
    "executionInfo": {
     "elapsed": 10607,
     "status": "ok",
     "timestamp": 1754377644520,
     "user": {
      "displayName": "ADVI Technical Head",
      "userId": "08542020955051584472"
     },
     "user_tz": -330
    },
    "id": "9AbCrsmyevKu",
    "outputId": "f5c71ffb-f64e-4080-c2b3-c9fc72d3c9c9"
   },
   "outputs": [
    {
     "name": "stdout",
     "output_type": "stream",
     "text": [
      " Total valid images found: 16518\n",
      "\n",
      " Image count per Fitzpatrick scale:\n",
      "Scale 1: 2941 images\n",
      "Scale 2: 4795 images\n",
      "Scale 3: 3294 images\n",
      "Scale 4: 2771 images\n",
      "Scale 5: 1527 images\n",
      "Scale 6: 628 images\n",
      "\n",
      " All valid images copied by scale. Errors: 0\n"
     ]
    }
   ],
   "source": [
    "import pandas as pd\n",
    "import os\n",
    "import shutil\n",
    "from collections import Counter\n",
    "\n",
    "df = pd.read_csv(\"fitzpatrick17k.csv\")\n",
    "\n",
    "df = df[df['fitzpatrick_scale'].notna()]\n",
    "df['fitzpatrick_scale'] = df['fitzpatrick_scale'].astype(int)\n",
    "df['filename'] = df['md5hash'] + '.jpg'\n",
    "df['image_path'] = df['md5hash'].apply(lambda x: os.path.join(\"images\", f\"{x}.jpg\"))\n",
    "\n",
    "df = df[df['image_path'].apply(lambda x: os.path.exists(x))]\n",
    "print(f\" Total valid images found: {len(df)}\")\n",
    "\n",
    "df = df[df['fitzpatrick_scale'].isin([1, 2, 3, 4, 5, 6])]\n",
    "\n",
    "scale_counts = Counter(df['fitzpatrick_scale'])\n",
    "print(\"\\n Image count per Fitzpatrick scale:\")\n",
    "for scale in sorted(scale_counts.keys()):\n",
    "    print(f\"Scale {scale}: {scale_counts[scale]} images\")\n",
    "\n",
    "output_dir = \"images_by_scale\"\n",
    "for scale in range(1, 7):\n",
    "    os.makedirs(os.path.join(output_dir, f\"scale_{scale}\"), exist_ok=True)\n",
    "\n",
    "copy_errors = 0\n",
    "for _, row in df.iterrows():\n",
    "    scale = row['fitzpatrick_scale']\n",
    "    src = row['image_path']\n",
    "    dst = os.path.join(output_dir, f\"scale_{scale}\", row['filename'])\n",
    "\n",
    "    try:\n",
    "        shutil.copy2(src, dst)\n",
    "    except Exception as e:\n",
    "        print(f\" Failed to copy {row['filename']}: {e}\")\n",
    "        copy_errors += 1\n",
    "\n",
    "print(f\"\\n All valid images copied by scale. Errors: {copy_errors}\")\n"
   ]
  },
  {
   "cell_type": "code",
   "execution_count": 2,
   "id": "8XEt2IhxnAj4",
   "metadata": {
    "colab": {
     "base_uri": "https://localhost:8080/"
    },
    "executionInfo": {
     "elapsed": 21334,
     "status": "ok",
     "timestamp": 1754377574152,
     "user": {
      "displayName": "ADVI Technical Head",
      "userId": "08542020955051584472"
     },
     "user_tz": -330
    },
    "id": "8XEt2IhxnAj4",
    "outputId": "e262c355-ba7d-4a8c-bf8a-fe21d54e6ae0"
   },
   "outputs": [
    {
     "name": "stdout",
     "output_type": "stream",
     "text": [
      "Mounted at /content/drive\n"
     ]
    }
   ],
   "source": [
    "from google.colab import drive\n",
    "drive.mount('/content/drive')"
   ]
  },
  {
   "cell_type": "code",
   "execution_count": 11,
   "id": "c6sSlj3m2csp",
   "metadata": {
    "colab": {
     "base_uri": "https://localhost:8080/"
    },
    "executionInfo": {
     "elapsed": 5368,
     "status": "ok",
     "timestamp": 1754377655039,
     "user": {
      "displayName": "ADVI Technical Head",
      "userId": "08542020955051584472"
     },
     "user_tz": -330
    },
    "id": "c6sSlj3m2csp",
    "outputId": "4996d7f9-6e28-45ff-def0-a68f9886809f"
   },
   "outputs": [
    {
     "name": "stderr",
     "output_type": "stream",
     "text": [
      "Copying scale 1 to train:   0%|          | 0/2058 [00:00<?, ?it/s]"
     ]
    },
    {
     "name": "stderr",
     "output_type": "stream",
     "text": [
      "Copying scale 1 to train: 100%|██████████| 2058/2058 [00:26<00:00, 78.25it/s]\n",
      "Copying scale 1 to val: 100%|██████████| 441/441 [00:05<00:00, 83.66it/s]\n",
      "Copying scale 1 to test: 100%|██████████| 442/442 [00:05<00:00, 84.54it/s]\n",
      "Copying scale 2 to train: 100%|██████████| 3356/3356 [00:39<00:00, 84.71it/s]\n",
      "Copying scale 2 to val: 100%|██████████| 719/719 [00:08<00:00, 87.90it/s]\n",
      "Copying scale 2 to test: 100%|██████████| 720/720 [00:08<00:00, 85.56it/s]\n",
      "Copying scale 3 to train: 100%|██████████| 2305/2305 [00:27<00:00, 84.94it/s]\n",
      "Copying scale 3 to val: 100%|██████████| 494/494 [00:05<00:00, 85.11it/s]\n",
      "Copying scale 3 to test: 100%|██████████| 495/495 [00:05<00:00, 83.38it/s]\n",
      "Copying scale 4 to train: 100%|██████████| 1939/1939 [00:22<00:00, 84.47it/s]\n",
      "Copying scale 4 to val: 100%|██████████| 415/415 [00:04<00:00, 86.65it/s]\n",
      "Copying scale 4 to test: 100%|██████████| 417/417 [00:04<00:00, 85.79it/s]\n",
      "Copying scale 5 to train: 100%|██████████| 1068/1068 [00:12<00:00, 83.68it/s]\n",
      "Copying scale 5 to val: 100%|██████████| 229/229 [00:02<00:00, 84.13it/s]\n",
      "Copying scale 5 to test: 100%|██████████| 230/230 [00:02<00:00, 83.76it/s]\n",
      "Copying scale 6 to train: 100%|██████████| 439/439 [00:05<00:00, 87.31it/s]\n",
      "Copying scale 6 to val: 100%|██████████| 94/94 [00:01<00:00, 83.57it/s]\n",
      "Copying scale 6 to test: 100%|██████████| 95/95 [00:01<00:00, 82.87it/s]\n"
     ]
    }
   ],
   "source": [
    "import os\n",
    "import shutil\n",
    "import random\n",
    "from glob import glob\n",
    "from tqdm import tqdm\n",
    "\n",
    "random.seed(42)\n",
    "\n",
    "source_root = 'images_by_scale'\n",
    "output_root = 'dataset'\n",
    "\n",
    "splits = ['train', 'val', 'test']\n",
    "for split in splits:\n",
    "    for scale in range(1, 7):\n",
    "        os.makedirs(os.path.join(output_root, split, f'scale_{scale}'), exist_ok=True)\n",
    "\n",
    "# Split logic: 70% train, 15% val, 15% test\n",
    "for scale in range(1, 7):\n",
    "    class_path = os.path.join(source_root, f'scale_{scale}')\n",
    "    all_images = glob(os.path.join(class_path, '*.jpg'))\n",
    "    random.shuffle(all_images)\n",
    "\n",
    "    n_total = len(all_images)\n",
    "    n_train = int(0.7 * n_total)\n",
    "    n_val = int(0.15 * n_total)\n",
    "\n",
    "    train_imgs = all_images[:n_train]\n",
    "    val_imgs = all_images[n_train:n_train + n_val]\n",
    "    test_imgs = all_images[n_train + n_val:]\n",
    "\n",
    "    for img in tqdm(train_imgs, desc=f'Copying scale {scale} to train'):\n",
    "        shutil.copy2(img, os.path.join(output_root, 'train', f'scale_{scale}'))\n",
    "\n",
    "    for img in tqdm(val_imgs, desc=f'Copying scale {scale} to val'):\n",
    "        shutil.copy2(img, os.path.join(output_root, 'val', f'scale_{scale}'))\n",
    "\n",
    "    for img in tqdm(test_imgs, desc=f'Copying scale {scale} to test'):\n",
    "        shutil.copy2(img, os.path.join(output_root, 'test', f'scale_{scale}'))\n"
   ]
  },
  {
   "cell_type": "code",
   "execution_count": 6,
   "id": "3RLmpvNK6UDX",
   "metadata": {
    "colab": {
     "base_uri": "https://localhost:8080/",
     "height": 515
    },
    "executionInfo": {
     "elapsed": 17858,
     "status": "error",
     "timestamp": 1754377675263,
     "user": {
      "displayName": "ADVI Technical Head",
      "userId": "08542020955051584472"
     },
     "user_tz": -330
    },
    "id": "3RLmpvNK6UDX",
    "outputId": "d82b2cdc-7849-4f95-ecf3-1ff37e9822f7"
   },
   "outputs": [],
   "source": [
    "# import tensorflow as tf\n",
    "# from tensorflow.keras.preprocessing.image import ImageDataGenerator\n",
    "# from tensorflow.keras.applications import MobileNetV2\n",
    "# from tensorflow.keras.models import Model\n",
    "# from tensorflow.keras.layers import GlobalAveragePooling2D, Dense, Dropout\n",
    "# from tensorflow.keras.optimizers import Adam\n",
    "# import os\n",
    "\n",
    "# IMG_SIZE = 224\n",
    "# BATCH_SIZE = 32\n",
    "# NUM_CLASSES = 6\n",
    "# EPOCHS = 30\n",
    "\n",
    "# base_dir = \"dataset\"\n",
    "\n",
    "# train_datagen = ImageDataGenerator(\n",
    "#     rescale=1./255,\n",
    "#     horizontal_flip=True,\n",
    "#     rotation_range=20,\n",
    "#     zoom_range=0.2\n",
    "# )\n",
    "\n",
    "# val_datagen = ImageDataGenerator(rescale=1./255)\n",
    "\n",
    "# train_gen = train_datagen.flow_from_directory(\n",
    "#     os.path.join(base_dir, \"train\"),\n",
    "#     target_size=(IMG_SIZE, IMG_SIZE),\n",
    "#     batch_size=BATCH_SIZE,\n",
    "#     class_mode='categorical'\n",
    "# )\n",
    "\n",
    "# val_gen = val_datagen.flow_from_directory(\n",
    "#     os.path.join(base_dir, \"val\"),\n",
    "#     target_size=(IMG_SIZE, IMG_SIZE),\n",
    "#     batch_size=BATCH_SIZE,\n",
    "#     class_mode='categorical'\n",
    "# )\n",
    "\n",
    "# base_model = MobileNetV2(weights='imagenet', include_top=False, input_shape=(IMG_SIZE, IMG_SIZE, 3))\n",
    "# base_model.trainable = False\n",
    "\n",
    "# x = base_model.output\n",
    "# x = GlobalAveragePooling2D()(x)\n",
    "# x = Dropout(0.3)(x)\n",
    "# output = Dense(NUM_CLASSES, activation='softmax')(x)\n",
    "\n",
    "# model = Model(inputs=base_model.input, outputs=output)\n",
    "\n",
    "# model.compile(\n",
    "#     optimizer=Adam(learning_rate=0.0001),\n",
    "#     loss='categorical_crossentropy',\n",
    "#     metrics=['accuracy']\n",
    "# )\n",
    "\n",
    "# history = model.fit(\n",
    "#     train_gen,\n",
    "#     epochs=EPOCHS,\n",
    "#     validation_data=val_gen\n",
    "# )\n",
    "\n",
    "# model.save(\"mobilenetv2_fitzpatrick_model.h5\")\n"
   ]
  },
  {
   "cell_type": "code",
   "execution_count": 7,
   "id": "jyqyh85zBywi",
   "metadata": {
    "colab": {
     "base_uri": "https://localhost:8080/",
     "height": 211
    },
    "executionInfo": {
     "elapsed": 83,
     "status": "error",
     "timestamp": 1754326597214,
     "user": {
      "displayName": "ADVI Technical Head",
      "userId": "08542020955051584472"
     },
     "user_tz": -330
    },
    "id": "jyqyh85zBywi",
    "outputId": "c75be975-429e-46c5-bcd6-f1e065c36f51"
   },
   "outputs": [],
   "source": [
    "# test_gen = val_datagen.flow_from_directory(\n",
    "#     os.path.join(base_dir, \"test\"),\n",
    "#     target_size=(IMG_SIZE, IMG_SIZE),\n",
    "#     batch_size=BATCH_SIZE,\n",
    "#     class_mode='categorical',\n",
    "#     shuffle=False\n",
    "# )\n",
    "\n",
    "# test_loss, test_acc = model.evaluate(test_gen)\n",
    "# print(f\"Test Accuracy: {test_acc:.4f}\")"
   ]
  },
  {
   "cell_type": "code",
   "execution_count": 12,
   "id": "4ZzSzNO2kF3_",
   "metadata": {
    "colab": {
     "base_uri": "https://localhost:8080/"
    },
    "executionInfo": {
     "elapsed": 13,
     "status": "ok",
     "timestamp": 1754377675926,
     "user": {
      "displayName": "ADVI Technical Head",
      "userId": "08542020955051584472"
     },
     "user_tz": -330
    },
    "id": "4ZzSzNO2kF3_",
    "outputId": "24d73850-2dcb-4047-c460-28bb9a741c5e"
   },
   "outputs": [
    {
     "name": "stdout",
     "output_type": "stream",
     "text": [
      "\n",
      " Distribution in TRAIN folder:\n",
      "  scale_1: 2058 images\n",
      "  scale_2: 3356 images\n",
      "  scale_3: 2305 images\n",
      "  scale_4: 1939 images\n",
      "  scale_5: 1068 images\n",
      "  scale_6: 439 images\n",
      "\n",
      " Distribution in VAL folder:\n",
      "  scale_1: 441 images\n",
      "  scale_2: 719 images\n",
      "  scale_3: 494 images\n",
      "  scale_4: 415 images\n",
      "  scale_5: 229 images\n",
      "  scale_6: 94 images\n",
      "\n",
      " Distribution in TEST folder:\n",
      "  scale_1: 442 images\n",
      "  scale_2: 720 images\n",
      "  scale_3: 495 images\n",
      "  scale_4: 417 images\n",
      "  scale_5: 230 images\n",
      "  scale_6: 95 images\n"
     ]
    }
   ],
   "source": [
    "\n",
    "# Tryng augmentation to see if performance improves\n",
    "import os\n",
    "\n",
    "def count_images_in_dir(dir_path):\n",
    "    class_counts = {}\n",
    "    for class_name in sorted(os.listdir(dir_path)):\n",
    "        class_path = os.path.join(dir_path, class_name)\n",
    "        if os.path.isdir(class_path):\n",
    "            count = len([\n",
    "                f for f in os.listdir(class_path)\n",
    "                if f.lower().endswith(('.jpg', '.jpeg', '.png'))\n",
    "            ])\n",
    "            class_counts[class_name] = count\n",
    "    return class_counts\n",
    "\n",
    "base_dir = 'dataset'\n",
    "splits = ['train', 'val', 'test']\n",
    "\n",
    "for split in splits:\n",
    "    print(f\"\\n Distribution in {split.upper()} folder:\")\n",
    "    counts = count_images_in_dir(os.path.join(base_dir, split))\n",
    "    for cls, count in counts.items():\n",
    "        print(f\"  {cls}: {count} images\")\n"
   ]
  },
  {
   "cell_type": "code",
   "execution_count": 13,
   "id": "WDitGnFVBbMD",
   "metadata": {
    "colab": {
     "base_uri": "https://localhost:8080/"
    },
    "executionInfo": {
     "elapsed": 771772,
     "status": "ok",
     "timestamp": 1754378450375,
     "user": {
      "displayName": "ADVI Technical Head",
      "userId": "08542020955051584472"
     },
     "user_tz": -330
    },
    "id": "WDitGnFVBbMD",
    "outputId": "f0bcc907-c0a5-4840-e3d3-ef352b5121d0"
   },
   "outputs": [
    {
     "name": "stdout",
     "output_type": "stream",
     "text": [
      "\n",
      " Augmenting scale_1: 2058 ➝ 3356 (need 1298)\n",
      "\n",
      " Augmenting scale_2: 3356 ➝ 3356 (need 0)\n",
      "\n",
      " Augmenting scale_3: 2305 ➝ 3356 (need 1051)\n",
      "\n",
      " Augmenting scale_4: 1939 ➝ 3356 (need 1417)\n",
      "\n",
      " Augmenting scale_5: 1068 ➝ 3356 (need 2288)\n",
      "\n",
      " Augmenting scale_6: 439 ➝ 3356 (need 2917)\n"
     ]
    }
   ],
   "source": [
    "import os\n",
    "from tensorflow.keras.preprocessing.image import ImageDataGenerator, img_to_array, load_img, array_to_img\n",
    "import numpy as np\n",
    "from tqdm import tqdm\n",
    "\n",
    "train_dir = 'dataset/train'\n",
    "target_count = 3356  # Match to scale_2 count\n",
    "\n",
    "augmentor = ImageDataGenerator(\n",
    "    rotation_range=20,\n",
    "    zoom_range=0.2,\n",
    "    horizontal_flip=True,\n",
    "    brightness_range=[0.8, 1.2],\n",
    "    fill_mode='nearest'\n",
    ")\n",
    "\n",
    "for scale in sorted(os.listdir(train_dir)):\n",
    "    scale_path = os.path.join(train_dir, scale)\n",
    "    images = [\n",
    "        os.path.join(scale_path, f)\n",
    "        for f in os.listdir(scale_path)\n",
    "        if f.lower().endswith(('.jpg', '.jpeg', '.png'))\n",
    "    ]\n",
    "\n",
    "    current_count = len(images)\n",
    "    needed = target_count - current_count\n",
    "    print(f\"\\n Augmenting {scale}: {current_count} ➝ {target_count} (need {needed})\")\n",
    "\n",
    "    if needed <= 0:\n",
    "        continue\n",
    "\n",
    "    i = 0\n",
    "    while i < needed:\n",
    "        img_path = random.choice(images)\n",
    "        img = load_img(img_path)\n",
    "        x = img_to_array(img)\n",
    "        x = np.expand_dims(x, axis=0)\n",
    "\n",
    "        aug_iter = augmentor.flow(x, batch_size=1)\n",
    "        for _ in range(min(needed - i, 1)):\n",
    "            aug_img = next(aug_iter)[0].astype('uint8')\n",
    "            new_img = array_to_img(aug_img)\n",
    "            new_img_path = os.path.join(scale_path, f\"aug_{i:04d}.jpg\")\n",
    "            new_img.save(new_img_path)\n",
    "            i += 1\n"
   ]
  },
  {
   "cell_type": "code",
   "execution_count": 14,
   "id": "TbBrgZ1_EB68",
   "metadata": {
    "colab": {
     "base_uri": "https://localhost:8080/"
    },
    "executionInfo": {
     "elapsed": 199093,
     "status": "ok",
     "timestamp": 1754378649450,
     "user": {
      "displayName": "ADVI Technical Head",
      "userId": "08542020955051584472"
     },
     "user_tz": -330
    },
    "id": "TbBrgZ1_EB68",
    "outputId": "6258e21e-35d8-405f-f98f-d5ab98a78575"
   },
   "outputs": [
    {
     "name": "stdout",
     "output_type": "stream",
     "text": [
      "\n",
      " Augmenting scale_1: 441 ➝ 719 (need 278)\n",
      "\n",
      " Augmenting scale_2: 719 ➝ 719 (need 0)\n",
      "\n",
      " Augmenting scale_3: 494 ➝ 719 (need 225)\n",
      "\n",
      " Augmenting scale_4: 415 ➝ 719 (need 304)\n",
      "\n",
      " Augmenting scale_5: 229 ➝ 719 (need 490)\n",
      "\n",
      " Augmenting scale_6: 94 ➝ 719 (need 625)\n"
     ]
    }
   ],
   "source": [
    "import os\n",
    "from tensorflow.keras.preprocessing.image import ImageDataGenerator, img_to_array, load_img, array_to_img\n",
    "import numpy as np\n",
    "from tqdm import tqdm\n",
    "\n",
    "train_dir = 'dataset/val'\n",
    "target_count = 719\n",
    "\n",
    "augmentor = ImageDataGenerator(\n",
    "    rotation_range=20,\n",
    "    zoom_range=0.2,\n",
    "    horizontal_flip=True,\n",
    "    brightness_range=[0.8, 1.2],\n",
    "    fill_mode='nearest'\n",
    ")\n",
    "\n",
    "for scale in sorted(os.listdir(train_dir)):\n",
    "    scale_path = os.path.join(train_dir, scale)\n",
    "    images = [\n",
    "        os.path.join(scale_path, f)\n",
    "        for f in os.listdir(scale_path)\n",
    "        if f.lower().endswith(('.jpg', '.jpeg', '.png'))\n",
    "    ]\n",
    "\n",
    "    current_count = len(images)\n",
    "    needed = target_count - current_count\n",
    "    print(f\"\\n Augmenting {scale}: {current_count} ➝ {target_count} (need {needed})\")\n",
    "\n",
    "    if needed <= 0:\n",
    "        continue\n",
    "\n",
    "    i = 0\n",
    "    while i < needed:\n",
    "        img_path = random.choice(images)\n",
    "        img = load_img(img_path)\n",
    "        x = img_to_array(img)\n",
    "        x = np.expand_dims(x, axis=0)\n",
    "\n",
    "        aug_iter = augmentor.flow(x, batch_size=1)\n",
    "        for _ in range(min(needed - i, 1)):\n",
    "            aug_img = next(aug_iter)[0].astype('uint8')\n",
    "            new_img = array_to_img(aug_img)\n",
    "            new_img_path = os.path.join(scale_path, f\"aug_{i:04d}.jpg\")\n",
    "            new_img.save(new_img_path)\n",
    "            i += 1\n"
   ]
  },
  {
   "cell_type": "code",
   "execution_count": 15,
   "id": "eNZ7m13jBin9",
   "metadata": {
    "colab": {
     "base_uri": "https://localhost:8080/"
    },
    "executionInfo": {
     "elapsed": 67,
     "status": "ok",
     "timestamp": 1754378649451,
     "user": {
      "displayName": "ADVI Technical Head",
      "userId": "08542020955051584472"
     },
     "user_tz": -330
    },
    "id": "eNZ7m13jBin9",
    "outputId": "dfe3738d-1c86-41ee-a3b7-75db95928c19"
   },
   "outputs": [
    {
     "name": "stdout",
     "output_type": "stream",
     "text": [
      "\n",
      " Distribution in TRAIN folder:\n",
      "  scale_1: 3356 images\n",
      "  scale_2: 3356 images\n",
      "  scale_3: 3356 images\n",
      "  scale_4: 3356 images\n",
      "  scale_5: 3356 images\n",
      "  scale_6: 3356 images\n",
      "\n",
      " Distribution in VAL folder:\n",
      "  scale_1: 719 images\n",
      "  scale_2: 719 images\n",
      "  scale_3: 719 images\n",
      "  scale_4: 719 images\n",
      "  scale_5: 719 images\n",
      "  scale_6: 719 images\n",
      "\n",
      " Distribution in TEST folder:\n",
      "  scale_1: 442 images\n",
      "  scale_2: 720 images\n",
      "  scale_3: 495 images\n",
      "  scale_4: 417 images\n",
      "  scale_5: 230 images\n",
      "  scale_6: 95 images\n"
     ]
    }
   ],
   "source": [
    "import os\n",
    "\n",
    "def count_images_in_dir(dir_path):\n",
    "    class_counts = {}\n",
    "    for class_name in sorted(os.listdir(dir_path)):\n",
    "        class_path = os.path.join(dir_path, class_name)\n",
    "        if os.path.isdir(class_path):\n",
    "            count = len([\n",
    "                f for f in os.listdir(class_path)\n",
    "                if f.lower().endswith(('.jpg', '.jpeg', '.png'))\n",
    "            ])\n",
    "            class_counts[class_name] = count\n",
    "    return class_counts\n",
    "\n",
    "base_dir = 'dataset'\n",
    "splits = ['train', 'val', 'test']\n",
    "\n",
    "for split in splits:\n",
    "    print(f\"\\n Distribution in {split.upper()} folder:\")\n",
    "    counts = count_images_in_dir(os.path.join(base_dir, split))\n",
    "    for cls, count in counts.items():\n",
    "        print(f\"  {cls}: {count} images\")\n"
   ]
  },
  {
   "cell_type": "code",
   "execution_count": 18,
   "id": "ISWnwRmsB6yR",
   "metadata": {
    "colab": {
     "base_uri": "https://localhost:8080/"
    },
    "id": "ISWnwRmsB6yR",
    "outputId": "919545da-0349-4b91-8b3f-1252759ba5c4"
   },
   "outputs": [
    {
     "name": "stdout",
     "output_type": "stream",
     "text": [
      "Found 20136 images belonging to 6 classes.\n",
      "Found 4314 images belonging to 6 classes.\n",
      "Epoch 1/50\n",
      "630/630 [==============================] - ETA: 0s - loss: 1.6015 - accuracy: 0.3052\n",
      "Epoch 1: val_accuracy improved from -inf to 0.39036, saving model to mobilenetv2_fitzpatrick_best2.h5\n",
      "630/630 [==============================] - 266s 419ms/step - loss: 1.6015 - accuracy: 0.3052 - val_loss: 1.4498 - val_accuracy: 0.3904\n",
      "Epoch 2/50\n",
      "630/630 [==============================] - ETA: 0s - loss: 1.4857 - accuracy: 0.3507\n",
      "Epoch 2: val_accuracy improved from 0.39036 to 0.39685, saving model to mobilenetv2_fitzpatrick_best2.h5\n",
      "630/630 [==============================] - 275s 436ms/step - loss: 1.4857 - accuracy: 0.3507 - val_loss: 1.4417 - val_accuracy: 0.3968\n",
      "Epoch 3/50\n",
      "630/630 [==============================] - ETA: 0s - loss: 1.4558 - accuracy: 0.3683\n",
      "Epoch 3: val_accuracy improved from 0.39685 to 0.40125, saving model to mobilenetv2_fitzpatrick_best2.h5\n",
      "630/630 [==============================] - 308s 489ms/step - loss: 1.4558 - accuracy: 0.3683 - val_loss: 1.4130 - val_accuracy: 0.4013\n",
      "Epoch 4/50\n",
      "630/630 [==============================] - ETA: 0s - loss: 1.4309 - accuracy: 0.3754\n",
      "Epoch 4: val_accuracy improved from 0.40125 to 0.41168, saving model to mobilenetv2_fitzpatrick_best2.h5\n",
      "630/630 [==============================] - 310s 492ms/step - loss: 1.4309 - accuracy: 0.3754 - val_loss: 1.4101 - val_accuracy: 0.4117\n",
      "Epoch 5/50\n",
      "630/630 [==============================] - ETA: 0s - loss: 1.4084 - accuracy: 0.3865\n",
      "Epoch 5: val_accuracy did not improve from 0.41168\n",
      "630/630 [==============================] - 304s 483ms/step - loss: 1.4084 - accuracy: 0.3865 - val_loss: 1.4231 - val_accuracy: 0.3959\n",
      "Epoch 6/50\n",
      "630/630 [==============================] - ETA: 0s - loss: 1.3929 - accuracy: 0.3963\n",
      "Epoch 6: val_accuracy did not improve from 0.41168\n",
      "630/630 [==============================] - 305s 484ms/step - loss: 1.3929 - accuracy: 0.3963 - val_loss: 1.4516 - val_accuracy: 0.3732\n",
      "Epoch 7/50\n",
      "630/630 [==============================] - ETA: 0s - loss: 1.3871 - accuracy: 0.4009\n",
      "Epoch 7: val_accuracy did not improve from 0.41168\n",
      "630/630 [==============================] - 305s 484ms/step - loss: 1.3871 - accuracy: 0.4009 - val_loss: 1.4242 - val_accuracy: 0.3885\n",
      "Epoch 8/50\n",
      "630/630 [==============================] - ETA: 0s - loss: 1.3733 - accuracy: 0.4039\n",
      "Epoch 8: val_accuracy did not improve from 0.41168\n",
      "630/630 [==============================] - 248s 393ms/step - loss: 1.3733 - accuracy: 0.4039 - val_loss: 1.4512 - val_accuracy: 0.3857\n",
      "Epoch 9/50\n",
      "630/630 [==============================] - ETA: 0s - loss: 1.3654 - accuracy: 0.4075\n",
      "Epoch 9: val_accuracy did not improve from 0.41168\n",
      "630/630 [==============================] - 245s 389ms/step - loss: 1.3654 - accuracy: 0.4075 - val_loss: 1.4214 - val_accuracy: 0.3962\n",
      "Epoch 10/50\n",
      "630/630 [==============================] - ETA: 0s - loss: 1.3588 - accuracy: 0.4137\n",
      "Epoch 10: val_accuracy did not improve from 0.41168\n",
      "630/630 [==============================] - 282s 447ms/step - loss: 1.3588 - accuracy: 0.4137 - val_loss: 1.4204 - val_accuracy: 0.3964\n",
      "Epoch 11/50\n",
      "630/630 [==============================] - ETA: 0s - loss: 1.3438 - accuracy: 0.4191\n",
      "Epoch 11: val_accuracy did not improve from 0.41168\n",
      "630/630 [==============================] - 286s 454ms/step - loss: 1.3438 - accuracy: 0.4191 - val_loss: 1.4422 - val_accuracy: 0.3899\n",
      "Epoch 12/50\n",
      "630/630 [==============================] - ETA: 0s - loss: 1.3498 - accuracy: 0.4157\n",
      "Epoch 12: val_accuracy did not improve from 0.41168\n",
      "630/630 [==============================] - 287s 455ms/step - loss: 1.3498 - accuracy: 0.4157 - val_loss: 1.4362 - val_accuracy: 0.3855\n",
      "Epoch 13/50\n",
      "630/630 [==============================] - ETA: 0s - loss: 1.3353 - accuracy: 0.4222\n",
      "Epoch 13: val_accuracy improved from 0.41168 to 0.41191, saving model to mobilenetv2_fitzpatrick_best2.h5\n",
      "630/630 [==============================] - 283s 450ms/step - loss: 1.3353 - accuracy: 0.4222 - val_loss: 1.4260 - val_accuracy: 0.4119\n",
      "Epoch 14/50\n",
      "630/630 [==============================] - ETA: 0s - loss: 1.3331 - accuracy: 0.4266\n",
      "Epoch 14: val_accuracy did not improve from 0.41191\n",
      "630/630 [==============================] - 284s 450ms/step - loss: 1.3331 - accuracy: 0.4266 - val_loss: 1.4399 - val_accuracy: 0.3792\n",
      "Epoch 15/50\n",
      "630/630 [==============================] - ETA: 0s - loss: 1.3186 - accuracy: 0.4258\n",
      "Epoch 15: val_accuracy did not improve from 0.41191\n",
      "630/630 [==============================] - 282s 448ms/step - loss: 1.3186 - accuracy: 0.4258 - val_loss: 1.4446 - val_accuracy: 0.3985\n",
      "Epoch 16/50\n",
      "630/630 [==============================] - ETA: 0s - loss: 1.3186 - accuracy: 0.4295\n",
      "Epoch 16: val_accuracy did not improve from 0.41191\n",
      "630/630 [==============================] - 279s 442ms/step - loss: 1.3186 - accuracy: 0.4295 - val_loss: 1.4303 - val_accuracy: 0.4001\n",
      "Epoch 17/50\n",
      "630/630 [==============================] - ETA: 0s - loss: 1.3239 - accuracy: 0.4310\n",
      "Epoch 17: val_accuracy did not improve from 0.41191\n",
      "630/630 [==============================] - 286s 454ms/step - loss: 1.3239 - accuracy: 0.4310 - val_loss: 1.4629 - val_accuracy: 0.3713\n",
      "Epoch 18/50\n",
      "630/630 [==============================] - ETA: 0s - loss: 1.3144 - accuracy: 0.4335\n",
      "Epoch 18: val_accuracy did not improve from 0.41191\n",
      "630/630 [==============================] - 294s 467ms/step - loss: 1.3144 - accuracy: 0.4335 - val_loss: 1.4537 - val_accuracy: 0.3899\n",
      "Epoch 19/50\n",
      "630/630 [==============================] - ETA: 0s - loss: 1.3021 - accuracy: 0.4392\n",
      "Epoch 19: val_accuracy did not improve from 0.41191\n",
      "630/630 [==============================] - 291s 461ms/step - loss: 1.3021 - accuracy: 0.4392 - val_loss: 1.4523 - val_accuracy: 0.3850\n",
      "Epoch 20/50\n",
      "630/630 [==============================] - ETA: 0s - loss: 1.2995 - accuracy: 0.4445\n",
      "Epoch 20: val_accuracy did not improve from 0.41191\n",
      "630/630 [==============================] - 288s 457ms/step - loss: 1.2995 - accuracy: 0.4445 - val_loss: 1.4628 - val_accuracy: 0.3917\n",
      "Epoch 21/50\n",
      "630/630 [==============================] - ETA: 0s - loss: 1.2963 - accuracy: 0.4452\n",
      "Epoch 21: val_accuracy did not improve from 0.41191\n",
      "630/630 [==============================] - 287s 455ms/step - loss: 1.2963 - accuracy: 0.4452 - val_loss: 1.4549 - val_accuracy: 0.3753\n",
      "Epoch 22/50\n",
      "630/630 [==============================] - ETA: 0s - loss: 1.2920 - accuracy: 0.4462\n",
      "Epoch 22: val_accuracy did not improve from 0.41191\n",
      "630/630 [==============================] - 246s 391ms/step - loss: 1.2920 - accuracy: 0.4462 - val_loss: 1.4730 - val_accuracy: 0.3955\n",
      "Epoch 23/50\n",
      "630/630 [==============================] - ETA: 0s - loss: 1.2870 - accuracy: 0.4437Restoring model weights from the end of the best epoch: 13.\n",
      "\n",
      "Epoch 23: val_accuracy did not improve from 0.41191\n",
      "630/630 [==============================] - 236s 374ms/step - loss: 1.2870 - accuracy: 0.4437 - val_loss: 1.4345 - val_accuracy: 0.3792\n",
      "Epoch 23: early stopping\n"
     ]
    }
   ],
   "source": [
    "import tensorflow as tf\n",
    "from tensorflow.keras.preprocessing.image import ImageDataGenerator\n",
    "from tensorflow.keras.applications import MobileNetV2\n",
    "from tensorflow.keras.models import Model\n",
    "from tensorflow.keras.layers import GlobalAveragePooling2D, Dense, Dropout\n",
    "from tensorflow.keras.optimizers import Adam\n",
    "from tensorflow.keras.callbacks import EarlyStopping, ModelCheckpoint\n",
    "import os\n",
    "\n",
    "IMG_SIZE = 224\n",
    "BATCH_SIZE = 32\n",
    "NUM_CLASSES = 6\n",
    "EPOCHS = 50\n",
    "\n",
    "base_dir = \"dataset\"\n",
    "\n",
    "\n",
    "train_datagen = ImageDataGenerator(\n",
    "    rescale=1./255,\n",
    "    horizontal_flip=True,\n",
    "    rotation_range=20,\n",
    "    zoom_range=0.2,\n",
    "    width_shift_range=0.2,      \n",
    "    height_shift_range=0.2,\n",
    ")\n",
    "\n",
    "val_datagen = ImageDataGenerator(rescale=1./255)\n",
    "\n",
    "train_gen = train_datagen.flow_from_directory(\n",
    "    os.path.join(base_dir, \"train\"),\n",
    "    target_size=(IMG_SIZE, IMG_SIZE),\n",
    "    batch_size=BATCH_SIZE,\n",
    "    class_mode='categorical'\n",
    ")\n",
    "\n",
    "val_gen = val_datagen.flow_from_directory(\n",
    "    os.path.join(base_dir, \"val\"),\n",
    "    target_size=(IMG_SIZE, IMG_SIZE),\n",
    "    batch_size=BATCH_SIZE,\n",
    "    class_mode='categorical'\n",
    ")\n",
    "\n",
    "# Model\n",
    "base_model = MobileNetV2(weights='imagenet', include_top=False, input_shape=(IMG_SIZE, IMG_SIZE, 3))\n",
    "base_model.trainable = False  # Freeze base\n",
    "\n",
    "# x = base_model.output\n",
    "# x = GlobalAveragePooling2D()(x)\n",
    "# x = Dropout(0.5)(x)\n",
    "# output = Dense(NUM_CLASSES, activation='softmax')(x)\n",
    "\n",
    "# adding more layers\n",
    "x = base_model.output\n",
    "x = GlobalAveragePooling2D()(x)\n",
    "x = Dense(256, activation='relu')(x)\n",
    "x = Dropout(0.5)(x)\n",
    "x = Dense(128, activation='relu')(x)\n",
    "x = Dropout(0.3)(x)\n",
    "\n",
    "output = Dense(NUM_CLASSES, activation='softmax')(x)\n",
    "model = Model(inputs=base_model.input, outputs=output)\n",
    "model.compile(\n",
    "    optimizer=Adam(learning_rate=0.001),\n",
    "    loss='categorical_crossentropy',\n",
    "    metrics=['accuracy']\n",
    ")\n",
    "\n",
    "callbacks = [\n",
    "    EarlyStopping(\n",
    "        monitor='val_accuracy',\n",
    "        patience=10,\n",
    "        restore_best_weights=True,\n",
    "        verbose=1\n",
    "    ),\n",
    "    ModelCheckpoint(\n",
    "        \"mobilenetv2_fitzpatrick_best2.h5\",\n",
    "        monitor='val_accuracy',\n",
    "        save_best_only=True,\n",
    "        verbose=1\n",
    "    )\n",
    "]\n",
    "\n",
    "history = model.fit(\n",
    "    train_gen,\n",
    "    epochs=EPOCHS,\n",
    "    validation_data=val_gen,\n",
    "    callbacks=callbacks\n",
    ")\n",
    "\n",
    "model.save(\"mobilenetv2_fitzpatrick_final2.h5\")\n"
   ]
  },
  {
   "cell_type": "code",
   "execution_count": 20,
   "id": "XMiihJaeB7AL",
   "metadata": {
    "id": "XMiihJaeB7AL"
   },
   "outputs": [
    {
     "name": "stdout",
     "output_type": "stream",
     "text": [
      "Found 20136 images belonging to 6 classes.\n",
      "Found 4314 images belonging to 6 classes.\n",
      "Epoch 1/50\n",
      "403/403 [==============================] - ETA: 0s - loss: 1.6674 - accuracy: 0.2694\n",
      "Epoch 1: val_accuracy improved from -inf to 0.33380, saving model to mobilenetv2_fitzpatrick_best2.h5\n",
      "403/403 [==============================] - 274s 675ms/step - loss: 1.6674 - accuracy: 0.2694 - val_loss: 1.5397 - val_accuracy: 0.3338\n",
      "Epoch 2/50\n",
      "403/403 [==============================] - ETA: 0s - loss: 1.5476 - accuracy: 0.3140\n",
      "Epoch 2: val_accuracy improved from 0.33380 to 0.36602, saving model to mobilenetv2_fitzpatrick_best2.h5\n",
      "403/403 [==============================] - 282s 698ms/step - loss: 1.5476 - accuracy: 0.3140 - val_loss: 1.4876 - val_accuracy: 0.3660\n",
      "Epoch 3/50\n",
      "403/403 [==============================] - ETA: 0s - loss: 1.5057 - accuracy: 0.3363\n",
      "Epoch 3: val_accuracy did not improve from 0.36602\n",
      "403/403 [==============================] - 257s 638ms/step - loss: 1.5057 - accuracy: 0.3363 - val_loss: 1.4799 - val_accuracy: 0.3611\n",
      "Epoch 4/50\n",
      "403/403 [==============================] - ETA: 0s - loss: 1.4793 - accuracy: 0.3538\n",
      "Epoch 4: val_accuracy improved from 0.36602 to 0.39546, saving model to mobilenetv2_fitzpatrick_best2.h5\n",
      "403/403 [==============================] - 242s 600ms/step - loss: 1.4793 - accuracy: 0.3538 - val_loss: 1.4458 - val_accuracy: 0.3955\n",
      "Epoch 5/50\n",
      "403/403 [==============================] - ETA: 0s - loss: 1.4673 - accuracy: 0.3625\n",
      "Epoch 5: val_accuracy did not improve from 0.39546\n",
      "403/403 [==============================] - 252s 625ms/step - loss: 1.4673 - accuracy: 0.3625 - val_loss: 1.4663 - val_accuracy: 0.3917\n",
      "Epoch 6/50\n",
      "403/403 [==============================] - ETA: 0s - loss: 1.4482 - accuracy: 0.3747\n",
      "Epoch 6: val_accuracy did not improve from 0.39546\n",
      "403/403 [==============================] - 256s 635ms/step - loss: 1.4482 - accuracy: 0.3747 - val_loss: 1.4556 - val_accuracy: 0.3887\n",
      "Epoch 7/50\n",
      "403/403 [==============================] - ETA: 0s - loss: 1.4404 - accuracy: 0.3645\n",
      "Epoch 7: val_accuracy did not improve from 0.39546\n",
      "403/403 [==============================] - 259s 644ms/step - loss: 1.4404 - accuracy: 0.3645 - val_loss: 1.4519 - val_accuracy: 0.3873\n",
      "Epoch 8/50\n",
      "403/403 [==============================] - ETA: 0s - loss: 1.4301 - accuracy: 0.3782\n",
      "Epoch 8: val_accuracy did not improve from 0.39546\n",
      "403/403 [==============================] - 262s 650ms/step - loss: 1.4301 - accuracy: 0.3782 - val_loss: 1.4487 - val_accuracy: 0.3813\n",
      "Epoch 9/50\n",
      "403/403 [==============================] - ETA: 0s - loss: 1.4247 - accuracy: 0.3823\n",
      "Epoch 9: val_accuracy did not improve from 0.39546\n",
      "403/403 [==============================] - 264s 655ms/step - loss: 1.4247 - accuracy: 0.3823 - val_loss: 1.4695 - val_accuracy: 0.3885\n",
      "Epoch 10/50\n",
      "403/403 [==============================] - ETA: 0s - loss: 1.4138 - accuracy: 0.3847\n",
      "Epoch 10: val_accuracy did not improve from 0.39546\n",
      "403/403 [==============================] - 265s 656ms/step - loss: 1.4138 - accuracy: 0.3847 - val_loss: 1.4622 - val_accuracy: 0.3707\n",
      "Epoch 11/50\n",
      "403/403 [==============================] - ETA: 0s - loss: 1.4085 - accuracy: 0.3888\n",
      "Epoch 11: val_accuracy did not improve from 0.39546\n",
      "403/403 [==============================] - 258s 641ms/step - loss: 1.4085 - accuracy: 0.3888 - val_loss: 1.4544 - val_accuracy: 0.3820\n",
      "Epoch 12/50\n",
      "403/403 [==============================] - ETA: 0s - loss: 1.4007 - accuracy: 0.3937\n",
      "Epoch 12: val_accuracy improved from 0.39546 to 0.39708, saving model to mobilenetv2_fitzpatrick_best2.h5\n",
      "403/403 [==============================] - 340s 844ms/step - loss: 1.4007 - accuracy: 0.3937 - val_loss: 1.4272 - val_accuracy: 0.3971\n",
      "Epoch 13/50\n",
      "403/403 [==============================] - ETA: 0s - loss: 1.4027 - accuracy: 0.3910\n",
      "Epoch 13: val_accuracy did not improve from 0.39708\n",
      "403/403 [==============================] - 366s 909ms/step - loss: 1.4027 - accuracy: 0.3910 - val_loss: 1.4479 - val_accuracy: 0.3927\n",
      "Epoch 14/50\n",
      "403/403 [==============================] - ETA: 0s - loss: 1.3965 - accuracy: 0.3955\n",
      "Epoch 14: val_accuracy did not improve from 0.39708\n",
      "403/403 [==============================] - 237s 588ms/step - loss: 1.3965 - accuracy: 0.3955 - val_loss: 1.4339 - val_accuracy: 0.3915\n",
      "Epoch 15/50\n",
      "403/403 [==============================] - ETA: 0s - loss: 1.3875 - accuracy: 0.4008\n",
      "Epoch 15: val_accuracy did not improve from 0.39708\n",
      "403/403 [==============================] - 277s 686ms/step - loss: 1.3875 - accuracy: 0.4008 - val_loss: 1.4461 - val_accuracy: 0.3774\n",
      "Epoch 16/50\n",
      "403/403 [==============================] - ETA: 0s - loss: 1.3779 - accuracy: 0.4024\n",
      "Epoch 16: val_accuracy did not improve from 0.39708\n",
      "403/403 [==============================] - 278s 688ms/step - loss: 1.3779 - accuracy: 0.4024 - val_loss: 1.4679 - val_accuracy: 0.3697\n",
      "Epoch 17/50\n",
      "403/403 [==============================] - ETA: 0s - loss: 1.3824 - accuracy: 0.4037\n",
      "Epoch 17: val_accuracy did not improve from 0.39708\n",
      "403/403 [==============================] - 279s 691ms/step - loss: 1.3824 - accuracy: 0.4037 - val_loss: 1.4497 - val_accuracy: 0.3943\n",
      "Epoch 18/50\n",
      "403/403 [==============================] - ETA: 0s - loss: 1.3780 - accuracy: 0.4024\n",
      "Epoch 18: val_accuracy did not improve from 0.39708\n",
      "403/403 [==============================] - 234s 580ms/step - loss: 1.3780 - accuracy: 0.4024 - val_loss: 1.4637 - val_accuracy: 0.3767\n",
      "Epoch 19/50\n",
      "403/403 [==============================] - ETA: 0s - loss: 1.3719 - accuracy: 0.4073\n",
      "Epoch 19: val_accuracy did not improve from 0.39708\n",
      "403/403 [==============================] - 232s 574ms/step - loss: 1.3719 - accuracy: 0.4073 - val_loss: 1.4507 - val_accuracy: 0.3917\n",
      "Epoch 20/50\n",
      "403/403 [==============================] - ETA: 0s - loss: 1.3715 - accuracy: 0.4123\n",
      "Epoch 20: val_accuracy did not improve from 0.39708\n",
      "403/403 [==============================] - 252s 626ms/step - loss: 1.3715 - accuracy: 0.4123 - val_loss: 1.4647 - val_accuracy: 0.3795\n",
      "Epoch 21/50\n",
      "403/403 [==============================] - ETA: 0s - loss: 1.3672 - accuracy: 0.4039\n",
      "Epoch 21: val_accuracy did not improve from 0.39708\n",
      "403/403 [==============================] - 282s 700ms/step - loss: 1.3672 - accuracy: 0.4039 - val_loss: 1.4554 - val_accuracy: 0.3748\n",
      "Epoch 22/50\n",
      "403/403 [==============================] - ETA: 0s - loss: 1.3637 - accuracy: 0.4078Restoring model weights from the end of the best epoch: 12.\n",
      "\n",
      "Epoch 22: val_accuracy did not improve from 0.39708\n",
      "403/403 [==============================] - 257s 638ms/step - loss: 1.3637 - accuracy: 0.4078 - val_loss: 1.4457 - val_accuracy: 0.3920\n",
      "Epoch 22: early stopping\n"
     ]
    }
   ],
   "source": [
    "import tensorflow as tf\n",
    "from tensorflow.keras.preprocessing.image import ImageDataGenerator\n",
    "from tensorflow.keras.applications import MobileNetV2\n",
    "from tensorflow.keras.models import Model\n",
    "from tensorflow.keras.layers import GlobalAveragePooling2D, Dense, Dropout\n",
    "from tensorflow.keras.optimizers import Adam\n",
    "from tensorflow.keras.callbacks import EarlyStopping, ModelCheckpoint\n",
    "import os\n",
    "\n",
    "IMG_SIZE = 224\n",
    "BATCH_SIZE = 50\n",
    "NUM_CLASSES = 6\n",
    "EPOCHS = 50\n",
    "\n",
    "base_dir = \"dataset\"\n",
    "\n",
    "\n",
    "train_datagen = ImageDataGenerator(\n",
    "    rescale=1./255,\n",
    "    horizontal_flip=True,\n",
    "    rotation_range=20,\n",
    "    zoom_range=0.2,\n",
    "    width_shift_range=0.2,      \n",
    "    height_shift_range=0.2,\n",
    ")\n",
    "\n",
    "val_datagen = ImageDataGenerator(rescale=1./255)\n",
    "\n",
    "train_gen = train_datagen.flow_from_directory(\n",
    "    os.path.join(base_dir, \"train\"),\n",
    "    target_size=(IMG_SIZE, IMG_SIZE),\n",
    "    batch_size=BATCH_SIZE,\n",
    "    class_mode='categorical'\n",
    ")\n",
    "\n",
    "val_gen = val_datagen.flow_from_directory(\n",
    "    os.path.join(base_dir, \"val\"),\n",
    "    target_size=(IMG_SIZE, IMG_SIZE),\n",
    "    batch_size=BATCH_SIZE,\n",
    "    class_mode='categorical'\n",
    ")\n",
    "\n",
    "# Model\n",
    "base_model = MobileNetV2(weights='imagenet', include_top=False, input_shape=(IMG_SIZE, IMG_SIZE, 3))\n",
    "base_model.trainable = False  # Freeze base\n",
    "\n",
    "# x = base_model.output\n",
    "# x = GlobalAveragePooling2D()(x)\n",
    "# x = Dropout(0.5)(x)\n",
    "# output = Dense(NUM_CLASSES, activation='softmax')(x)\n",
    "\n",
    "# adding more layers\n",
    "x = base_model.output\n",
    "x = GlobalAveragePooling2D()(x)\n",
    "x = Dense(256, activation='relu')(x)\n",
    "x = Dropout(0.6)(x)\n",
    "x = Dense(128, activation='relu')(x)\n",
    "x = Dropout(0.4)(x)\n",
    "x = Dense(64, activation='relu')(x)\n",
    "x = Dropout(0.2)(x)\n",
    "\n",
    "output = Dense(NUM_CLASSES, activation='softmax')(x)\n",
    "model = Model(inputs=base_model.input, outputs=output)\n",
    "model.compile(\n",
    "    optimizer=Adam(learning_rate=0.001),\n",
    "    loss='categorical_crossentropy',\n",
    "    metrics=['accuracy']\n",
    ")\n",
    "\n",
    "callbacks = [\n",
    "    EarlyStopping(\n",
    "        monitor='val_accuracy',\n",
    "        patience=10,\n",
    "        restore_best_weights=True,\n",
    "        verbose=1\n",
    "    ),\n",
    "    ModelCheckpoint(\n",
    "        \"mobilenetv2_fitzpatrick_best2.h5\",\n",
    "        monitor='val_accuracy',\n",
    "        save_best_only=True,\n",
    "        verbose=1\n",
    "    )\n",
    "]\n",
    "\n",
    "history = model.fit(\n",
    "    train_gen,\n",
    "    epochs=EPOCHS,\n",
    "    validation_data=val_gen,\n",
    "    callbacks=callbacks\n",
    ")\n",
    "\n",
    "model.save(\"mobilenetv2_fitzpatrick_final2.h5\")\n"
   ]
  },
  {
   "cell_type": "code",
   "execution_count": null,
   "id": "MyEATDz0B7ME",
   "metadata": {
    "id": "MyEATDz0B7ME"
   },
   "outputs": [],
   "source": [
    "import tensorflow as tf\n",
    "from tensorflow.keras.preprocessing.image import ImageDataGenerator\n",
    "from tensorflow.keras.applications import MobileNetV2\n",
    "from tensorflow.keras.models import Model\n",
    "from tensorflow.keras.layers import GlobalAveragePooling2D, Dense, Dropout\n",
    "from tensorflow.keras.optimizers import Adam\n",
    "from tensorflow.keras.callbacks import EarlyStopping, ModelCheckpoint\n",
    "import os\n",
    "\n",
    "IMG_SIZE = 224\n",
    "BATCH_SIZE = 50\n",
    "NUM_CLASSES = 6\n",
    "EPOCHS = 50\n",
    "\n",
    "base_dir = \"dataset\"\n",
    "\n",
    "\n",
    "train_datagen = ImageDataGenerator(\n",
    "    rescale=1./255,\n",
    "    horizontal_flip=True,\n",
    "    rotation_range=20,\n",
    "    zoom_range=0.2,\n",
    "    width_shift_range=0.2,      \n",
    "    height_shift_range=0.2,\n",
    ")\n",
    "\n",
    "val_datagen = ImageDataGenerator(rescale=1./255)\n",
    "\n",
    "train_gen = train_datagen.flow_from_directory(\n",
    "    os.path.join(base_dir, \"train\"),\n",
    "    target_size=(IMG_SIZE, IMG_SIZE),\n",
    "    batch_size=BATCH_SIZE,\n",
    "    class_mode='categorical'\n",
    ")\n",
    "\n",
    "val_gen = val_datagen.flow_from_directory(\n",
    "    os.path.join(base_dir, \"val\"),\n",
    "    target_size=(IMG_SIZE, IMG_SIZE),\n",
    "    batch_size=BATCH_SIZE,\n",
    "    class_mode='categorical'\n",
    ")\n",
    "\n",
    "# Model\n",
    "base_model = MobileNetV2(weights='imagenet', include_top=False, input_shape=(IMG_SIZE, IMG_SIZE, 3))\n",
    "base_model.trainable = False  # Freeze base\n",
    "\n",
    "# x = base_model.output\n",
    "# x = GlobalAveragePooling2D()(x)\n",
    "# x = Dropout(0.5)(x)\n",
    "# output = Dense(NUM_CLASSES, activation='softmax')(x)\n",
    "\n",
    "# adding more layers\n",
    "x = base_model.output\n",
    "x = GlobalAveragePooling2D()(x)\n",
    "x = Dense(256, activation='relu')(x)\n",
    "x = Dropout(0.6)(x)\n",
    "x = Dense(128, activation='relu')(x)\n",
    "x = Dropout(0.4)(x)\n",
    "x = Dense(64, activation='relu')(x)\n",
    "# x = Dropout(0.2)(x)\n",
    "\n",
    "output = Dense(NUM_CLASSES, activation='softmax')(x)\n",
    "model = Model(inputs=base_model.input, outputs=output)\n",
    "model.compile(\n",
    "    optimizer=Adam(learning_rate=0.001),\n",
    "    loss='categorical_crossentropy',\n",
    "    metrics=['accuracy']\n",
    ")\n",
    "\n",
    "callbacks = [\n",
    "    EarlyStopping(\n",
    "        monitor='val_accuracy',\n",
    "        patience=10,\n",
    "        restore_best_weights=True,\n",
    "        verbose=1\n",
    "    ),\n",
    "    ModelCheckpoint(\n",
    "        \"mobilenetv2_fitzpatrick_best2.h5\",\n",
    "        monitor='val_accuracy',\n",
    "        save_best_only=True,\n",
    "        verbose=1\n",
    "    )\n",
    "]\n",
    "\n",
    "history = model.fit(\n",
    "    train_gen,\n",
    "    epochs=EPOCHS,\n",
    "    validation_data=val_gen,\n",
    "    callbacks=callbacks\n",
    ")\n",
    "\n",
    "model.save(\"mobilenetv2_fitzpatrick_final2.h5\")\n"
   ]
  }
 ],
 "metadata": {
  "accelerator": "GPU",
  "colab": {
   "gpuType": "T4",
   "provenance": []
  },
  "kernelspec": {
   "display_name": "tenv",
   "language": "python",
   "name": "python3"
  },
  "language_info": {
   "codemirror_mode": {
    "name": "ipython",
    "version": 3
   },
   "file_extension": ".py",
   "mimetype": "text/x-python",
   "name": "python",
   "nbconvert_exporter": "python",
   "pygments_lexer": "ipython3",
   "version": "3.10.11"
  }
 },
 "nbformat": 4,
 "nbformat_minor": 5
}
